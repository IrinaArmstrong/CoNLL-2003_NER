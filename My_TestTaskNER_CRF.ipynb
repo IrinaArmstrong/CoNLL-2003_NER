{
  "nbformat": 4,
  "nbformat_minor": 0,
  "metadata": {
    "colab": {
      "name": "My TestTaskNER_CRF.ipynb",
      "provenance": [],
      "collapsed_sections": [],
      "toc_visible": true,
      "include_colab_link": true
    },
    "kernelspec": {
      "name": "python3",
      "display_name": "Python 3"
    },
    "language_info": {
      "name": "python"
    },
    "widgets": {
      "application/vnd.jupyter.widget-state+json": {
        "b85b31f5a5b0430f9d75e636c0dcafe3": {
          "model_module": "@jupyter-widgets/controls",
          "model_name": "HBoxModel",
          "model_module_version": "1.5.0",
          "state": {
            "_view_name": "HBoxView",
            "_dom_classes": [],
            "_model_name": "HBoxModel",
            "_view_module": "@jupyter-widgets/controls",
            "_model_module_version": "1.5.0",
            "_view_count": null,
            "_view_module_version": "1.5.0",
            "box_style": "",
            "layout": "IPY_MODEL_8aefd494ae8548a2b5d9495512faf8d6",
            "_model_module": "@jupyter-widgets/controls",
            "children": [
              "IPY_MODEL_7c71e00fda9a44da8feff7f923905ae4",
              "IPY_MODEL_47f774a9bcfd4ee381fd03ada7776ef2",
              "IPY_MODEL_7056792907e44926a152760afd2be26f"
            ]
          }
        },
        "8aefd494ae8548a2b5d9495512faf8d6": {
          "model_module": "@jupyter-widgets/base",
          "model_name": "LayoutModel",
          "model_module_version": "1.2.0",
          "state": {
            "_view_name": "LayoutView",
            "grid_template_rows": null,
            "right": null,
            "justify_content": null,
            "_view_module": "@jupyter-widgets/base",
            "overflow": null,
            "_model_module_version": "1.2.0",
            "_view_count": null,
            "flex_flow": null,
            "width": null,
            "min_width": null,
            "border": null,
            "align_items": null,
            "bottom": null,
            "_model_module": "@jupyter-widgets/base",
            "top": null,
            "grid_column": null,
            "overflow_y": null,
            "overflow_x": null,
            "grid_auto_flow": null,
            "grid_area": null,
            "grid_template_columns": null,
            "flex": null,
            "_model_name": "LayoutModel",
            "justify_items": null,
            "grid_row": null,
            "max_height": null,
            "align_content": null,
            "visibility": null,
            "align_self": null,
            "height": null,
            "min_height": null,
            "padding": null,
            "grid_auto_rows": null,
            "grid_gap": null,
            "max_width": null,
            "order": null,
            "_view_module_version": "1.2.0",
            "grid_template_areas": null,
            "object_position": null,
            "object_fit": null,
            "grid_auto_columns": null,
            "margin": null,
            "display": null,
            "left": null
          }
        },
        "7c71e00fda9a44da8feff7f923905ae4": {
          "model_module": "@jupyter-widgets/controls",
          "model_name": "HTMLModel",
          "model_module_version": "1.5.0",
          "state": {
            "_view_name": "HTMLView",
            "style": "IPY_MODEL_b77796ae3c6e48849543aa37be36e55c",
            "_dom_classes": [],
            "description": "",
            "_model_name": "HTMLModel",
            "placeholder": "​",
            "_view_module": "@jupyter-widgets/controls",
            "_model_module_version": "1.5.0",
            "value": "Downloading: ",
            "_view_count": null,
            "_view_module_version": "1.5.0",
            "description_tooltip": null,
            "_model_module": "@jupyter-widgets/controls",
            "layout": "IPY_MODEL_4e368c6f81144d1aa0b96c0a90c282d4"
          }
        },
        "47f774a9bcfd4ee381fd03ada7776ef2": {
          "model_module": "@jupyter-widgets/controls",
          "model_name": "FloatProgressModel",
          "model_module_version": "1.5.0",
          "state": {
            "_view_name": "ProgressView",
            "style": "IPY_MODEL_9b20c42820de49079efa3a4c5aad9a3b",
            "_dom_classes": [],
            "description": "",
            "_model_name": "FloatProgressModel",
            "bar_style": "success",
            "max": 2482,
            "_view_module": "@jupyter-widgets/controls",
            "_model_module_version": "1.5.0",
            "value": 2482,
            "_view_count": null,
            "_view_module_version": "1.5.0",
            "orientation": "horizontal",
            "min": 0,
            "description_tooltip": null,
            "_model_module": "@jupyter-widgets/controls",
            "layout": "IPY_MODEL_088ea656f087459588b9a2a99dc337af"
          }
        },
        "7056792907e44926a152760afd2be26f": {
          "model_module": "@jupyter-widgets/controls",
          "model_name": "HTMLModel",
          "model_module_version": "1.5.0",
          "state": {
            "_view_name": "HTMLView",
            "style": "IPY_MODEL_2c60e384835c45199c55933959af7c13",
            "_dom_classes": [],
            "description": "",
            "_model_name": "HTMLModel",
            "placeholder": "​",
            "_view_module": "@jupyter-widgets/controls",
            "_model_module_version": "1.5.0",
            "value": " 6.34k/? [00:00&lt;00:00, 130kB/s]",
            "_view_count": null,
            "_view_module_version": "1.5.0",
            "description_tooltip": null,
            "_model_module": "@jupyter-widgets/controls",
            "layout": "IPY_MODEL_915f22239ac0442ba9289106b4f4c272"
          }
        },
        "b77796ae3c6e48849543aa37be36e55c": {
          "model_module": "@jupyter-widgets/controls",
          "model_name": "DescriptionStyleModel",
          "model_module_version": "1.5.0",
          "state": {
            "_view_name": "StyleView",
            "_model_name": "DescriptionStyleModel",
            "description_width": "",
            "_view_module": "@jupyter-widgets/base",
            "_model_module_version": "1.5.0",
            "_view_count": null,
            "_view_module_version": "1.2.0",
            "_model_module": "@jupyter-widgets/controls"
          }
        },
        "4e368c6f81144d1aa0b96c0a90c282d4": {
          "model_module": "@jupyter-widgets/base",
          "model_name": "LayoutModel",
          "model_module_version": "1.2.0",
          "state": {
            "_view_name": "LayoutView",
            "grid_template_rows": null,
            "right": null,
            "justify_content": null,
            "_view_module": "@jupyter-widgets/base",
            "overflow": null,
            "_model_module_version": "1.2.0",
            "_view_count": null,
            "flex_flow": null,
            "width": null,
            "min_width": null,
            "border": null,
            "align_items": null,
            "bottom": null,
            "_model_module": "@jupyter-widgets/base",
            "top": null,
            "grid_column": null,
            "overflow_y": null,
            "overflow_x": null,
            "grid_auto_flow": null,
            "grid_area": null,
            "grid_template_columns": null,
            "flex": null,
            "_model_name": "LayoutModel",
            "justify_items": null,
            "grid_row": null,
            "max_height": null,
            "align_content": null,
            "visibility": null,
            "align_self": null,
            "height": null,
            "min_height": null,
            "padding": null,
            "grid_auto_rows": null,
            "grid_gap": null,
            "max_width": null,
            "order": null,
            "_view_module_version": "1.2.0",
            "grid_template_areas": null,
            "object_position": null,
            "object_fit": null,
            "grid_auto_columns": null,
            "margin": null,
            "display": null,
            "left": null
          }
        },
        "9b20c42820de49079efa3a4c5aad9a3b": {
          "model_module": "@jupyter-widgets/controls",
          "model_name": "ProgressStyleModel",
          "model_module_version": "1.5.0",
          "state": {
            "_view_name": "StyleView",
            "_model_name": "ProgressStyleModel",
            "description_width": "",
            "_view_module": "@jupyter-widgets/base",
            "_model_module_version": "1.5.0",
            "_view_count": null,
            "_view_module_version": "1.2.0",
            "bar_color": null,
            "_model_module": "@jupyter-widgets/controls"
          }
        },
        "088ea656f087459588b9a2a99dc337af": {
          "model_module": "@jupyter-widgets/base",
          "model_name": "LayoutModel",
          "model_module_version": "1.2.0",
          "state": {
            "_view_name": "LayoutView",
            "grid_template_rows": null,
            "right": null,
            "justify_content": null,
            "_view_module": "@jupyter-widgets/base",
            "overflow": null,
            "_model_module_version": "1.2.0",
            "_view_count": null,
            "flex_flow": null,
            "width": null,
            "min_width": null,
            "border": null,
            "align_items": null,
            "bottom": null,
            "_model_module": "@jupyter-widgets/base",
            "top": null,
            "grid_column": null,
            "overflow_y": null,
            "overflow_x": null,
            "grid_auto_flow": null,
            "grid_area": null,
            "grid_template_columns": null,
            "flex": null,
            "_model_name": "LayoutModel",
            "justify_items": null,
            "grid_row": null,
            "max_height": null,
            "align_content": null,
            "visibility": null,
            "align_self": null,
            "height": null,
            "min_height": null,
            "padding": null,
            "grid_auto_rows": null,
            "grid_gap": null,
            "max_width": null,
            "order": null,
            "_view_module_version": "1.2.0",
            "grid_template_areas": null,
            "object_position": null,
            "object_fit": null,
            "grid_auto_columns": null,
            "margin": null,
            "display": null,
            "left": null
          }
        },
        "2c60e384835c45199c55933959af7c13": {
          "model_module": "@jupyter-widgets/controls",
          "model_name": "DescriptionStyleModel",
          "model_module_version": "1.5.0",
          "state": {
            "_view_name": "StyleView",
            "_model_name": "DescriptionStyleModel",
            "description_width": "",
            "_view_module": "@jupyter-widgets/base",
            "_model_module_version": "1.5.0",
            "_view_count": null,
            "_view_module_version": "1.2.0",
            "_model_module": "@jupyter-widgets/controls"
          }
        },
        "915f22239ac0442ba9289106b4f4c272": {
          "model_module": "@jupyter-widgets/base",
          "model_name": "LayoutModel",
          "model_module_version": "1.2.0",
          "state": {
            "_view_name": "LayoutView",
            "grid_template_rows": null,
            "right": null,
            "justify_content": null,
            "_view_module": "@jupyter-widgets/base",
            "overflow": null,
            "_model_module_version": "1.2.0",
            "_view_count": null,
            "flex_flow": null,
            "width": null,
            "min_width": null,
            "border": null,
            "align_items": null,
            "bottom": null,
            "_model_module": "@jupyter-widgets/base",
            "top": null,
            "grid_column": null,
            "overflow_y": null,
            "overflow_x": null,
            "grid_auto_flow": null,
            "grid_area": null,
            "grid_template_columns": null,
            "flex": null,
            "_model_name": "LayoutModel",
            "justify_items": null,
            "grid_row": null,
            "max_height": null,
            "align_content": null,
            "visibility": null,
            "align_self": null,
            "height": null,
            "min_height": null,
            "padding": null,
            "grid_auto_rows": null,
            "grid_gap": null,
            "max_width": null,
            "order": null,
            "_view_module_version": "1.2.0",
            "grid_template_areas": null,
            "object_position": null,
            "object_fit": null,
            "grid_auto_columns": null,
            "margin": null,
            "display": null,
            "left": null
          }
        },
        "be47df332586464a9b48a369d8b64f07": {
          "model_module": "@jupyter-widgets/controls",
          "model_name": "HBoxModel",
          "model_module_version": "1.5.0",
          "state": {
            "_view_name": "HBoxView",
            "_dom_classes": [],
            "_model_name": "HBoxModel",
            "_view_module": "@jupyter-widgets/controls",
            "_model_module_version": "1.5.0",
            "_view_count": null,
            "_view_module_version": "1.5.0",
            "box_style": "",
            "layout": "IPY_MODEL_c6eba450d3d742cdb5414717fc0ee163",
            "_model_module": "@jupyter-widgets/controls",
            "children": [
              "IPY_MODEL_3c5c1a6d820845b7b030187c1587bff5",
              "IPY_MODEL_a363cb49e51f484fa6657cb4d0b7f538",
              "IPY_MODEL_49c2488c67fb4234bf1a5e91f513b580"
            ]
          }
        },
        "c6eba450d3d742cdb5414717fc0ee163": {
          "model_module": "@jupyter-widgets/base",
          "model_name": "LayoutModel",
          "model_module_version": "1.2.0",
          "state": {
            "_view_name": "LayoutView",
            "grid_template_rows": null,
            "right": null,
            "justify_content": null,
            "_view_module": "@jupyter-widgets/base",
            "overflow": null,
            "_model_module_version": "1.2.0",
            "_view_count": null,
            "flex_flow": "row wrap",
            "width": "100%",
            "min_width": null,
            "border": null,
            "align_items": null,
            "bottom": null,
            "_model_module": "@jupyter-widgets/base",
            "top": null,
            "grid_column": null,
            "overflow_y": null,
            "overflow_x": null,
            "grid_auto_flow": null,
            "grid_area": null,
            "grid_template_columns": null,
            "flex": null,
            "_model_name": "LayoutModel",
            "justify_items": null,
            "grid_row": null,
            "max_height": null,
            "align_content": null,
            "visibility": null,
            "align_self": null,
            "height": null,
            "min_height": null,
            "padding": null,
            "grid_auto_rows": null,
            "grid_gap": null,
            "max_width": null,
            "order": null,
            "_view_module_version": "1.2.0",
            "grid_template_areas": null,
            "object_position": null,
            "object_fit": null,
            "grid_auto_columns": null,
            "margin": null,
            "display": "inline-flex",
            "left": null
          }
        },
        "3c5c1a6d820845b7b030187c1587bff5": {
          "model_module": "@jupyter-widgets/controls",
          "model_name": "HTMLModel",
          "model_module_version": "1.5.0",
          "state": {
            "_view_name": "HTMLView",
            "style": "IPY_MODEL_cbeadbae5e684720a081d53d5889c3b6",
            "_dom_classes": [],
            "description": "",
            "_model_name": "HTMLModel",
            "placeholder": "​",
            "_view_module": "@jupyter-widgets/controls",
            "_model_module_version": "1.5.0",
            "value": "Validation sanity check:   0%",
            "_view_count": null,
            "_view_module_version": "1.5.0",
            "description_tooltip": null,
            "_model_module": "@jupyter-widgets/controls",
            "layout": "IPY_MODEL_db90c024ac7b4658a18fc012a1d04354"
          }
        },
        "a363cb49e51f484fa6657cb4d0b7f538": {
          "model_module": "@jupyter-widgets/controls",
          "model_name": "FloatProgressModel",
          "model_module_version": "1.5.0",
          "state": {
            "_view_name": "ProgressView",
            "style": "IPY_MODEL_31ece5f269b444c38c1989ed26413fac",
            "_dom_classes": [],
            "description": "",
            "_model_name": "FloatProgressModel",
            "bar_style": "danger",
            "max": 2,
            "_view_module": "@jupyter-widgets/controls",
            "_model_module_version": "1.5.0",
            "value": 0,
            "_view_count": null,
            "_view_module_version": "1.5.0",
            "orientation": "horizontal",
            "min": 0,
            "description_tooltip": null,
            "_model_module": "@jupyter-widgets/controls",
            "layout": "IPY_MODEL_770b11efa92f4ef9b2eb2090085a4864"
          }
        },
        "49c2488c67fb4234bf1a5e91f513b580": {
          "model_module": "@jupyter-widgets/controls",
          "model_name": "HTMLModel",
          "model_module_version": "1.5.0",
          "state": {
            "_view_name": "HTMLView",
            "style": "IPY_MODEL_33bb751a3f5243f8afdd3cd9e69ac6b9",
            "_dom_classes": [],
            "description": "",
            "_model_name": "HTMLModel",
            "placeholder": "​",
            "_view_module": "@jupyter-widgets/controls",
            "_model_module_version": "1.5.0",
            "value": " 0/2 [00:00&lt;?, ?it/s]",
            "_view_count": null,
            "_view_module_version": "1.5.0",
            "description_tooltip": null,
            "_model_module": "@jupyter-widgets/controls",
            "layout": "IPY_MODEL_b9b801d87de54850af3e1bb3bfb0657b"
          }
        },
        "cbeadbae5e684720a081d53d5889c3b6": {
          "model_module": "@jupyter-widgets/controls",
          "model_name": "DescriptionStyleModel",
          "model_module_version": "1.5.0",
          "state": {
            "_view_name": "StyleView",
            "_model_name": "DescriptionStyleModel",
            "description_width": "",
            "_view_module": "@jupyter-widgets/base",
            "_model_module_version": "1.5.0",
            "_view_count": null,
            "_view_module_version": "1.2.0",
            "_model_module": "@jupyter-widgets/controls"
          }
        },
        "db90c024ac7b4658a18fc012a1d04354": {
          "model_module": "@jupyter-widgets/base",
          "model_name": "LayoutModel",
          "model_module_version": "1.2.0",
          "state": {
            "_view_name": "LayoutView",
            "grid_template_rows": null,
            "right": null,
            "justify_content": null,
            "_view_module": "@jupyter-widgets/base",
            "overflow": null,
            "_model_module_version": "1.2.0",
            "_view_count": null,
            "flex_flow": null,
            "width": null,
            "min_width": null,
            "border": null,
            "align_items": null,
            "bottom": null,
            "_model_module": "@jupyter-widgets/base",
            "top": null,
            "grid_column": null,
            "overflow_y": null,
            "overflow_x": null,
            "grid_auto_flow": null,
            "grid_area": null,
            "grid_template_columns": null,
            "flex": null,
            "_model_name": "LayoutModel",
            "justify_items": null,
            "grid_row": null,
            "max_height": null,
            "align_content": null,
            "visibility": null,
            "align_self": null,
            "height": null,
            "min_height": null,
            "padding": null,
            "grid_auto_rows": null,
            "grid_gap": null,
            "max_width": null,
            "order": null,
            "_view_module_version": "1.2.0",
            "grid_template_areas": null,
            "object_position": null,
            "object_fit": null,
            "grid_auto_columns": null,
            "margin": null,
            "display": null,
            "left": null
          }
        },
        "31ece5f269b444c38c1989ed26413fac": {
          "model_module": "@jupyter-widgets/controls",
          "model_name": "ProgressStyleModel",
          "model_module_version": "1.5.0",
          "state": {
            "_view_name": "StyleView",
            "_model_name": "ProgressStyleModel",
            "description_width": "",
            "_view_module": "@jupyter-widgets/base",
            "_model_module_version": "1.5.0",
            "_view_count": null,
            "_view_module_version": "1.2.0",
            "bar_color": null,
            "_model_module": "@jupyter-widgets/controls"
          }
        },
        "770b11efa92f4ef9b2eb2090085a4864": {
          "model_module": "@jupyter-widgets/base",
          "model_name": "LayoutModel",
          "model_module_version": "1.2.0",
          "state": {
            "_view_name": "LayoutView",
            "grid_template_rows": null,
            "right": null,
            "justify_content": null,
            "_view_module": "@jupyter-widgets/base",
            "overflow": null,
            "_model_module_version": "1.2.0",
            "_view_count": null,
            "flex_flow": null,
            "width": null,
            "min_width": null,
            "border": null,
            "align_items": null,
            "bottom": null,
            "_model_module": "@jupyter-widgets/base",
            "top": null,
            "grid_column": null,
            "overflow_y": null,
            "overflow_x": null,
            "grid_auto_flow": null,
            "grid_area": null,
            "grid_template_columns": null,
            "flex": "2",
            "_model_name": "LayoutModel",
            "justify_items": null,
            "grid_row": null,
            "max_height": null,
            "align_content": null,
            "visibility": null,
            "align_self": null,
            "height": null,
            "min_height": null,
            "padding": null,
            "grid_auto_rows": null,
            "grid_gap": null,
            "max_width": null,
            "order": null,
            "_view_module_version": "1.2.0",
            "grid_template_areas": null,
            "object_position": null,
            "object_fit": null,
            "grid_auto_columns": null,
            "margin": null,
            "display": null,
            "left": null
          }
        },
        "33bb751a3f5243f8afdd3cd9e69ac6b9": {
          "model_module": "@jupyter-widgets/controls",
          "model_name": "DescriptionStyleModel",
          "model_module_version": "1.5.0",
          "state": {
            "_view_name": "StyleView",
            "_model_name": "DescriptionStyleModel",
            "description_width": "",
            "_view_module": "@jupyter-widgets/base",
            "_model_module_version": "1.5.0",
            "_view_count": null,
            "_view_module_version": "1.2.0",
            "_model_module": "@jupyter-widgets/controls"
          }
        },
        "b9b801d87de54850af3e1bb3bfb0657b": {
          "model_module": "@jupyter-widgets/base",
          "model_name": "LayoutModel",
          "model_module_version": "1.2.0",
          "state": {
            "_view_name": "LayoutView",
            "grid_template_rows": null,
            "right": null,
            "justify_content": null,
            "_view_module": "@jupyter-widgets/base",
            "overflow": null,
            "_model_module_version": "1.2.0",
            "_view_count": null,
            "flex_flow": null,
            "width": null,
            "min_width": null,
            "border": null,
            "align_items": null,
            "bottom": null,
            "_model_module": "@jupyter-widgets/base",
            "top": null,
            "grid_column": null,
            "overflow_y": null,
            "overflow_x": null,
            "grid_auto_flow": null,
            "grid_area": null,
            "grid_template_columns": null,
            "flex": null,
            "_model_name": "LayoutModel",
            "justify_items": null,
            "grid_row": null,
            "max_height": null,
            "align_content": null,
            "visibility": null,
            "align_self": null,
            "height": null,
            "min_height": null,
            "padding": null,
            "grid_auto_rows": null,
            "grid_gap": null,
            "max_width": null,
            "order": null,
            "_view_module_version": "1.2.0",
            "grid_template_areas": null,
            "object_position": null,
            "object_fit": null,
            "grid_auto_columns": null,
            "margin": null,
            "display": null,
            "left": null
          }
        },
        "6a6770432df24856ade15bb9a619dbe8": {
          "model_module": "@jupyter-widgets/controls",
          "model_name": "HBoxModel",
          "model_module_version": "1.5.0",
          "state": {
            "_view_name": "HBoxView",
            "_dom_classes": [],
            "_model_name": "HBoxModel",
            "_view_module": "@jupyter-widgets/controls",
            "_model_module_version": "1.5.0",
            "_view_count": null,
            "_view_module_version": "1.5.0",
            "box_style": "",
            "layout": "IPY_MODEL_27fc49713b33450c88d0bde6350d6efd",
            "_model_module": "@jupyter-widgets/controls",
            "children": [
              "IPY_MODEL_ac1746dfb3164887b249b37723fadcb4",
              "IPY_MODEL_0496f554375f447bbf3ac52348ca0250",
              "IPY_MODEL_1cc8f4163b364ade828dd9a28751b57b"
            ]
          }
        },
        "27fc49713b33450c88d0bde6350d6efd": {
          "model_module": "@jupyter-widgets/base",
          "model_name": "LayoutModel",
          "model_module_version": "1.2.0",
          "state": {
            "_view_name": "LayoutView",
            "grid_template_rows": null,
            "right": null,
            "justify_content": null,
            "_view_module": "@jupyter-widgets/base",
            "overflow": null,
            "_model_module_version": "1.2.0",
            "_view_count": null,
            "flex_flow": "row wrap",
            "width": "100%",
            "min_width": null,
            "border": null,
            "align_items": null,
            "bottom": null,
            "_model_module": "@jupyter-widgets/base",
            "top": null,
            "grid_column": null,
            "overflow_y": null,
            "overflow_x": null,
            "grid_auto_flow": null,
            "grid_area": null,
            "grid_template_columns": null,
            "flex": null,
            "_model_name": "LayoutModel",
            "justify_items": null,
            "grid_row": null,
            "max_height": null,
            "align_content": null,
            "visibility": null,
            "align_self": null,
            "height": null,
            "min_height": null,
            "padding": null,
            "grid_auto_rows": null,
            "grid_gap": null,
            "max_width": null,
            "order": null,
            "_view_module_version": "1.2.0",
            "grid_template_areas": null,
            "object_position": null,
            "object_fit": null,
            "grid_auto_columns": null,
            "margin": null,
            "display": "inline-flex",
            "left": null
          }
        },
        "ac1746dfb3164887b249b37723fadcb4": {
          "model_module": "@jupyter-widgets/controls",
          "model_name": "HTMLModel",
          "model_module_version": "1.5.0",
          "state": {
            "_view_name": "HTMLView",
            "style": "IPY_MODEL_646ac7a885fc4a96b54b9b7deb95f8c5",
            "_dom_classes": [],
            "description": "",
            "_model_name": "HTMLModel",
            "placeholder": "​",
            "_view_module": "@jupyter-widgets/controls",
            "_model_module_version": "1.5.0",
            "value": "Epoch 8: 100%",
            "_view_count": null,
            "_view_module_version": "1.5.0",
            "description_tooltip": null,
            "_model_module": "@jupyter-widgets/controls",
            "layout": "IPY_MODEL_1afed79184214526b8c21cc2cdfe56ea"
          }
        },
        "0496f554375f447bbf3ac52348ca0250": {
          "model_module": "@jupyter-widgets/controls",
          "model_name": "FloatProgressModel",
          "model_module_version": "1.5.0",
          "state": {
            "_view_name": "ProgressView",
            "style": "IPY_MODEL_526b0bb2e0194f79a9f4b6417c968c6d",
            "_dom_classes": [],
            "description": "",
            "_model_name": "FloatProgressModel",
            "bar_style": "success",
            "max": 1082,
            "_view_module": "@jupyter-widgets/controls",
            "_model_module_version": "1.5.0",
            "value": 1082,
            "_view_count": null,
            "_view_module_version": "1.5.0",
            "orientation": "horizontal",
            "min": 0,
            "description_tooltip": null,
            "_model_module": "@jupyter-widgets/controls",
            "layout": "IPY_MODEL_9cc5d5d5cb534e41affcb1f70ea1d2b5"
          }
        },
        "1cc8f4163b364ade828dd9a28751b57b": {
          "model_module": "@jupyter-widgets/controls",
          "model_name": "HTMLModel",
          "model_module_version": "1.5.0",
          "state": {
            "_view_name": "HTMLView",
            "style": "IPY_MODEL_7fb0c255fe284295bf1cb8a26740d4e6",
            "_dom_classes": [],
            "description": "",
            "_model_name": "HTMLModel",
            "placeholder": "​",
            "_view_module": "@jupyter-widgets/controls",
            "_model_module_version": "1.5.0",
            "value": " 1082/1082 [05:59&lt;00:00,  3.01it/s, loss=-0.446, v_num=1, val_LOC_f1=0.953, val_MISC_f1=0.861, val_ORG_f1=0.846, val_PER_f1=0.960, val_overall_precision=0.944, val_overall_recall=0.947, val_overall_f1=0.945, val_overall_accuracy=0.991, val_loss=-.0962, train_LOC_f1=0.990, train_MISC_f1=0.962, train_ORG_f1=0.961, train_PER_f1=0.987, train_overall_precision=0.986, train_overall_recall=0.984, train_overall_f1=0.985, train_overall_accuracy=0.998, train_loss=-.646]",
            "_view_count": null,
            "_view_module_version": "1.5.0",
            "description_tooltip": null,
            "_model_module": "@jupyter-widgets/controls",
            "layout": "IPY_MODEL_db06d2a6ddb4482c8064404df226ad7e"
          }
        },
        "646ac7a885fc4a96b54b9b7deb95f8c5": {
          "model_module": "@jupyter-widgets/controls",
          "model_name": "DescriptionStyleModel",
          "model_module_version": "1.5.0",
          "state": {
            "_view_name": "StyleView",
            "_model_name": "DescriptionStyleModel",
            "description_width": "",
            "_view_module": "@jupyter-widgets/base",
            "_model_module_version": "1.5.0",
            "_view_count": null,
            "_view_module_version": "1.2.0",
            "_model_module": "@jupyter-widgets/controls"
          }
        },
        "1afed79184214526b8c21cc2cdfe56ea": {
          "model_module": "@jupyter-widgets/base",
          "model_name": "LayoutModel",
          "model_module_version": "1.2.0",
          "state": {
            "_view_name": "LayoutView",
            "grid_template_rows": null,
            "right": null,
            "justify_content": null,
            "_view_module": "@jupyter-widgets/base",
            "overflow": null,
            "_model_module_version": "1.2.0",
            "_view_count": null,
            "flex_flow": null,
            "width": null,
            "min_width": null,
            "border": null,
            "align_items": null,
            "bottom": null,
            "_model_module": "@jupyter-widgets/base",
            "top": null,
            "grid_column": null,
            "overflow_y": null,
            "overflow_x": null,
            "grid_auto_flow": null,
            "grid_area": null,
            "grid_template_columns": null,
            "flex": null,
            "_model_name": "LayoutModel",
            "justify_items": null,
            "grid_row": null,
            "max_height": null,
            "align_content": null,
            "visibility": null,
            "align_self": null,
            "height": null,
            "min_height": null,
            "padding": null,
            "grid_auto_rows": null,
            "grid_gap": null,
            "max_width": null,
            "order": null,
            "_view_module_version": "1.2.0",
            "grid_template_areas": null,
            "object_position": null,
            "object_fit": null,
            "grid_auto_columns": null,
            "margin": null,
            "display": null,
            "left": null
          }
        },
        "526b0bb2e0194f79a9f4b6417c968c6d": {
          "model_module": "@jupyter-widgets/controls",
          "model_name": "ProgressStyleModel",
          "model_module_version": "1.5.0",
          "state": {
            "_view_name": "StyleView",
            "_model_name": "ProgressStyleModel",
            "description_width": "",
            "_view_module": "@jupyter-widgets/base",
            "_model_module_version": "1.5.0",
            "_view_count": null,
            "_view_module_version": "1.2.0",
            "bar_color": null,
            "_model_module": "@jupyter-widgets/controls"
          }
        },
        "9cc5d5d5cb534e41affcb1f70ea1d2b5": {
          "model_module": "@jupyter-widgets/base",
          "model_name": "LayoutModel",
          "model_module_version": "1.2.0",
          "state": {
            "_view_name": "LayoutView",
            "grid_template_rows": null,
            "right": null,
            "justify_content": null,
            "_view_module": "@jupyter-widgets/base",
            "overflow": null,
            "_model_module_version": "1.2.0",
            "_view_count": null,
            "flex_flow": null,
            "width": null,
            "min_width": null,
            "border": null,
            "align_items": null,
            "bottom": null,
            "_model_module": "@jupyter-widgets/base",
            "top": null,
            "grid_column": null,
            "overflow_y": null,
            "overflow_x": null,
            "grid_auto_flow": null,
            "grid_area": null,
            "grid_template_columns": null,
            "flex": "2",
            "_model_name": "LayoutModel",
            "justify_items": null,
            "grid_row": null,
            "max_height": null,
            "align_content": null,
            "visibility": null,
            "align_self": null,
            "height": null,
            "min_height": null,
            "padding": null,
            "grid_auto_rows": null,
            "grid_gap": null,
            "max_width": null,
            "order": null,
            "_view_module_version": "1.2.0",
            "grid_template_areas": null,
            "object_position": null,
            "object_fit": null,
            "grid_auto_columns": null,
            "margin": null,
            "display": null,
            "left": null
          }
        },
        "7fb0c255fe284295bf1cb8a26740d4e6": {
          "model_module": "@jupyter-widgets/controls",
          "model_name": "DescriptionStyleModel",
          "model_module_version": "1.5.0",
          "state": {
            "_view_name": "StyleView",
            "_model_name": "DescriptionStyleModel",
            "description_width": "",
            "_view_module": "@jupyter-widgets/base",
            "_model_module_version": "1.5.0",
            "_view_count": null,
            "_view_module_version": "1.2.0",
            "_model_module": "@jupyter-widgets/controls"
          }
        },
        "db06d2a6ddb4482c8064404df226ad7e": {
          "model_module": "@jupyter-widgets/base",
          "model_name": "LayoutModel",
          "model_module_version": "1.2.0",
          "state": {
            "_view_name": "LayoutView",
            "grid_template_rows": null,
            "right": null,
            "justify_content": null,
            "_view_module": "@jupyter-widgets/base",
            "overflow": null,
            "_model_module_version": "1.2.0",
            "_view_count": null,
            "flex_flow": null,
            "width": null,
            "min_width": null,
            "border": null,
            "align_items": null,
            "bottom": null,
            "_model_module": "@jupyter-widgets/base",
            "top": null,
            "grid_column": null,
            "overflow_y": null,
            "overflow_x": null,
            "grid_auto_flow": null,
            "grid_area": null,
            "grid_template_columns": null,
            "flex": null,
            "_model_name": "LayoutModel",
            "justify_items": null,
            "grid_row": null,
            "max_height": null,
            "align_content": null,
            "visibility": null,
            "align_self": null,
            "height": null,
            "min_height": null,
            "padding": null,
            "grid_auto_rows": null,
            "grid_gap": null,
            "max_width": null,
            "order": null,
            "_view_module_version": "1.2.0",
            "grid_template_areas": null,
            "object_position": null,
            "object_fit": null,
            "grid_auto_columns": null,
            "margin": null,
            "display": null,
            "left": null
          }
        },
        "5be4cd16a7134e8fab4b35fbadd39096": {
          "model_module": "@jupyter-widgets/controls",
          "model_name": "HBoxModel",
          "model_module_version": "1.5.0",
          "state": {
            "_view_name": "HBoxView",
            "_dom_classes": [],
            "_model_name": "HBoxModel",
            "_view_module": "@jupyter-widgets/controls",
            "_model_module_version": "1.5.0",
            "_view_count": null,
            "_view_module_version": "1.5.0",
            "box_style": "",
            "layout": "IPY_MODEL_3af3bd275e2d4fe496027f67e90103a8",
            "_model_module": "@jupyter-widgets/controls",
            "children": [
              "IPY_MODEL_3a11dd3d1d684b05862a5ab02fc09e8c",
              "IPY_MODEL_8c7a778a20374d20ad3e59f822798bfb",
              "IPY_MODEL_3c3c880dfb744801bfd7ba0dde13621e"
            ]
          }
        },
        "3af3bd275e2d4fe496027f67e90103a8": {
          "model_module": "@jupyter-widgets/base",
          "model_name": "LayoutModel",
          "model_module_version": "1.2.0",
          "state": {
            "_view_name": "LayoutView",
            "grid_template_rows": null,
            "right": null,
            "justify_content": null,
            "_view_module": "@jupyter-widgets/base",
            "overflow": null,
            "_model_module_version": "1.2.0",
            "_view_count": null,
            "flex_flow": "row wrap",
            "width": "100%",
            "min_width": null,
            "border": null,
            "align_items": null,
            "bottom": null,
            "_model_module": "@jupyter-widgets/base",
            "top": null,
            "grid_column": null,
            "overflow_y": null,
            "overflow_x": null,
            "grid_auto_flow": null,
            "grid_area": null,
            "grid_template_columns": null,
            "flex": null,
            "_model_name": "LayoutModel",
            "justify_items": null,
            "grid_row": null,
            "max_height": null,
            "align_content": null,
            "visibility": null,
            "align_self": null,
            "height": null,
            "min_height": null,
            "padding": null,
            "grid_auto_rows": null,
            "grid_gap": null,
            "max_width": null,
            "order": null,
            "_view_module_version": "1.2.0",
            "grid_template_areas": null,
            "object_position": null,
            "object_fit": null,
            "grid_auto_columns": null,
            "margin": null,
            "display": "inline-flex",
            "left": null
          }
        },
        "3a11dd3d1d684b05862a5ab02fc09e8c": {
          "model_module": "@jupyter-widgets/controls",
          "model_name": "HTMLModel",
          "model_module_version": "1.5.0",
          "state": {
            "_view_name": "HTMLView",
            "style": "IPY_MODEL_fe1a494e64a441859303c38c49b43088",
            "_dom_classes": [],
            "description": "",
            "_model_name": "HTMLModel",
            "placeholder": "​",
            "_view_module": "@jupyter-widgets/controls",
            "_model_module_version": "1.5.0",
            "value": "Validating: 100%",
            "_view_count": null,
            "_view_module_version": "1.5.0",
            "description_tooltip": null,
            "_model_module": "@jupyter-widgets/controls",
            "layout": "IPY_MODEL_c343251554f949b88462f6fcdfd2549b"
          }
        },
        "8c7a778a20374d20ad3e59f822798bfb": {
          "model_module": "@jupyter-widgets/controls",
          "model_name": "FloatProgressModel",
          "model_module_version": "1.5.0",
          "state": {
            "_view_name": "ProgressView",
            "style": "IPY_MODEL_4d878d935639402d844ec547750c1f1b",
            "_dom_classes": [],
            "description": "",
            "_model_name": "FloatProgressModel",
            "bar_style": "",
            "max": 204,
            "_view_module": "@jupyter-widgets/controls",
            "_model_module_version": "1.5.0",
            "value": 204,
            "_view_count": null,
            "_view_module_version": "1.5.0",
            "orientation": "horizontal",
            "min": 0,
            "description_tooltip": null,
            "_model_module": "@jupyter-widgets/controls",
            "layout": "IPY_MODEL_541d6c7e1dd343909414f9ea56d42574"
          }
        },
        "3c3c880dfb744801bfd7ba0dde13621e": {
          "model_module": "@jupyter-widgets/controls",
          "model_name": "HTMLModel",
          "model_module_version": "1.5.0",
          "state": {
            "_view_name": "HTMLView",
            "style": "IPY_MODEL_4c21b794e6d641b9aa1e790fdf9dc054",
            "_dom_classes": [],
            "description": "",
            "_model_name": "HTMLModel",
            "placeholder": "​",
            "_view_module": "@jupyter-widgets/controls",
            "_model_module_version": "1.5.0",
            "value": " 204/204 [00:28&lt;00:00,  6.85it/s]",
            "_view_count": null,
            "_view_module_version": "1.5.0",
            "description_tooltip": null,
            "_model_module": "@jupyter-widgets/controls",
            "layout": "IPY_MODEL_249ba55b766b4f07ba79cdbe78b31a02"
          }
        },
        "fe1a494e64a441859303c38c49b43088": {
          "model_module": "@jupyter-widgets/controls",
          "model_name": "DescriptionStyleModel",
          "model_module_version": "1.5.0",
          "state": {
            "_view_name": "StyleView",
            "_model_name": "DescriptionStyleModel",
            "description_width": "",
            "_view_module": "@jupyter-widgets/base",
            "_model_module_version": "1.5.0",
            "_view_count": null,
            "_view_module_version": "1.2.0",
            "_model_module": "@jupyter-widgets/controls"
          }
        },
        "c343251554f949b88462f6fcdfd2549b": {
          "model_module": "@jupyter-widgets/base",
          "model_name": "LayoutModel",
          "model_module_version": "1.2.0",
          "state": {
            "_view_name": "LayoutView",
            "grid_template_rows": null,
            "right": null,
            "justify_content": null,
            "_view_module": "@jupyter-widgets/base",
            "overflow": null,
            "_model_module_version": "1.2.0",
            "_view_count": null,
            "flex_flow": null,
            "width": null,
            "min_width": null,
            "border": null,
            "align_items": null,
            "bottom": null,
            "_model_module": "@jupyter-widgets/base",
            "top": null,
            "grid_column": null,
            "overflow_y": null,
            "overflow_x": null,
            "grid_auto_flow": null,
            "grid_area": null,
            "grid_template_columns": null,
            "flex": null,
            "_model_name": "LayoutModel",
            "justify_items": null,
            "grid_row": null,
            "max_height": null,
            "align_content": null,
            "visibility": null,
            "align_self": null,
            "height": null,
            "min_height": null,
            "padding": null,
            "grid_auto_rows": null,
            "grid_gap": null,
            "max_width": null,
            "order": null,
            "_view_module_version": "1.2.0",
            "grid_template_areas": null,
            "object_position": null,
            "object_fit": null,
            "grid_auto_columns": null,
            "margin": null,
            "display": null,
            "left": null
          }
        },
        "4d878d935639402d844ec547750c1f1b": {
          "model_module": "@jupyter-widgets/controls",
          "model_name": "ProgressStyleModel",
          "model_module_version": "1.5.0",
          "state": {
            "_view_name": "StyleView",
            "_model_name": "ProgressStyleModel",
            "description_width": "",
            "_view_module": "@jupyter-widgets/base",
            "_model_module_version": "1.5.0",
            "_view_count": null,
            "_view_module_version": "1.2.0",
            "bar_color": null,
            "_model_module": "@jupyter-widgets/controls"
          }
        },
        "541d6c7e1dd343909414f9ea56d42574": {
          "model_module": "@jupyter-widgets/base",
          "model_name": "LayoutModel",
          "model_module_version": "1.2.0",
          "state": {
            "_view_name": "LayoutView",
            "grid_template_rows": null,
            "right": null,
            "justify_content": null,
            "_view_module": "@jupyter-widgets/base",
            "overflow": null,
            "_model_module_version": "1.2.0",
            "_view_count": null,
            "flex_flow": null,
            "width": null,
            "min_width": null,
            "border": null,
            "align_items": null,
            "bottom": null,
            "_model_module": "@jupyter-widgets/base",
            "top": null,
            "grid_column": null,
            "overflow_y": null,
            "overflow_x": null,
            "grid_auto_flow": null,
            "grid_area": null,
            "grid_template_columns": null,
            "flex": "2",
            "_model_name": "LayoutModel",
            "justify_items": null,
            "grid_row": null,
            "max_height": null,
            "align_content": null,
            "visibility": null,
            "align_self": null,
            "height": null,
            "min_height": null,
            "padding": null,
            "grid_auto_rows": null,
            "grid_gap": null,
            "max_width": null,
            "order": null,
            "_view_module_version": "1.2.0",
            "grid_template_areas": null,
            "object_position": null,
            "object_fit": null,
            "grid_auto_columns": null,
            "margin": null,
            "display": null,
            "left": null
          }
        },
        "4c21b794e6d641b9aa1e790fdf9dc054": {
          "model_module": "@jupyter-widgets/controls",
          "model_name": "DescriptionStyleModel",
          "model_module_version": "1.5.0",
          "state": {
            "_view_name": "StyleView",
            "_model_name": "DescriptionStyleModel",
            "description_width": "",
            "_view_module": "@jupyter-widgets/base",
            "_model_module_version": "1.5.0",
            "_view_count": null,
            "_view_module_version": "1.2.0",
            "_model_module": "@jupyter-widgets/controls"
          }
        },
        "249ba55b766b4f07ba79cdbe78b31a02": {
          "model_module": "@jupyter-widgets/base",
          "model_name": "LayoutModel",
          "model_module_version": "1.2.0",
          "state": {
            "_view_name": "LayoutView",
            "grid_template_rows": null,
            "right": null,
            "justify_content": null,
            "_view_module": "@jupyter-widgets/base",
            "overflow": null,
            "_model_module_version": "1.2.0",
            "_view_count": null,
            "flex_flow": null,
            "width": null,
            "min_width": null,
            "border": null,
            "align_items": null,
            "bottom": null,
            "_model_module": "@jupyter-widgets/base",
            "top": null,
            "grid_column": null,
            "overflow_y": null,
            "overflow_x": null,
            "grid_auto_flow": null,
            "grid_area": null,
            "grid_template_columns": null,
            "flex": null,
            "_model_name": "LayoutModel",
            "justify_items": null,
            "grid_row": null,
            "max_height": null,
            "align_content": null,
            "visibility": null,
            "align_self": null,
            "height": null,
            "min_height": null,
            "padding": null,
            "grid_auto_rows": null,
            "grid_gap": null,
            "max_width": null,
            "order": null,
            "_view_module_version": "1.2.0",
            "grid_template_areas": null,
            "object_position": null,
            "object_fit": null,
            "grid_auto_columns": null,
            "margin": null,
            "display": null,
            "left": null
          }
        },
        "a3dcd187365347688bde7b72adba5c5e": {
          "model_module": "@jupyter-widgets/controls",
          "model_name": "HBoxModel",
          "model_module_version": "1.5.0",
          "state": {
            "_view_name": "HBoxView",
            "_dom_classes": [],
            "_model_name": "HBoxModel",
            "_view_module": "@jupyter-widgets/controls",
            "_model_module_version": "1.5.0",
            "_view_count": null,
            "_view_module_version": "1.5.0",
            "box_style": "",
            "layout": "IPY_MODEL_39b38f90a29d4d9c9ec45ee2ba9e0a92",
            "_model_module": "@jupyter-widgets/controls",
            "children": [
              "IPY_MODEL_6cbae9b16f2d4712afb3297084195024",
              "IPY_MODEL_d60ec5cd31144877b3ba1417c51c13e0",
              "IPY_MODEL_5477d9fef802486c9c402cab81441fbf"
            ]
          }
        },
        "39b38f90a29d4d9c9ec45ee2ba9e0a92": {
          "model_module": "@jupyter-widgets/base",
          "model_name": "LayoutModel",
          "model_module_version": "1.2.0",
          "state": {
            "_view_name": "LayoutView",
            "grid_template_rows": null,
            "right": null,
            "justify_content": null,
            "_view_module": "@jupyter-widgets/base",
            "overflow": null,
            "_model_module_version": "1.2.0",
            "_view_count": null,
            "flex_flow": "row wrap",
            "width": "100%",
            "min_width": null,
            "border": null,
            "align_items": null,
            "bottom": null,
            "_model_module": "@jupyter-widgets/base",
            "top": null,
            "grid_column": null,
            "overflow_y": null,
            "overflow_x": null,
            "grid_auto_flow": null,
            "grid_area": null,
            "grid_template_columns": null,
            "flex": null,
            "_model_name": "LayoutModel",
            "justify_items": null,
            "grid_row": null,
            "max_height": null,
            "align_content": null,
            "visibility": null,
            "align_self": null,
            "height": null,
            "min_height": null,
            "padding": null,
            "grid_auto_rows": null,
            "grid_gap": null,
            "max_width": null,
            "order": null,
            "_view_module_version": "1.2.0",
            "grid_template_areas": null,
            "object_position": null,
            "object_fit": null,
            "grid_auto_columns": null,
            "margin": null,
            "display": "inline-flex",
            "left": null
          }
        },
        "6cbae9b16f2d4712afb3297084195024": {
          "model_module": "@jupyter-widgets/controls",
          "model_name": "HTMLModel",
          "model_module_version": "1.5.0",
          "state": {
            "_view_name": "HTMLView",
            "style": "IPY_MODEL_74358c02d0474c3b8987394375731461",
            "_dom_classes": [],
            "description": "",
            "_model_name": "HTMLModel",
            "placeholder": "​",
            "_view_module": "@jupyter-widgets/controls",
            "_model_module_version": "1.5.0",
            "value": "Validating: 100%",
            "_view_count": null,
            "_view_module_version": "1.5.0",
            "description_tooltip": null,
            "_model_module": "@jupyter-widgets/controls",
            "layout": "IPY_MODEL_b4eec583971343d8934dacc7f40d0eb5"
          }
        },
        "d60ec5cd31144877b3ba1417c51c13e0": {
          "model_module": "@jupyter-widgets/controls",
          "model_name": "FloatProgressModel",
          "model_module_version": "1.5.0",
          "state": {
            "_view_name": "ProgressView",
            "style": "IPY_MODEL_84b1b229e391411fbbabe0a986ba305f",
            "_dom_classes": [],
            "description": "",
            "_model_name": "FloatProgressModel",
            "bar_style": "",
            "max": 204,
            "_view_module": "@jupyter-widgets/controls",
            "_model_module_version": "1.5.0",
            "value": 204,
            "_view_count": null,
            "_view_module_version": "1.5.0",
            "orientation": "horizontal",
            "min": 0,
            "description_tooltip": null,
            "_model_module": "@jupyter-widgets/controls",
            "layout": "IPY_MODEL_fba156dac92c4688af0a8e7bd1ffc79c"
          }
        },
        "5477d9fef802486c9c402cab81441fbf": {
          "model_module": "@jupyter-widgets/controls",
          "model_name": "HTMLModel",
          "model_module_version": "1.5.0",
          "state": {
            "_view_name": "HTMLView",
            "style": "IPY_MODEL_0a62f166093547e5b0bb46fbfbb1f7e2",
            "_dom_classes": [],
            "description": "",
            "_model_name": "HTMLModel",
            "placeholder": "​",
            "_view_module": "@jupyter-widgets/controls",
            "_model_module_version": "1.5.0",
            "value": " 204/204 [00:31&lt;00:00,  6.69it/s]",
            "_view_count": null,
            "_view_module_version": "1.5.0",
            "description_tooltip": null,
            "_model_module": "@jupyter-widgets/controls",
            "layout": "IPY_MODEL_18d4939a92d64710aa7e9aa249956404"
          }
        },
        "74358c02d0474c3b8987394375731461": {
          "model_module": "@jupyter-widgets/controls",
          "model_name": "DescriptionStyleModel",
          "model_module_version": "1.5.0",
          "state": {
            "_view_name": "StyleView",
            "_model_name": "DescriptionStyleModel",
            "description_width": "",
            "_view_module": "@jupyter-widgets/base",
            "_model_module_version": "1.5.0",
            "_view_count": null,
            "_view_module_version": "1.2.0",
            "_model_module": "@jupyter-widgets/controls"
          }
        },
        "b4eec583971343d8934dacc7f40d0eb5": {
          "model_module": "@jupyter-widgets/base",
          "model_name": "LayoutModel",
          "model_module_version": "1.2.0",
          "state": {
            "_view_name": "LayoutView",
            "grid_template_rows": null,
            "right": null,
            "justify_content": null,
            "_view_module": "@jupyter-widgets/base",
            "overflow": null,
            "_model_module_version": "1.2.0",
            "_view_count": null,
            "flex_flow": null,
            "width": null,
            "min_width": null,
            "border": null,
            "align_items": null,
            "bottom": null,
            "_model_module": "@jupyter-widgets/base",
            "top": null,
            "grid_column": null,
            "overflow_y": null,
            "overflow_x": null,
            "grid_auto_flow": null,
            "grid_area": null,
            "grid_template_columns": null,
            "flex": null,
            "_model_name": "LayoutModel",
            "justify_items": null,
            "grid_row": null,
            "max_height": null,
            "align_content": null,
            "visibility": null,
            "align_self": null,
            "height": null,
            "min_height": null,
            "padding": null,
            "grid_auto_rows": null,
            "grid_gap": null,
            "max_width": null,
            "order": null,
            "_view_module_version": "1.2.0",
            "grid_template_areas": null,
            "object_position": null,
            "object_fit": null,
            "grid_auto_columns": null,
            "margin": null,
            "display": null,
            "left": null
          }
        },
        "84b1b229e391411fbbabe0a986ba305f": {
          "model_module": "@jupyter-widgets/controls",
          "model_name": "ProgressStyleModel",
          "model_module_version": "1.5.0",
          "state": {
            "_view_name": "StyleView",
            "_model_name": "ProgressStyleModel",
            "description_width": "",
            "_view_module": "@jupyter-widgets/base",
            "_model_module_version": "1.5.0",
            "_view_count": null,
            "_view_module_version": "1.2.0",
            "bar_color": null,
            "_model_module": "@jupyter-widgets/controls"
          }
        },
        "fba156dac92c4688af0a8e7bd1ffc79c": {
          "model_module": "@jupyter-widgets/base",
          "model_name": "LayoutModel",
          "model_module_version": "1.2.0",
          "state": {
            "_view_name": "LayoutView",
            "grid_template_rows": null,
            "right": null,
            "justify_content": null,
            "_view_module": "@jupyter-widgets/base",
            "overflow": null,
            "_model_module_version": "1.2.0",
            "_view_count": null,
            "flex_flow": null,
            "width": null,
            "min_width": null,
            "border": null,
            "align_items": null,
            "bottom": null,
            "_model_module": "@jupyter-widgets/base",
            "top": null,
            "grid_column": null,
            "overflow_y": null,
            "overflow_x": null,
            "grid_auto_flow": null,
            "grid_area": null,
            "grid_template_columns": null,
            "flex": "2",
            "_model_name": "LayoutModel",
            "justify_items": null,
            "grid_row": null,
            "max_height": null,
            "align_content": null,
            "visibility": null,
            "align_self": null,
            "height": null,
            "min_height": null,
            "padding": null,
            "grid_auto_rows": null,
            "grid_gap": null,
            "max_width": null,
            "order": null,
            "_view_module_version": "1.2.0",
            "grid_template_areas": null,
            "object_position": null,
            "object_fit": null,
            "grid_auto_columns": null,
            "margin": null,
            "display": null,
            "left": null
          }
        },
        "0a62f166093547e5b0bb46fbfbb1f7e2": {
          "model_module": "@jupyter-widgets/controls",
          "model_name": "DescriptionStyleModel",
          "model_module_version": "1.5.0",
          "state": {
            "_view_name": "StyleView",
            "_model_name": "DescriptionStyleModel",
            "description_width": "",
            "_view_module": "@jupyter-widgets/base",
            "_model_module_version": "1.5.0",
            "_view_count": null,
            "_view_module_version": "1.2.0",
            "_model_module": "@jupyter-widgets/controls"
          }
        },
        "18d4939a92d64710aa7e9aa249956404": {
          "model_module": "@jupyter-widgets/base",
          "model_name": "LayoutModel",
          "model_module_version": "1.2.0",
          "state": {
            "_view_name": "LayoutView",
            "grid_template_rows": null,
            "right": null,
            "justify_content": null,
            "_view_module": "@jupyter-widgets/base",
            "overflow": null,
            "_model_module_version": "1.2.0",
            "_view_count": null,
            "flex_flow": null,
            "width": null,
            "min_width": null,
            "border": null,
            "align_items": null,
            "bottom": null,
            "_model_module": "@jupyter-widgets/base",
            "top": null,
            "grid_column": null,
            "overflow_y": null,
            "overflow_x": null,
            "grid_auto_flow": null,
            "grid_area": null,
            "grid_template_columns": null,
            "flex": null,
            "_model_name": "LayoutModel",
            "justify_items": null,
            "grid_row": null,
            "max_height": null,
            "align_content": null,
            "visibility": null,
            "align_self": null,
            "height": null,
            "min_height": null,
            "padding": null,
            "grid_auto_rows": null,
            "grid_gap": null,
            "max_width": null,
            "order": null,
            "_view_module_version": "1.2.0",
            "grid_template_areas": null,
            "object_position": null,
            "object_fit": null,
            "grid_auto_columns": null,
            "margin": null,
            "display": null,
            "left": null
          }
        },
        "a332eeb143d34f5ea2c326bd55d3ef63": {
          "model_module": "@jupyter-widgets/controls",
          "model_name": "HBoxModel",
          "model_module_version": "1.5.0",
          "state": {
            "_view_name": "HBoxView",
            "_dom_classes": [],
            "_model_name": "HBoxModel",
            "_view_module": "@jupyter-widgets/controls",
            "_model_module_version": "1.5.0",
            "_view_count": null,
            "_view_module_version": "1.5.0",
            "box_style": "",
            "layout": "IPY_MODEL_a757c461820540f1b902dcf8d1a2fc05",
            "_model_module": "@jupyter-widgets/controls",
            "children": [
              "IPY_MODEL_6b9751bfc6074e8aa0be9a10e6319f26",
              "IPY_MODEL_8e0fc5a87cd64096b7a413792305c617",
              "IPY_MODEL_5684bef93c2749629be5426f9525ecee"
            ]
          }
        },
        "a757c461820540f1b902dcf8d1a2fc05": {
          "model_module": "@jupyter-widgets/base",
          "model_name": "LayoutModel",
          "model_module_version": "1.2.0",
          "state": {
            "_view_name": "LayoutView",
            "grid_template_rows": null,
            "right": null,
            "justify_content": null,
            "_view_module": "@jupyter-widgets/base",
            "overflow": null,
            "_model_module_version": "1.2.0",
            "_view_count": null,
            "flex_flow": "row wrap",
            "width": "100%",
            "min_width": null,
            "border": null,
            "align_items": null,
            "bottom": null,
            "_model_module": "@jupyter-widgets/base",
            "top": null,
            "grid_column": null,
            "overflow_y": null,
            "overflow_x": null,
            "grid_auto_flow": null,
            "grid_area": null,
            "grid_template_columns": null,
            "flex": null,
            "_model_name": "LayoutModel",
            "justify_items": null,
            "grid_row": null,
            "max_height": null,
            "align_content": null,
            "visibility": null,
            "align_self": null,
            "height": null,
            "min_height": null,
            "padding": null,
            "grid_auto_rows": null,
            "grid_gap": null,
            "max_width": null,
            "order": null,
            "_view_module_version": "1.2.0",
            "grid_template_areas": null,
            "object_position": null,
            "object_fit": null,
            "grid_auto_columns": null,
            "margin": null,
            "display": "inline-flex",
            "left": null
          }
        },
        "6b9751bfc6074e8aa0be9a10e6319f26": {
          "model_module": "@jupyter-widgets/controls",
          "model_name": "HTMLModel",
          "model_module_version": "1.5.0",
          "state": {
            "_view_name": "HTMLView",
            "style": "IPY_MODEL_d15fb6952ade4fcf81a4f7732d548722",
            "_dom_classes": [],
            "description": "",
            "_model_name": "HTMLModel",
            "placeholder": "​",
            "_view_module": "@jupyter-widgets/controls",
            "_model_module_version": "1.5.0",
            "value": "Validating: 100%",
            "_view_count": null,
            "_view_module_version": "1.5.0",
            "description_tooltip": null,
            "_model_module": "@jupyter-widgets/controls",
            "layout": "IPY_MODEL_f720d6e356874097bc371810e0985d09"
          }
        },
        "8e0fc5a87cd64096b7a413792305c617": {
          "model_module": "@jupyter-widgets/controls",
          "model_name": "FloatProgressModel",
          "model_module_version": "1.5.0",
          "state": {
            "_view_name": "ProgressView",
            "style": "IPY_MODEL_784a5d6216474181befba57df2ce1484",
            "_dom_classes": [],
            "description": "",
            "_model_name": "FloatProgressModel",
            "bar_style": "",
            "max": 204,
            "_view_module": "@jupyter-widgets/controls",
            "_model_module_version": "1.5.0",
            "value": 204,
            "_view_count": null,
            "_view_module_version": "1.5.0",
            "orientation": "horizontal",
            "min": 0,
            "description_tooltip": null,
            "_model_module": "@jupyter-widgets/controls",
            "layout": "IPY_MODEL_4405635618174e5bab444cf4757c4524"
          }
        },
        "5684bef93c2749629be5426f9525ecee": {
          "model_module": "@jupyter-widgets/controls",
          "model_name": "HTMLModel",
          "model_module_version": "1.5.0",
          "state": {
            "_view_name": "HTMLView",
            "style": "IPY_MODEL_9d18254826054fb6b42c8981dd0db113",
            "_dom_classes": [],
            "description": "",
            "_model_name": "HTMLModel",
            "placeholder": "​",
            "_view_module": "@jupyter-widgets/controls",
            "_model_module_version": "1.5.0",
            "value": " 204/204 [00:28&lt;00:00,  6.85it/s]",
            "_view_count": null,
            "_view_module_version": "1.5.0",
            "description_tooltip": null,
            "_model_module": "@jupyter-widgets/controls",
            "layout": "IPY_MODEL_9dc90045e9bb485181cb802cd25f0969"
          }
        },
        "d15fb6952ade4fcf81a4f7732d548722": {
          "model_module": "@jupyter-widgets/controls",
          "model_name": "DescriptionStyleModel",
          "model_module_version": "1.5.0",
          "state": {
            "_view_name": "StyleView",
            "_model_name": "DescriptionStyleModel",
            "description_width": "",
            "_view_module": "@jupyter-widgets/base",
            "_model_module_version": "1.5.0",
            "_view_count": null,
            "_view_module_version": "1.2.0",
            "_model_module": "@jupyter-widgets/controls"
          }
        },
        "f720d6e356874097bc371810e0985d09": {
          "model_module": "@jupyter-widgets/base",
          "model_name": "LayoutModel",
          "model_module_version": "1.2.0",
          "state": {
            "_view_name": "LayoutView",
            "grid_template_rows": null,
            "right": null,
            "justify_content": null,
            "_view_module": "@jupyter-widgets/base",
            "overflow": null,
            "_model_module_version": "1.2.0",
            "_view_count": null,
            "flex_flow": null,
            "width": null,
            "min_width": null,
            "border": null,
            "align_items": null,
            "bottom": null,
            "_model_module": "@jupyter-widgets/base",
            "top": null,
            "grid_column": null,
            "overflow_y": null,
            "overflow_x": null,
            "grid_auto_flow": null,
            "grid_area": null,
            "grid_template_columns": null,
            "flex": null,
            "_model_name": "LayoutModel",
            "justify_items": null,
            "grid_row": null,
            "max_height": null,
            "align_content": null,
            "visibility": null,
            "align_self": null,
            "height": null,
            "min_height": null,
            "padding": null,
            "grid_auto_rows": null,
            "grid_gap": null,
            "max_width": null,
            "order": null,
            "_view_module_version": "1.2.0",
            "grid_template_areas": null,
            "object_position": null,
            "object_fit": null,
            "grid_auto_columns": null,
            "margin": null,
            "display": null,
            "left": null
          }
        },
        "784a5d6216474181befba57df2ce1484": {
          "model_module": "@jupyter-widgets/controls",
          "model_name": "ProgressStyleModel",
          "model_module_version": "1.5.0",
          "state": {
            "_view_name": "StyleView",
            "_model_name": "ProgressStyleModel",
            "description_width": "",
            "_view_module": "@jupyter-widgets/base",
            "_model_module_version": "1.5.0",
            "_view_count": null,
            "_view_module_version": "1.2.0",
            "bar_color": null,
            "_model_module": "@jupyter-widgets/controls"
          }
        },
        "4405635618174e5bab444cf4757c4524": {
          "model_module": "@jupyter-widgets/base",
          "model_name": "LayoutModel",
          "model_module_version": "1.2.0",
          "state": {
            "_view_name": "LayoutView",
            "grid_template_rows": null,
            "right": null,
            "justify_content": null,
            "_view_module": "@jupyter-widgets/base",
            "overflow": null,
            "_model_module_version": "1.2.0",
            "_view_count": null,
            "flex_flow": null,
            "width": null,
            "min_width": null,
            "border": null,
            "align_items": null,
            "bottom": null,
            "_model_module": "@jupyter-widgets/base",
            "top": null,
            "grid_column": null,
            "overflow_y": null,
            "overflow_x": null,
            "grid_auto_flow": null,
            "grid_area": null,
            "grid_template_columns": null,
            "flex": "2",
            "_model_name": "LayoutModel",
            "justify_items": null,
            "grid_row": null,
            "max_height": null,
            "align_content": null,
            "visibility": null,
            "align_self": null,
            "height": null,
            "min_height": null,
            "padding": null,
            "grid_auto_rows": null,
            "grid_gap": null,
            "max_width": null,
            "order": null,
            "_view_module_version": "1.2.0",
            "grid_template_areas": null,
            "object_position": null,
            "object_fit": null,
            "grid_auto_columns": null,
            "margin": null,
            "display": null,
            "left": null
          }
        },
        "9d18254826054fb6b42c8981dd0db113": {
          "model_module": "@jupyter-widgets/controls",
          "model_name": "DescriptionStyleModel",
          "model_module_version": "1.5.0",
          "state": {
            "_view_name": "StyleView",
            "_model_name": "DescriptionStyleModel",
            "description_width": "",
            "_view_module": "@jupyter-widgets/base",
            "_model_module_version": "1.5.0",
            "_view_count": null,
            "_view_module_version": "1.2.0",
            "_model_module": "@jupyter-widgets/controls"
          }
        },
        "9dc90045e9bb485181cb802cd25f0969": {
          "model_module": "@jupyter-widgets/base",
          "model_name": "LayoutModel",
          "model_module_version": "1.2.0",
          "state": {
            "_view_name": "LayoutView",
            "grid_template_rows": null,
            "right": null,
            "justify_content": null,
            "_view_module": "@jupyter-widgets/base",
            "overflow": null,
            "_model_module_version": "1.2.0",
            "_view_count": null,
            "flex_flow": null,
            "width": null,
            "min_width": null,
            "border": null,
            "align_items": null,
            "bottom": null,
            "_model_module": "@jupyter-widgets/base",
            "top": null,
            "grid_column": null,
            "overflow_y": null,
            "overflow_x": null,
            "grid_auto_flow": null,
            "grid_area": null,
            "grid_template_columns": null,
            "flex": null,
            "_model_name": "LayoutModel",
            "justify_items": null,
            "grid_row": null,
            "max_height": null,
            "align_content": null,
            "visibility": null,
            "align_self": null,
            "height": null,
            "min_height": null,
            "padding": null,
            "grid_auto_rows": null,
            "grid_gap": null,
            "max_width": null,
            "order": null,
            "_view_module_version": "1.2.0",
            "grid_template_areas": null,
            "object_position": null,
            "object_fit": null,
            "grid_auto_columns": null,
            "margin": null,
            "display": null,
            "left": null
          }
        },
        "7e3219c979b24587938a8384bb4c8c7a": {
          "model_module": "@jupyter-widgets/controls",
          "model_name": "HBoxModel",
          "model_module_version": "1.5.0",
          "state": {
            "_view_name": "HBoxView",
            "_dom_classes": [],
            "_model_name": "HBoxModel",
            "_view_module": "@jupyter-widgets/controls",
            "_model_module_version": "1.5.0",
            "_view_count": null,
            "_view_module_version": "1.5.0",
            "box_style": "",
            "layout": "IPY_MODEL_d9b2233955e94c0896a0c9adb03925ac",
            "_model_module": "@jupyter-widgets/controls",
            "children": [
              "IPY_MODEL_30e6cd71ed4e4361bb4d2b5d14ab8341",
              "IPY_MODEL_f74fec54a6dd48c5aab420b0031c9f7e",
              "IPY_MODEL_a1ebd26281ba4c44bc1318bada2d74cf"
            ]
          }
        },
        "d9b2233955e94c0896a0c9adb03925ac": {
          "model_module": "@jupyter-widgets/base",
          "model_name": "LayoutModel",
          "model_module_version": "1.2.0",
          "state": {
            "_view_name": "LayoutView",
            "grid_template_rows": null,
            "right": null,
            "justify_content": null,
            "_view_module": "@jupyter-widgets/base",
            "overflow": null,
            "_model_module_version": "1.2.0",
            "_view_count": null,
            "flex_flow": "row wrap",
            "width": "100%",
            "min_width": null,
            "border": null,
            "align_items": null,
            "bottom": null,
            "_model_module": "@jupyter-widgets/base",
            "top": null,
            "grid_column": null,
            "overflow_y": null,
            "overflow_x": null,
            "grid_auto_flow": null,
            "grid_area": null,
            "grid_template_columns": null,
            "flex": null,
            "_model_name": "LayoutModel",
            "justify_items": null,
            "grid_row": null,
            "max_height": null,
            "align_content": null,
            "visibility": null,
            "align_self": null,
            "height": null,
            "min_height": null,
            "padding": null,
            "grid_auto_rows": null,
            "grid_gap": null,
            "max_width": null,
            "order": null,
            "_view_module_version": "1.2.0",
            "grid_template_areas": null,
            "object_position": null,
            "object_fit": null,
            "grid_auto_columns": null,
            "margin": null,
            "display": "inline-flex",
            "left": null
          }
        },
        "30e6cd71ed4e4361bb4d2b5d14ab8341": {
          "model_module": "@jupyter-widgets/controls",
          "model_name": "HTMLModel",
          "model_module_version": "1.5.0",
          "state": {
            "_view_name": "HTMLView",
            "style": "IPY_MODEL_783dde7a97624c34bb85d265b28e4142",
            "_dom_classes": [],
            "description": "",
            "_model_name": "HTMLModel",
            "placeholder": "​",
            "_view_module": "@jupyter-widgets/controls",
            "_model_module_version": "1.5.0",
            "value": "Validating: 100%",
            "_view_count": null,
            "_view_module_version": "1.5.0",
            "description_tooltip": null,
            "_model_module": "@jupyter-widgets/controls",
            "layout": "IPY_MODEL_f5791801c5734862bfaf2bff8d5cab4c"
          }
        },
        "f74fec54a6dd48c5aab420b0031c9f7e": {
          "model_module": "@jupyter-widgets/controls",
          "model_name": "FloatProgressModel",
          "model_module_version": "1.5.0",
          "state": {
            "_view_name": "ProgressView",
            "style": "IPY_MODEL_b6bdec1f1dbf4e4ba180d4568a8b8f96",
            "_dom_classes": [],
            "description": "",
            "_model_name": "FloatProgressModel",
            "bar_style": "",
            "max": 204,
            "_view_module": "@jupyter-widgets/controls",
            "_model_module_version": "1.5.0",
            "value": 204,
            "_view_count": null,
            "_view_module_version": "1.5.0",
            "orientation": "horizontal",
            "min": 0,
            "description_tooltip": null,
            "_model_module": "@jupyter-widgets/controls",
            "layout": "IPY_MODEL_f3d6ede2e2e74cf686083d9cde68c9d6"
          }
        },
        "a1ebd26281ba4c44bc1318bada2d74cf": {
          "model_module": "@jupyter-widgets/controls",
          "model_name": "HTMLModel",
          "model_module_version": "1.5.0",
          "state": {
            "_view_name": "HTMLView",
            "style": "IPY_MODEL_eba0819d2d7d4c3d8d08ae6d78470741",
            "_dom_classes": [],
            "description": "",
            "_model_name": "HTMLModel",
            "placeholder": "​",
            "_view_module": "@jupyter-widgets/controls",
            "_model_module_version": "1.5.0",
            "value": " 204/204 [00:36&lt;00:00,  6.11it/s]",
            "_view_count": null,
            "_view_module_version": "1.5.0",
            "description_tooltip": null,
            "_model_module": "@jupyter-widgets/controls",
            "layout": "IPY_MODEL_714ed06151c242898bf00f2976cb3ed1"
          }
        },
        "783dde7a97624c34bb85d265b28e4142": {
          "model_module": "@jupyter-widgets/controls",
          "model_name": "DescriptionStyleModel",
          "model_module_version": "1.5.0",
          "state": {
            "_view_name": "StyleView",
            "_model_name": "DescriptionStyleModel",
            "description_width": "",
            "_view_module": "@jupyter-widgets/base",
            "_model_module_version": "1.5.0",
            "_view_count": null,
            "_view_module_version": "1.2.0",
            "_model_module": "@jupyter-widgets/controls"
          }
        },
        "f5791801c5734862bfaf2bff8d5cab4c": {
          "model_module": "@jupyter-widgets/base",
          "model_name": "LayoutModel",
          "model_module_version": "1.2.0",
          "state": {
            "_view_name": "LayoutView",
            "grid_template_rows": null,
            "right": null,
            "justify_content": null,
            "_view_module": "@jupyter-widgets/base",
            "overflow": null,
            "_model_module_version": "1.2.0",
            "_view_count": null,
            "flex_flow": null,
            "width": null,
            "min_width": null,
            "border": null,
            "align_items": null,
            "bottom": null,
            "_model_module": "@jupyter-widgets/base",
            "top": null,
            "grid_column": null,
            "overflow_y": null,
            "overflow_x": null,
            "grid_auto_flow": null,
            "grid_area": null,
            "grid_template_columns": null,
            "flex": null,
            "_model_name": "LayoutModel",
            "justify_items": null,
            "grid_row": null,
            "max_height": null,
            "align_content": null,
            "visibility": null,
            "align_self": null,
            "height": null,
            "min_height": null,
            "padding": null,
            "grid_auto_rows": null,
            "grid_gap": null,
            "max_width": null,
            "order": null,
            "_view_module_version": "1.2.0",
            "grid_template_areas": null,
            "object_position": null,
            "object_fit": null,
            "grid_auto_columns": null,
            "margin": null,
            "display": null,
            "left": null
          }
        },
        "b6bdec1f1dbf4e4ba180d4568a8b8f96": {
          "model_module": "@jupyter-widgets/controls",
          "model_name": "ProgressStyleModel",
          "model_module_version": "1.5.0",
          "state": {
            "_view_name": "StyleView",
            "_model_name": "ProgressStyleModel",
            "description_width": "",
            "_view_module": "@jupyter-widgets/base",
            "_model_module_version": "1.5.0",
            "_view_count": null,
            "_view_module_version": "1.2.0",
            "bar_color": null,
            "_model_module": "@jupyter-widgets/controls"
          }
        },
        "f3d6ede2e2e74cf686083d9cde68c9d6": {
          "model_module": "@jupyter-widgets/base",
          "model_name": "LayoutModel",
          "model_module_version": "1.2.0",
          "state": {
            "_view_name": "LayoutView",
            "grid_template_rows": null,
            "right": null,
            "justify_content": null,
            "_view_module": "@jupyter-widgets/base",
            "overflow": null,
            "_model_module_version": "1.2.0",
            "_view_count": null,
            "flex_flow": null,
            "width": null,
            "min_width": null,
            "border": null,
            "align_items": null,
            "bottom": null,
            "_model_module": "@jupyter-widgets/base",
            "top": null,
            "grid_column": null,
            "overflow_y": null,
            "overflow_x": null,
            "grid_auto_flow": null,
            "grid_area": null,
            "grid_template_columns": null,
            "flex": "2",
            "_model_name": "LayoutModel",
            "justify_items": null,
            "grid_row": null,
            "max_height": null,
            "align_content": null,
            "visibility": null,
            "align_self": null,
            "height": null,
            "min_height": null,
            "padding": null,
            "grid_auto_rows": null,
            "grid_gap": null,
            "max_width": null,
            "order": null,
            "_view_module_version": "1.2.0",
            "grid_template_areas": null,
            "object_position": null,
            "object_fit": null,
            "grid_auto_columns": null,
            "margin": null,
            "display": null,
            "left": null
          }
        },
        "eba0819d2d7d4c3d8d08ae6d78470741": {
          "model_module": "@jupyter-widgets/controls",
          "model_name": "DescriptionStyleModel",
          "model_module_version": "1.5.0",
          "state": {
            "_view_name": "StyleView",
            "_model_name": "DescriptionStyleModel",
            "description_width": "",
            "_view_module": "@jupyter-widgets/base",
            "_model_module_version": "1.5.0",
            "_view_count": null,
            "_view_module_version": "1.2.0",
            "_model_module": "@jupyter-widgets/controls"
          }
        },
        "714ed06151c242898bf00f2976cb3ed1": {
          "model_module": "@jupyter-widgets/base",
          "model_name": "LayoutModel",
          "model_module_version": "1.2.0",
          "state": {
            "_view_name": "LayoutView",
            "grid_template_rows": null,
            "right": null,
            "justify_content": null,
            "_view_module": "@jupyter-widgets/base",
            "overflow": null,
            "_model_module_version": "1.2.0",
            "_view_count": null,
            "flex_flow": null,
            "width": null,
            "min_width": null,
            "border": null,
            "align_items": null,
            "bottom": null,
            "_model_module": "@jupyter-widgets/base",
            "top": null,
            "grid_column": null,
            "overflow_y": null,
            "overflow_x": null,
            "grid_auto_flow": null,
            "grid_area": null,
            "grid_template_columns": null,
            "flex": null,
            "_model_name": "LayoutModel",
            "justify_items": null,
            "grid_row": null,
            "max_height": null,
            "align_content": null,
            "visibility": null,
            "align_self": null,
            "height": null,
            "min_height": null,
            "padding": null,
            "grid_auto_rows": null,
            "grid_gap": null,
            "max_width": null,
            "order": null,
            "_view_module_version": "1.2.0",
            "grid_template_areas": null,
            "object_position": null,
            "object_fit": null,
            "grid_auto_columns": null,
            "margin": null,
            "display": null,
            "left": null
          }
        },
        "0cec8ce92844401f9df57b3d33b633ea": {
          "model_module": "@jupyter-widgets/controls",
          "model_name": "HBoxModel",
          "model_module_version": "1.5.0",
          "state": {
            "_view_name": "HBoxView",
            "_dom_classes": [],
            "_model_name": "HBoxModel",
            "_view_module": "@jupyter-widgets/controls",
            "_model_module_version": "1.5.0",
            "_view_count": null,
            "_view_module_version": "1.5.0",
            "box_style": "",
            "layout": "IPY_MODEL_d939019b15284ab2afd1910216f96b94",
            "_model_module": "@jupyter-widgets/controls",
            "children": [
              "IPY_MODEL_f78c8140157e4fa58cbe179660090066",
              "IPY_MODEL_43cfe77660144e398ff615425310cfb8",
              "IPY_MODEL_42f4f0c2181d4fe685579b5dd8fd0c5e"
            ]
          }
        },
        "d939019b15284ab2afd1910216f96b94": {
          "model_module": "@jupyter-widgets/base",
          "model_name": "LayoutModel",
          "model_module_version": "1.2.0",
          "state": {
            "_view_name": "LayoutView",
            "grid_template_rows": null,
            "right": null,
            "justify_content": null,
            "_view_module": "@jupyter-widgets/base",
            "overflow": null,
            "_model_module_version": "1.2.0",
            "_view_count": null,
            "flex_flow": "row wrap",
            "width": "100%",
            "min_width": null,
            "border": null,
            "align_items": null,
            "bottom": null,
            "_model_module": "@jupyter-widgets/base",
            "top": null,
            "grid_column": null,
            "overflow_y": null,
            "overflow_x": null,
            "grid_auto_flow": null,
            "grid_area": null,
            "grid_template_columns": null,
            "flex": null,
            "_model_name": "LayoutModel",
            "justify_items": null,
            "grid_row": null,
            "max_height": null,
            "align_content": null,
            "visibility": null,
            "align_self": null,
            "height": null,
            "min_height": null,
            "padding": null,
            "grid_auto_rows": null,
            "grid_gap": null,
            "max_width": null,
            "order": null,
            "_view_module_version": "1.2.0",
            "grid_template_areas": null,
            "object_position": null,
            "object_fit": null,
            "grid_auto_columns": null,
            "margin": null,
            "display": "inline-flex",
            "left": null
          }
        },
        "f78c8140157e4fa58cbe179660090066": {
          "model_module": "@jupyter-widgets/controls",
          "model_name": "HTMLModel",
          "model_module_version": "1.5.0",
          "state": {
            "_view_name": "HTMLView",
            "style": "IPY_MODEL_d2edc375c25e46d79d71592507e0db82",
            "_dom_classes": [],
            "description": "",
            "_model_name": "HTMLModel",
            "placeholder": "​",
            "_view_module": "@jupyter-widgets/controls",
            "_model_module_version": "1.5.0",
            "value": "Validating: 100%",
            "_view_count": null,
            "_view_module_version": "1.5.0",
            "description_tooltip": null,
            "_model_module": "@jupyter-widgets/controls",
            "layout": "IPY_MODEL_1ee5edcfebfb49dfa8452313371e88ea"
          }
        },
        "43cfe77660144e398ff615425310cfb8": {
          "model_module": "@jupyter-widgets/controls",
          "model_name": "FloatProgressModel",
          "model_module_version": "1.5.0",
          "state": {
            "_view_name": "ProgressView",
            "style": "IPY_MODEL_29990ad3dcf946389d5e0b8eeca87ab9",
            "_dom_classes": [],
            "description": "",
            "_model_name": "FloatProgressModel",
            "bar_style": "",
            "max": 204,
            "_view_module": "@jupyter-widgets/controls",
            "_model_module_version": "1.5.0",
            "value": 204,
            "_view_count": null,
            "_view_module_version": "1.5.0",
            "orientation": "horizontal",
            "min": 0,
            "description_tooltip": null,
            "_model_module": "@jupyter-widgets/controls",
            "layout": "IPY_MODEL_91fb32a10bf44068925c61c3c237f227"
          }
        },
        "42f4f0c2181d4fe685579b5dd8fd0c5e": {
          "model_module": "@jupyter-widgets/controls",
          "model_name": "HTMLModel",
          "model_module_version": "1.5.0",
          "state": {
            "_view_name": "HTMLView",
            "style": "IPY_MODEL_01bc1d0eac9c474db314d52bfa072948",
            "_dom_classes": [],
            "description": "",
            "_model_name": "HTMLModel",
            "placeholder": "​",
            "_view_module": "@jupyter-widgets/controls",
            "_model_module_version": "1.5.0",
            "value": " 204/204 [00:28&lt;00:00,  6.87it/s]",
            "_view_count": null,
            "_view_module_version": "1.5.0",
            "description_tooltip": null,
            "_model_module": "@jupyter-widgets/controls",
            "layout": "IPY_MODEL_aecf85d631264da38bb558a290a6a1f4"
          }
        },
        "d2edc375c25e46d79d71592507e0db82": {
          "model_module": "@jupyter-widgets/controls",
          "model_name": "DescriptionStyleModel",
          "model_module_version": "1.5.0",
          "state": {
            "_view_name": "StyleView",
            "_model_name": "DescriptionStyleModel",
            "description_width": "",
            "_view_module": "@jupyter-widgets/base",
            "_model_module_version": "1.5.0",
            "_view_count": null,
            "_view_module_version": "1.2.0",
            "_model_module": "@jupyter-widgets/controls"
          }
        },
        "1ee5edcfebfb49dfa8452313371e88ea": {
          "model_module": "@jupyter-widgets/base",
          "model_name": "LayoutModel",
          "model_module_version": "1.2.0",
          "state": {
            "_view_name": "LayoutView",
            "grid_template_rows": null,
            "right": null,
            "justify_content": null,
            "_view_module": "@jupyter-widgets/base",
            "overflow": null,
            "_model_module_version": "1.2.0",
            "_view_count": null,
            "flex_flow": null,
            "width": null,
            "min_width": null,
            "border": null,
            "align_items": null,
            "bottom": null,
            "_model_module": "@jupyter-widgets/base",
            "top": null,
            "grid_column": null,
            "overflow_y": null,
            "overflow_x": null,
            "grid_auto_flow": null,
            "grid_area": null,
            "grid_template_columns": null,
            "flex": null,
            "_model_name": "LayoutModel",
            "justify_items": null,
            "grid_row": null,
            "max_height": null,
            "align_content": null,
            "visibility": null,
            "align_self": null,
            "height": null,
            "min_height": null,
            "padding": null,
            "grid_auto_rows": null,
            "grid_gap": null,
            "max_width": null,
            "order": null,
            "_view_module_version": "1.2.0",
            "grid_template_areas": null,
            "object_position": null,
            "object_fit": null,
            "grid_auto_columns": null,
            "margin": null,
            "display": null,
            "left": null
          }
        },
        "29990ad3dcf946389d5e0b8eeca87ab9": {
          "model_module": "@jupyter-widgets/controls",
          "model_name": "ProgressStyleModel",
          "model_module_version": "1.5.0",
          "state": {
            "_view_name": "StyleView",
            "_model_name": "ProgressStyleModel",
            "description_width": "",
            "_view_module": "@jupyter-widgets/base",
            "_model_module_version": "1.5.0",
            "_view_count": null,
            "_view_module_version": "1.2.0",
            "bar_color": null,
            "_model_module": "@jupyter-widgets/controls"
          }
        },
        "91fb32a10bf44068925c61c3c237f227": {
          "model_module": "@jupyter-widgets/base",
          "model_name": "LayoutModel",
          "model_module_version": "1.2.0",
          "state": {
            "_view_name": "LayoutView",
            "grid_template_rows": null,
            "right": null,
            "justify_content": null,
            "_view_module": "@jupyter-widgets/base",
            "overflow": null,
            "_model_module_version": "1.2.0",
            "_view_count": null,
            "flex_flow": null,
            "width": null,
            "min_width": null,
            "border": null,
            "align_items": null,
            "bottom": null,
            "_model_module": "@jupyter-widgets/base",
            "top": null,
            "grid_column": null,
            "overflow_y": null,
            "overflow_x": null,
            "grid_auto_flow": null,
            "grid_area": null,
            "grid_template_columns": null,
            "flex": "2",
            "_model_name": "LayoutModel",
            "justify_items": null,
            "grid_row": null,
            "max_height": null,
            "align_content": null,
            "visibility": null,
            "align_self": null,
            "height": null,
            "min_height": null,
            "padding": null,
            "grid_auto_rows": null,
            "grid_gap": null,
            "max_width": null,
            "order": null,
            "_view_module_version": "1.2.0",
            "grid_template_areas": null,
            "object_position": null,
            "object_fit": null,
            "grid_auto_columns": null,
            "margin": null,
            "display": null,
            "left": null
          }
        },
        "01bc1d0eac9c474db314d52bfa072948": {
          "model_module": "@jupyter-widgets/controls",
          "model_name": "DescriptionStyleModel",
          "model_module_version": "1.5.0",
          "state": {
            "_view_name": "StyleView",
            "_model_name": "DescriptionStyleModel",
            "description_width": "",
            "_view_module": "@jupyter-widgets/base",
            "_model_module_version": "1.5.0",
            "_view_count": null,
            "_view_module_version": "1.2.0",
            "_model_module": "@jupyter-widgets/controls"
          }
        },
        "aecf85d631264da38bb558a290a6a1f4": {
          "model_module": "@jupyter-widgets/base",
          "model_name": "LayoutModel",
          "model_module_version": "1.2.0",
          "state": {
            "_view_name": "LayoutView",
            "grid_template_rows": null,
            "right": null,
            "justify_content": null,
            "_view_module": "@jupyter-widgets/base",
            "overflow": null,
            "_model_module_version": "1.2.0",
            "_view_count": null,
            "flex_flow": null,
            "width": null,
            "min_width": null,
            "border": null,
            "align_items": null,
            "bottom": null,
            "_model_module": "@jupyter-widgets/base",
            "top": null,
            "grid_column": null,
            "overflow_y": null,
            "overflow_x": null,
            "grid_auto_flow": null,
            "grid_area": null,
            "grid_template_columns": null,
            "flex": null,
            "_model_name": "LayoutModel",
            "justify_items": null,
            "grid_row": null,
            "max_height": null,
            "align_content": null,
            "visibility": null,
            "align_self": null,
            "height": null,
            "min_height": null,
            "padding": null,
            "grid_auto_rows": null,
            "grid_gap": null,
            "max_width": null,
            "order": null,
            "_view_module_version": "1.2.0",
            "grid_template_areas": null,
            "object_position": null,
            "object_fit": null,
            "grid_auto_columns": null,
            "margin": null,
            "display": null,
            "left": null
          }
        },
        "bac7ada11ae34d9195ee09ed518dc2ca": {
          "model_module": "@jupyter-widgets/controls",
          "model_name": "HBoxModel",
          "model_module_version": "1.5.0",
          "state": {
            "_view_name": "HBoxView",
            "_dom_classes": [],
            "_model_name": "HBoxModel",
            "_view_module": "@jupyter-widgets/controls",
            "_model_module_version": "1.5.0",
            "_view_count": null,
            "_view_module_version": "1.5.0",
            "box_style": "",
            "layout": "IPY_MODEL_84a809f788034cbe85cc2915e0f56e3f",
            "_model_module": "@jupyter-widgets/controls",
            "children": [
              "IPY_MODEL_0e01486524a74c8a99e747ec54db6767",
              "IPY_MODEL_acf55f97487d49528f7ad0405052cf33",
              "IPY_MODEL_51bc572c9d26449c8c707a965f568106"
            ]
          }
        },
        "84a809f788034cbe85cc2915e0f56e3f": {
          "model_module": "@jupyter-widgets/base",
          "model_name": "LayoutModel",
          "model_module_version": "1.2.0",
          "state": {
            "_view_name": "LayoutView",
            "grid_template_rows": null,
            "right": null,
            "justify_content": null,
            "_view_module": "@jupyter-widgets/base",
            "overflow": null,
            "_model_module_version": "1.2.0",
            "_view_count": null,
            "flex_flow": "row wrap",
            "width": "100%",
            "min_width": null,
            "border": null,
            "align_items": null,
            "bottom": null,
            "_model_module": "@jupyter-widgets/base",
            "top": null,
            "grid_column": null,
            "overflow_y": null,
            "overflow_x": null,
            "grid_auto_flow": null,
            "grid_area": null,
            "grid_template_columns": null,
            "flex": null,
            "_model_name": "LayoutModel",
            "justify_items": null,
            "grid_row": null,
            "max_height": null,
            "align_content": null,
            "visibility": null,
            "align_self": null,
            "height": null,
            "min_height": null,
            "padding": null,
            "grid_auto_rows": null,
            "grid_gap": null,
            "max_width": null,
            "order": null,
            "_view_module_version": "1.2.0",
            "grid_template_areas": null,
            "object_position": null,
            "object_fit": null,
            "grid_auto_columns": null,
            "margin": null,
            "display": "inline-flex",
            "left": null
          }
        },
        "0e01486524a74c8a99e747ec54db6767": {
          "model_module": "@jupyter-widgets/controls",
          "model_name": "HTMLModel",
          "model_module_version": "1.5.0",
          "state": {
            "_view_name": "HTMLView",
            "style": "IPY_MODEL_2ea6af3e4b2d4bc793814a0cee56ee2e",
            "_dom_classes": [],
            "description": "",
            "_model_name": "HTMLModel",
            "placeholder": "​",
            "_view_module": "@jupyter-widgets/controls",
            "_model_module_version": "1.5.0",
            "value": "Validating: 100%",
            "_view_count": null,
            "_view_module_version": "1.5.0",
            "description_tooltip": null,
            "_model_module": "@jupyter-widgets/controls",
            "layout": "IPY_MODEL_a92cfb6285bb45af802b26037c13d5c8"
          }
        },
        "acf55f97487d49528f7ad0405052cf33": {
          "model_module": "@jupyter-widgets/controls",
          "model_name": "FloatProgressModel",
          "model_module_version": "1.5.0",
          "state": {
            "_view_name": "ProgressView",
            "style": "IPY_MODEL_10a9b02161db4c95bead546029c3a828",
            "_dom_classes": [],
            "description": "",
            "_model_name": "FloatProgressModel",
            "bar_style": "",
            "max": 204,
            "_view_module": "@jupyter-widgets/controls",
            "_model_module_version": "1.5.0",
            "value": 204,
            "_view_count": null,
            "_view_module_version": "1.5.0",
            "orientation": "horizontal",
            "min": 0,
            "description_tooltip": null,
            "_model_module": "@jupyter-widgets/controls",
            "layout": "IPY_MODEL_55f2ca9c6856488d861f2594d5e8fb84"
          }
        },
        "51bc572c9d26449c8c707a965f568106": {
          "model_module": "@jupyter-widgets/controls",
          "model_name": "HTMLModel",
          "model_module_version": "1.5.0",
          "state": {
            "_view_name": "HTMLView",
            "style": "IPY_MODEL_76051f0134e34faebef7c6bdaa5068a3",
            "_dom_classes": [],
            "description": "",
            "_model_name": "HTMLModel",
            "placeholder": "​",
            "_view_module": "@jupyter-widgets/controls",
            "_model_module_version": "1.5.0",
            "value": " 204/204 [00:28&lt;00:00,  6.90it/s]",
            "_view_count": null,
            "_view_module_version": "1.5.0",
            "description_tooltip": null,
            "_model_module": "@jupyter-widgets/controls",
            "layout": "IPY_MODEL_2f5aad01a9e543f2a3186dd3f357ed0e"
          }
        },
        "2ea6af3e4b2d4bc793814a0cee56ee2e": {
          "model_module": "@jupyter-widgets/controls",
          "model_name": "DescriptionStyleModel",
          "model_module_version": "1.5.0",
          "state": {
            "_view_name": "StyleView",
            "_model_name": "DescriptionStyleModel",
            "description_width": "",
            "_view_module": "@jupyter-widgets/base",
            "_model_module_version": "1.5.0",
            "_view_count": null,
            "_view_module_version": "1.2.0",
            "_model_module": "@jupyter-widgets/controls"
          }
        },
        "a92cfb6285bb45af802b26037c13d5c8": {
          "model_module": "@jupyter-widgets/base",
          "model_name": "LayoutModel",
          "model_module_version": "1.2.0",
          "state": {
            "_view_name": "LayoutView",
            "grid_template_rows": null,
            "right": null,
            "justify_content": null,
            "_view_module": "@jupyter-widgets/base",
            "overflow": null,
            "_model_module_version": "1.2.0",
            "_view_count": null,
            "flex_flow": null,
            "width": null,
            "min_width": null,
            "border": null,
            "align_items": null,
            "bottom": null,
            "_model_module": "@jupyter-widgets/base",
            "top": null,
            "grid_column": null,
            "overflow_y": null,
            "overflow_x": null,
            "grid_auto_flow": null,
            "grid_area": null,
            "grid_template_columns": null,
            "flex": null,
            "_model_name": "LayoutModel",
            "justify_items": null,
            "grid_row": null,
            "max_height": null,
            "align_content": null,
            "visibility": null,
            "align_self": null,
            "height": null,
            "min_height": null,
            "padding": null,
            "grid_auto_rows": null,
            "grid_gap": null,
            "max_width": null,
            "order": null,
            "_view_module_version": "1.2.0",
            "grid_template_areas": null,
            "object_position": null,
            "object_fit": null,
            "grid_auto_columns": null,
            "margin": null,
            "display": null,
            "left": null
          }
        },
        "10a9b02161db4c95bead546029c3a828": {
          "model_module": "@jupyter-widgets/controls",
          "model_name": "ProgressStyleModel",
          "model_module_version": "1.5.0",
          "state": {
            "_view_name": "StyleView",
            "_model_name": "ProgressStyleModel",
            "description_width": "",
            "_view_module": "@jupyter-widgets/base",
            "_model_module_version": "1.5.0",
            "_view_count": null,
            "_view_module_version": "1.2.0",
            "bar_color": null,
            "_model_module": "@jupyter-widgets/controls"
          }
        },
        "55f2ca9c6856488d861f2594d5e8fb84": {
          "model_module": "@jupyter-widgets/base",
          "model_name": "LayoutModel",
          "model_module_version": "1.2.0",
          "state": {
            "_view_name": "LayoutView",
            "grid_template_rows": null,
            "right": null,
            "justify_content": null,
            "_view_module": "@jupyter-widgets/base",
            "overflow": null,
            "_model_module_version": "1.2.0",
            "_view_count": null,
            "flex_flow": null,
            "width": null,
            "min_width": null,
            "border": null,
            "align_items": null,
            "bottom": null,
            "_model_module": "@jupyter-widgets/base",
            "top": null,
            "grid_column": null,
            "overflow_y": null,
            "overflow_x": null,
            "grid_auto_flow": null,
            "grid_area": null,
            "grid_template_columns": null,
            "flex": "2",
            "_model_name": "LayoutModel",
            "justify_items": null,
            "grid_row": null,
            "max_height": null,
            "align_content": null,
            "visibility": null,
            "align_self": null,
            "height": null,
            "min_height": null,
            "padding": null,
            "grid_auto_rows": null,
            "grid_gap": null,
            "max_width": null,
            "order": null,
            "_view_module_version": "1.2.0",
            "grid_template_areas": null,
            "object_position": null,
            "object_fit": null,
            "grid_auto_columns": null,
            "margin": null,
            "display": null,
            "left": null
          }
        },
        "76051f0134e34faebef7c6bdaa5068a3": {
          "model_module": "@jupyter-widgets/controls",
          "model_name": "DescriptionStyleModel",
          "model_module_version": "1.5.0",
          "state": {
            "_view_name": "StyleView",
            "_model_name": "DescriptionStyleModel",
            "description_width": "",
            "_view_module": "@jupyter-widgets/base",
            "_model_module_version": "1.5.0",
            "_view_count": null,
            "_view_module_version": "1.2.0",
            "_model_module": "@jupyter-widgets/controls"
          }
        },
        "2f5aad01a9e543f2a3186dd3f357ed0e": {
          "model_module": "@jupyter-widgets/base",
          "model_name": "LayoutModel",
          "model_module_version": "1.2.0",
          "state": {
            "_view_name": "LayoutView",
            "grid_template_rows": null,
            "right": null,
            "justify_content": null,
            "_view_module": "@jupyter-widgets/base",
            "overflow": null,
            "_model_module_version": "1.2.0",
            "_view_count": null,
            "flex_flow": null,
            "width": null,
            "min_width": null,
            "border": null,
            "align_items": null,
            "bottom": null,
            "_model_module": "@jupyter-widgets/base",
            "top": null,
            "grid_column": null,
            "overflow_y": null,
            "overflow_x": null,
            "grid_auto_flow": null,
            "grid_area": null,
            "grid_template_columns": null,
            "flex": null,
            "_model_name": "LayoutModel",
            "justify_items": null,
            "grid_row": null,
            "max_height": null,
            "align_content": null,
            "visibility": null,
            "align_self": null,
            "height": null,
            "min_height": null,
            "padding": null,
            "grid_auto_rows": null,
            "grid_gap": null,
            "max_width": null,
            "order": null,
            "_view_module_version": "1.2.0",
            "grid_template_areas": null,
            "object_position": null,
            "object_fit": null,
            "grid_auto_columns": null,
            "margin": null,
            "display": null,
            "left": null
          }
        },
        "68db903dafaa499684d766c986ef9a79": {
          "model_module": "@jupyter-widgets/controls",
          "model_name": "HBoxModel",
          "model_module_version": "1.5.0",
          "state": {
            "_view_name": "HBoxView",
            "_dom_classes": [],
            "_model_name": "HBoxModel",
            "_view_module": "@jupyter-widgets/controls",
            "_model_module_version": "1.5.0",
            "_view_count": null,
            "_view_module_version": "1.5.0",
            "box_style": "",
            "layout": "IPY_MODEL_2ba7779c222940669f3f09e25c381a0f",
            "_model_module": "@jupyter-widgets/controls",
            "children": [
              "IPY_MODEL_9ffe186e16b84cf2bacb78fa3842d7a0",
              "IPY_MODEL_b4b3e7a25fe24c11a069285b3808b496",
              "IPY_MODEL_3eb8f766a67a4664a63397e20e07ec98"
            ]
          }
        },
        "2ba7779c222940669f3f09e25c381a0f": {
          "model_module": "@jupyter-widgets/base",
          "model_name": "LayoutModel",
          "model_module_version": "1.2.0",
          "state": {
            "_view_name": "LayoutView",
            "grid_template_rows": null,
            "right": null,
            "justify_content": null,
            "_view_module": "@jupyter-widgets/base",
            "overflow": null,
            "_model_module_version": "1.2.0",
            "_view_count": null,
            "flex_flow": "row wrap",
            "width": "100%",
            "min_width": null,
            "border": null,
            "align_items": null,
            "bottom": null,
            "_model_module": "@jupyter-widgets/base",
            "top": null,
            "grid_column": null,
            "overflow_y": null,
            "overflow_x": null,
            "grid_auto_flow": null,
            "grid_area": null,
            "grid_template_columns": null,
            "flex": null,
            "_model_name": "LayoutModel",
            "justify_items": null,
            "grid_row": null,
            "max_height": null,
            "align_content": null,
            "visibility": null,
            "align_self": null,
            "height": null,
            "min_height": null,
            "padding": null,
            "grid_auto_rows": null,
            "grid_gap": null,
            "max_width": null,
            "order": null,
            "_view_module_version": "1.2.0",
            "grid_template_areas": null,
            "object_position": null,
            "object_fit": null,
            "grid_auto_columns": null,
            "margin": null,
            "display": "inline-flex",
            "left": null
          }
        },
        "9ffe186e16b84cf2bacb78fa3842d7a0": {
          "model_module": "@jupyter-widgets/controls",
          "model_name": "HTMLModel",
          "model_module_version": "1.5.0",
          "state": {
            "_view_name": "HTMLView",
            "style": "IPY_MODEL_0189b54a9dc1484eb5731991861f51e4",
            "_dom_classes": [],
            "description": "",
            "_model_name": "HTMLModel",
            "placeholder": "​",
            "_view_module": "@jupyter-widgets/controls",
            "_model_module_version": "1.5.0",
            "value": "Validating: 100%",
            "_view_count": null,
            "_view_module_version": "1.5.0",
            "description_tooltip": null,
            "_model_module": "@jupyter-widgets/controls",
            "layout": "IPY_MODEL_b076094950894721bdd0dd018b41b1d4"
          }
        },
        "b4b3e7a25fe24c11a069285b3808b496": {
          "model_module": "@jupyter-widgets/controls",
          "model_name": "FloatProgressModel",
          "model_module_version": "1.5.0",
          "state": {
            "_view_name": "ProgressView",
            "style": "IPY_MODEL_8608398adab141dda52b721d1f028dbc",
            "_dom_classes": [],
            "description": "",
            "_model_name": "FloatProgressModel",
            "bar_style": "",
            "max": 204,
            "_view_module": "@jupyter-widgets/controls",
            "_model_module_version": "1.5.0",
            "value": 204,
            "_view_count": null,
            "_view_module_version": "1.5.0",
            "orientation": "horizontal",
            "min": 0,
            "description_tooltip": null,
            "_model_module": "@jupyter-widgets/controls",
            "layout": "IPY_MODEL_d15369fc9f9a49f0a3584fa41ea02390"
          }
        },
        "3eb8f766a67a4664a63397e20e07ec98": {
          "model_module": "@jupyter-widgets/controls",
          "model_name": "HTMLModel",
          "model_module_version": "1.5.0",
          "state": {
            "_view_name": "HTMLView",
            "style": "IPY_MODEL_233b75897fe34e8aaaa2ec334d39f78f",
            "_dom_classes": [],
            "description": "",
            "_model_name": "HTMLModel",
            "placeholder": "​",
            "_view_module": "@jupyter-widgets/controls",
            "_model_module_version": "1.5.0",
            "value": " 204/204 [00:36&lt;00:00,  6.12it/s]",
            "_view_count": null,
            "_view_module_version": "1.5.0",
            "description_tooltip": null,
            "_model_module": "@jupyter-widgets/controls",
            "layout": "IPY_MODEL_0f2bab403f0e43eeabe74ca1f20f2c20"
          }
        },
        "0189b54a9dc1484eb5731991861f51e4": {
          "model_module": "@jupyter-widgets/controls",
          "model_name": "DescriptionStyleModel",
          "model_module_version": "1.5.0",
          "state": {
            "_view_name": "StyleView",
            "_model_name": "DescriptionStyleModel",
            "description_width": "",
            "_view_module": "@jupyter-widgets/base",
            "_model_module_version": "1.5.0",
            "_view_count": null,
            "_view_module_version": "1.2.0",
            "_model_module": "@jupyter-widgets/controls"
          }
        },
        "b076094950894721bdd0dd018b41b1d4": {
          "model_module": "@jupyter-widgets/base",
          "model_name": "LayoutModel",
          "model_module_version": "1.2.0",
          "state": {
            "_view_name": "LayoutView",
            "grid_template_rows": null,
            "right": null,
            "justify_content": null,
            "_view_module": "@jupyter-widgets/base",
            "overflow": null,
            "_model_module_version": "1.2.0",
            "_view_count": null,
            "flex_flow": null,
            "width": null,
            "min_width": null,
            "border": null,
            "align_items": null,
            "bottom": null,
            "_model_module": "@jupyter-widgets/base",
            "top": null,
            "grid_column": null,
            "overflow_y": null,
            "overflow_x": null,
            "grid_auto_flow": null,
            "grid_area": null,
            "grid_template_columns": null,
            "flex": null,
            "_model_name": "LayoutModel",
            "justify_items": null,
            "grid_row": null,
            "max_height": null,
            "align_content": null,
            "visibility": null,
            "align_self": null,
            "height": null,
            "min_height": null,
            "padding": null,
            "grid_auto_rows": null,
            "grid_gap": null,
            "max_width": null,
            "order": null,
            "_view_module_version": "1.2.0",
            "grid_template_areas": null,
            "object_position": null,
            "object_fit": null,
            "grid_auto_columns": null,
            "margin": null,
            "display": null,
            "left": null
          }
        },
        "8608398adab141dda52b721d1f028dbc": {
          "model_module": "@jupyter-widgets/controls",
          "model_name": "ProgressStyleModel",
          "model_module_version": "1.5.0",
          "state": {
            "_view_name": "StyleView",
            "_model_name": "ProgressStyleModel",
            "description_width": "",
            "_view_module": "@jupyter-widgets/base",
            "_model_module_version": "1.5.0",
            "_view_count": null,
            "_view_module_version": "1.2.0",
            "bar_color": null,
            "_model_module": "@jupyter-widgets/controls"
          }
        },
        "d15369fc9f9a49f0a3584fa41ea02390": {
          "model_module": "@jupyter-widgets/base",
          "model_name": "LayoutModel",
          "model_module_version": "1.2.0",
          "state": {
            "_view_name": "LayoutView",
            "grid_template_rows": null,
            "right": null,
            "justify_content": null,
            "_view_module": "@jupyter-widgets/base",
            "overflow": null,
            "_model_module_version": "1.2.0",
            "_view_count": null,
            "flex_flow": null,
            "width": null,
            "min_width": null,
            "border": null,
            "align_items": null,
            "bottom": null,
            "_model_module": "@jupyter-widgets/base",
            "top": null,
            "grid_column": null,
            "overflow_y": null,
            "overflow_x": null,
            "grid_auto_flow": null,
            "grid_area": null,
            "grid_template_columns": null,
            "flex": "2",
            "_model_name": "LayoutModel",
            "justify_items": null,
            "grid_row": null,
            "max_height": null,
            "align_content": null,
            "visibility": null,
            "align_self": null,
            "height": null,
            "min_height": null,
            "padding": null,
            "grid_auto_rows": null,
            "grid_gap": null,
            "max_width": null,
            "order": null,
            "_view_module_version": "1.2.0",
            "grid_template_areas": null,
            "object_position": null,
            "object_fit": null,
            "grid_auto_columns": null,
            "margin": null,
            "display": null,
            "left": null
          }
        },
        "233b75897fe34e8aaaa2ec334d39f78f": {
          "model_module": "@jupyter-widgets/controls",
          "model_name": "DescriptionStyleModel",
          "model_module_version": "1.5.0",
          "state": {
            "_view_name": "StyleView",
            "_model_name": "DescriptionStyleModel",
            "description_width": "",
            "_view_module": "@jupyter-widgets/base",
            "_model_module_version": "1.5.0",
            "_view_count": null,
            "_view_module_version": "1.2.0",
            "_model_module": "@jupyter-widgets/controls"
          }
        },
        "0f2bab403f0e43eeabe74ca1f20f2c20": {
          "model_module": "@jupyter-widgets/base",
          "model_name": "LayoutModel",
          "model_module_version": "1.2.0",
          "state": {
            "_view_name": "LayoutView",
            "grid_template_rows": null,
            "right": null,
            "justify_content": null,
            "_view_module": "@jupyter-widgets/base",
            "overflow": null,
            "_model_module_version": "1.2.0",
            "_view_count": null,
            "flex_flow": null,
            "width": null,
            "min_width": null,
            "border": null,
            "align_items": null,
            "bottom": null,
            "_model_module": "@jupyter-widgets/base",
            "top": null,
            "grid_column": null,
            "overflow_y": null,
            "overflow_x": null,
            "grid_auto_flow": null,
            "grid_area": null,
            "grid_template_columns": null,
            "flex": null,
            "_model_name": "LayoutModel",
            "justify_items": null,
            "grid_row": null,
            "max_height": null,
            "align_content": null,
            "visibility": null,
            "align_self": null,
            "height": null,
            "min_height": null,
            "padding": null,
            "grid_auto_rows": null,
            "grid_gap": null,
            "max_width": null,
            "order": null,
            "_view_module_version": "1.2.0",
            "grid_template_areas": null,
            "object_position": null,
            "object_fit": null,
            "grid_auto_columns": null,
            "margin": null,
            "display": null,
            "left": null
          }
        },
        "7c02f2b2640c43c0b819b2b02fe28ac6": {
          "model_module": "@jupyter-widgets/controls",
          "model_name": "HBoxModel",
          "model_module_version": "1.5.0",
          "state": {
            "_view_name": "HBoxView",
            "_dom_classes": [],
            "_model_name": "HBoxModel",
            "_view_module": "@jupyter-widgets/controls",
            "_model_module_version": "1.5.0",
            "_view_count": null,
            "_view_module_version": "1.5.0",
            "box_style": "",
            "layout": "IPY_MODEL_926d4b4599164821a8e0965bfe793e07",
            "_model_module": "@jupyter-widgets/controls",
            "children": [
              "IPY_MODEL_69528271c9fa453e8d1499e0e7d33505",
              "IPY_MODEL_564d2ba3adfd41b9bad5bdf513683933",
              "IPY_MODEL_3dd9715dd7aa41aa88369112a4294f59"
            ]
          }
        },
        "926d4b4599164821a8e0965bfe793e07": {
          "model_module": "@jupyter-widgets/base",
          "model_name": "LayoutModel",
          "model_module_version": "1.2.0",
          "state": {
            "_view_name": "LayoutView",
            "grid_template_rows": null,
            "right": null,
            "justify_content": null,
            "_view_module": "@jupyter-widgets/base",
            "overflow": null,
            "_model_module_version": "1.2.0",
            "_view_count": null,
            "flex_flow": "row wrap",
            "width": "100%",
            "min_width": null,
            "border": null,
            "align_items": null,
            "bottom": null,
            "_model_module": "@jupyter-widgets/base",
            "top": null,
            "grid_column": null,
            "overflow_y": null,
            "overflow_x": null,
            "grid_auto_flow": null,
            "grid_area": null,
            "grid_template_columns": null,
            "flex": null,
            "_model_name": "LayoutModel",
            "justify_items": null,
            "grid_row": null,
            "max_height": null,
            "align_content": null,
            "visibility": null,
            "align_self": null,
            "height": null,
            "min_height": null,
            "padding": null,
            "grid_auto_rows": null,
            "grid_gap": null,
            "max_width": null,
            "order": null,
            "_view_module_version": "1.2.0",
            "grid_template_areas": null,
            "object_position": null,
            "object_fit": null,
            "grid_auto_columns": null,
            "margin": null,
            "display": "inline-flex",
            "left": null
          }
        },
        "69528271c9fa453e8d1499e0e7d33505": {
          "model_module": "@jupyter-widgets/controls",
          "model_name": "HTMLModel",
          "model_module_version": "1.5.0",
          "state": {
            "_view_name": "HTMLView",
            "style": "IPY_MODEL_167ac06639b84e49b82c96b172b0a142",
            "_dom_classes": [],
            "description": "",
            "_model_name": "HTMLModel",
            "placeholder": "​",
            "_view_module": "@jupyter-widgets/controls",
            "_model_module_version": "1.5.0",
            "value": "Validating: 100%",
            "_view_count": null,
            "_view_module_version": "1.5.0",
            "description_tooltip": null,
            "_model_module": "@jupyter-widgets/controls",
            "layout": "IPY_MODEL_3afbfc2a5aea4723bc34da2857f5b250"
          }
        },
        "564d2ba3adfd41b9bad5bdf513683933": {
          "model_module": "@jupyter-widgets/controls",
          "model_name": "FloatProgressModel",
          "model_module_version": "1.5.0",
          "state": {
            "_view_name": "ProgressView",
            "style": "IPY_MODEL_3633c94d64f141e9b0f2e11b64e22598",
            "_dom_classes": [],
            "description": "",
            "_model_name": "FloatProgressModel",
            "bar_style": "",
            "max": 204,
            "_view_module": "@jupyter-widgets/controls",
            "_model_module_version": "1.5.0",
            "value": 204,
            "_view_count": null,
            "_view_module_version": "1.5.0",
            "orientation": "horizontal",
            "min": 0,
            "description_tooltip": null,
            "_model_module": "@jupyter-widgets/controls",
            "layout": "IPY_MODEL_7ef333c863f04ec5835baaf22765218f"
          }
        },
        "3dd9715dd7aa41aa88369112a4294f59": {
          "model_module": "@jupyter-widgets/controls",
          "model_name": "HTMLModel",
          "model_module_version": "1.5.0",
          "state": {
            "_view_name": "HTMLView",
            "style": "IPY_MODEL_0afd481b80f5437a998cd667ddd6a33a",
            "_dom_classes": [],
            "description": "",
            "_model_name": "HTMLModel",
            "placeholder": "​",
            "_view_module": "@jupyter-widgets/controls",
            "_model_module_version": "1.5.0",
            "value": " 204/204 [00:28&lt;00:00,  6.97it/s]",
            "_view_count": null,
            "_view_module_version": "1.5.0",
            "description_tooltip": null,
            "_model_module": "@jupyter-widgets/controls",
            "layout": "IPY_MODEL_e0545d814a334aa7a996a0cdbbc15181"
          }
        },
        "167ac06639b84e49b82c96b172b0a142": {
          "model_module": "@jupyter-widgets/controls",
          "model_name": "DescriptionStyleModel",
          "model_module_version": "1.5.0",
          "state": {
            "_view_name": "StyleView",
            "_model_name": "DescriptionStyleModel",
            "description_width": "",
            "_view_module": "@jupyter-widgets/base",
            "_model_module_version": "1.5.0",
            "_view_count": null,
            "_view_module_version": "1.2.0",
            "_model_module": "@jupyter-widgets/controls"
          }
        },
        "3afbfc2a5aea4723bc34da2857f5b250": {
          "model_module": "@jupyter-widgets/base",
          "model_name": "LayoutModel",
          "model_module_version": "1.2.0",
          "state": {
            "_view_name": "LayoutView",
            "grid_template_rows": null,
            "right": null,
            "justify_content": null,
            "_view_module": "@jupyter-widgets/base",
            "overflow": null,
            "_model_module_version": "1.2.0",
            "_view_count": null,
            "flex_flow": null,
            "width": null,
            "min_width": null,
            "border": null,
            "align_items": null,
            "bottom": null,
            "_model_module": "@jupyter-widgets/base",
            "top": null,
            "grid_column": null,
            "overflow_y": null,
            "overflow_x": null,
            "grid_auto_flow": null,
            "grid_area": null,
            "grid_template_columns": null,
            "flex": null,
            "_model_name": "LayoutModel",
            "justify_items": null,
            "grid_row": null,
            "max_height": null,
            "align_content": null,
            "visibility": null,
            "align_self": null,
            "height": null,
            "min_height": null,
            "padding": null,
            "grid_auto_rows": null,
            "grid_gap": null,
            "max_width": null,
            "order": null,
            "_view_module_version": "1.2.0",
            "grid_template_areas": null,
            "object_position": null,
            "object_fit": null,
            "grid_auto_columns": null,
            "margin": null,
            "display": null,
            "left": null
          }
        },
        "3633c94d64f141e9b0f2e11b64e22598": {
          "model_module": "@jupyter-widgets/controls",
          "model_name": "ProgressStyleModel",
          "model_module_version": "1.5.0",
          "state": {
            "_view_name": "StyleView",
            "_model_name": "ProgressStyleModel",
            "description_width": "",
            "_view_module": "@jupyter-widgets/base",
            "_model_module_version": "1.5.0",
            "_view_count": null,
            "_view_module_version": "1.2.0",
            "bar_color": null,
            "_model_module": "@jupyter-widgets/controls"
          }
        },
        "7ef333c863f04ec5835baaf22765218f": {
          "model_module": "@jupyter-widgets/base",
          "model_name": "LayoutModel",
          "model_module_version": "1.2.0",
          "state": {
            "_view_name": "LayoutView",
            "grid_template_rows": null,
            "right": null,
            "justify_content": null,
            "_view_module": "@jupyter-widgets/base",
            "overflow": null,
            "_model_module_version": "1.2.0",
            "_view_count": null,
            "flex_flow": null,
            "width": null,
            "min_width": null,
            "border": null,
            "align_items": null,
            "bottom": null,
            "_model_module": "@jupyter-widgets/base",
            "top": null,
            "grid_column": null,
            "overflow_y": null,
            "overflow_x": null,
            "grid_auto_flow": null,
            "grid_area": null,
            "grid_template_columns": null,
            "flex": "2",
            "_model_name": "LayoutModel",
            "justify_items": null,
            "grid_row": null,
            "max_height": null,
            "align_content": null,
            "visibility": null,
            "align_self": null,
            "height": null,
            "min_height": null,
            "padding": null,
            "grid_auto_rows": null,
            "grid_gap": null,
            "max_width": null,
            "order": null,
            "_view_module_version": "1.2.0",
            "grid_template_areas": null,
            "object_position": null,
            "object_fit": null,
            "grid_auto_columns": null,
            "margin": null,
            "display": null,
            "left": null
          }
        },
        "0afd481b80f5437a998cd667ddd6a33a": {
          "model_module": "@jupyter-widgets/controls",
          "model_name": "DescriptionStyleModel",
          "model_module_version": "1.5.0",
          "state": {
            "_view_name": "StyleView",
            "_model_name": "DescriptionStyleModel",
            "description_width": "",
            "_view_module": "@jupyter-widgets/base",
            "_model_module_version": "1.5.0",
            "_view_count": null,
            "_view_module_version": "1.2.0",
            "_model_module": "@jupyter-widgets/controls"
          }
        },
        "e0545d814a334aa7a996a0cdbbc15181": {
          "model_module": "@jupyter-widgets/base",
          "model_name": "LayoutModel",
          "model_module_version": "1.2.0",
          "state": {
            "_view_name": "LayoutView",
            "grid_template_rows": null,
            "right": null,
            "justify_content": null,
            "_view_module": "@jupyter-widgets/base",
            "overflow": null,
            "_model_module_version": "1.2.0",
            "_view_count": null,
            "flex_flow": null,
            "width": null,
            "min_width": null,
            "border": null,
            "align_items": null,
            "bottom": null,
            "_model_module": "@jupyter-widgets/base",
            "top": null,
            "grid_column": null,
            "overflow_y": null,
            "overflow_x": null,
            "grid_auto_flow": null,
            "grid_area": null,
            "grid_template_columns": null,
            "flex": null,
            "_model_name": "LayoutModel",
            "justify_items": null,
            "grid_row": null,
            "max_height": null,
            "align_content": null,
            "visibility": null,
            "align_self": null,
            "height": null,
            "min_height": null,
            "padding": null,
            "grid_auto_rows": null,
            "grid_gap": null,
            "max_width": null,
            "order": null,
            "_view_module_version": "1.2.0",
            "grid_template_areas": null,
            "object_position": null,
            "object_fit": null,
            "grid_auto_columns": null,
            "margin": null,
            "display": null,
            "left": null
          }
        },
        "945ddd56884e4bdba20ec635cf7b8444": {
          "model_module": "@jupyter-widgets/controls",
          "model_name": "HBoxModel",
          "model_module_version": "1.5.0",
          "state": {
            "_view_name": "HBoxView",
            "_dom_classes": [],
            "_model_name": "HBoxModel",
            "_view_module": "@jupyter-widgets/controls",
            "_model_module_version": "1.5.0",
            "_view_count": null,
            "_view_module_version": "1.5.0",
            "box_style": "",
            "layout": "IPY_MODEL_544ed9c99f53460b828b1e9002b9f115",
            "_model_module": "@jupyter-widgets/controls",
            "children": [
              "IPY_MODEL_8ca8d889657a41a9bcc2e7ff62ad6f59",
              "IPY_MODEL_ef7a30d8acd64dc0a35c86051b42054c",
              "IPY_MODEL_e9a18e8e25ad4a3b927a938d756051d0"
            ]
          }
        },
        "544ed9c99f53460b828b1e9002b9f115": {
          "model_module": "@jupyter-widgets/base",
          "model_name": "LayoutModel",
          "model_module_version": "1.2.0",
          "state": {
            "_view_name": "LayoutView",
            "grid_template_rows": null,
            "right": null,
            "justify_content": null,
            "_view_module": "@jupyter-widgets/base",
            "overflow": null,
            "_model_module_version": "1.2.0",
            "_view_count": null,
            "flex_flow": "row wrap",
            "width": "100%",
            "min_width": null,
            "border": null,
            "align_items": null,
            "bottom": null,
            "_model_module": "@jupyter-widgets/base",
            "top": null,
            "grid_column": null,
            "overflow_y": null,
            "overflow_x": null,
            "grid_auto_flow": null,
            "grid_area": null,
            "grid_template_columns": null,
            "flex": null,
            "_model_name": "LayoutModel",
            "justify_items": null,
            "grid_row": null,
            "max_height": null,
            "align_content": null,
            "visibility": null,
            "align_self": null,
            "height": null,
            "min_height": null,
            "padding": null,
            "grid_auto_rows": null,
            "grid_gap": null,
            "max_width": null,
            "order": null,
            "_view_module_version": "1.2.0",
            "grid_template_areas": null,
            "object_position": null,
            "object_fit": null,
            "grid_auto_columns": null,
            "margin": null,
            "display": "inline-flex",
            "left": null
          }
        },
        "8ca8d889657a41a9bcc2e7ff62ad6f59": {
          "model_module": "@jupyter-widgets/controls",
          "model_name": "HTMLModel",
          "model_module_version": "1.5.0",
          "state": {
            "_view_name": "HTMLView",
            "style": "IPY_MODEL_55710a8bd8be40e1af327f5ae4e70367",
            "_dom_classes": [],
            "description": "",
            "_model_name": "HTMLModel",
            "placeholder": "​",
            "_view_module": "@jupyter-widgets/controls",
            "_model_module_version": "1.5.0",
            "value": "Validating: 100%",
            "_view_count": null,
            "_view_module_version": "1.5.0",
            "description_tooltip": null,
            "_model_module": "@jupyter-widgets/controls",
            "layout": "IPY_MODEL_9cf3ef20a7504d82b06b26ef204d2700"
          }
        },
        "ef7a30d8acd64dc0a35c86051b42054c": {
          "model_module": "@jupyter-widgets/controls",
          "model_name": "FloatProgressModel",
          "model_module_version": "1.5.0",
          "state": {
            "_view_name": "ProgressView",
            "style": "IPY_MODEL_8e07e7de97bf46b5a1166fc03581e736",
            "_dom_classes": [],
            "description": "",
            "_model_name": "FloatProgressModel",
            "bar_style": "",
            "max": 204,
            "_view_module": "@jupyter-widgets/controls",
            "_model_module_version": "1.5.0",
            "value": 204,
            "_view_count": null,
            "_view_module_version": "1.5.0",
            "orientation": "horizontal",
            "min": 0,
            "description_tooltip": null,
            "_model_module": "@jupyter-widgets/controls",
            "layout": "IPY_MODEL_c99b1d00910e4fc992609f7f0f40178a"
          }
        },
        "e9a18e8e25ad4a3b927a938d756051d0": {
          "model_module": "@jupyter-widgets/controls",
          "model_name": "HTMLModel",
          "model_module_version": "1.5.0",
          "state": {
            "_view_name": "HTMLView",
            "style": "IPY_MODEL_42defeefdc30456ca1f0f13884bb0b55",
            "_dom_classes": [],
            "description": "",
            "_model_name": "HTMLModel",
            "placeholder": "​",
            "_view_module": "@jupyter-widgets/controls",
            "_model_module_version": "1.5.0",
            "value": " 204/204 [00:29&lt;00:00,  6.27it/s]",
            "_view_count": null,
            "_view_module_version": "1.5.0",
            "description_tooltip": null,
            "_model_module": "@jupyter-widgets/controls",
            "layout": "IPY_MODEL_5a8f3519671b47bd82b7b7ebe1f4bbd4"
          }
        },
        "55710a8bd8be40e1af327f5ae4e70367": {
          "model_module": "@jupyter-widgets/controls",
          "model_name": "DescriptionStyleModel",
          "model_module_version": "1.5.0",
          "state": {
            "_view_name": "StyleView",
            "_model_name": "DescriptionStyleModel",
            "description_width": "",
            "_view_module": "@jupyter-widgets/base",
            "_model_module_version": "1.5.0",
            "_view_count": null,
            "_view_module_version": "1.2.0",
            "_model_module": "@jupyter-widgets/controls"
          }
        },
        "9cf3ef20a7504d82b06b26ef204d2700": {
          "model_module": "@jupyter-widgets/base",
          "model_name": "LayoutModel",
          "model_module_version": "1.2.0",
          "state": {
            "_view_name": "LayoutView",
            "grid_template_rows": null,
            "right": null,
            "justify_content": null,
            "_view_module": "@jupyter-widgets/base",
            "overflow": null,
            "_model_module_version": "1.2.0",
            "_view_count": null,
            "flex_flow": null,
            "width": null,
            "min_width": null,
            "border": null,
            "align_items": null,
            "bottom": null,
            "_model_module": "@jupyter-widgets/base",
            "top": null,
            "grid_column": null,
            "overflow_y": null,
            "overflow_x": null,
            "grid_auto_flow": null,
            "grid_area": null,
            "grid_template_columns": null,
            "flex": null,
            "_model_name": "LayoutModel",
            "justify_items": null,
            "grid_row": null,
            "max_height": null,
            "align_content": null,
            "visibility": null,
            "align_self": null,
            "height": null,
            "min_height": null,
            "padding": null,
            "grid_auto_rows": null,
            "grid_gap": null,
            "max_width": null,
            "order": null,
            "_view_module_version": "1.2.0",
            "grid_template_areas": null,
            "object_position": null,
            "object_fit": null,
            "grid_auto_columns": null,
            "margin": null,
            "display": null,
            "left": null
          }
        },
        "8e07e7de97bf46b5a1166fc03581e736": {
          "model_module": "@jupyter-widgets/controls",
          "model_name": "ProgressStyleModel",
          "model_module_version": "1.5.0",
          "state": {
            "_view_name": "StyleView",
            "_model_name": "ProgressStyleModel",
            "description_width": "",
            "_view_module": "@jupyter-widgets/base",
            "_model_module_version": "1.5.0",
            "_view_count": null,
            "_view_module_version": "1.2.0",
            "bar_color": null,
            "_model_module": "@jupyter-widgets/controls"
          }
        },
        "c99b1d00910e4fc992609f7f0f40178a": {
          "model_module": "@jupyter-widgets/base",
          "model_name": "LayoutModel",
          "model_module_version": "1.2.0",
          "state": {
            "_view_name": "LayoutView",
            "grid_template_rows": null,
            "right": null,
            "justify_content": null,
            "_view_module": "@jupyter-widgets/base",
            "overflow": null,
            "_model_module_version": "1.2.0",
            "_view_count": null,
            "flex_flow": null,
            "width": null,
            "min_width": null,
            "border": null,
            "align_items": null,
            "bottom": null,
            "_model_module": "@jupyter-widgets/base",
            "top": null,
            "grid_column": null,
            "overflow_y": null,
            "overflow_x": null,
            "grid_auto_flow": null,
            "grid_area": null,
            "grid_template_columns": null,
            "flex": "2",
            "_model_name": "LayoutModel",
            "justify_items": null,
            "grid_row": null,
            "max_height": null,
            "align_content": null,
            "visibility": null,
            "align_self": null,
            "height": null,
            "min_height": null,
            "padding": null,
            "grid_auto_rows": null,
            "grid_gap": null,
            "max_width": null,
            "order": null,
            "_view_module_version": "1.2.0",
            "grid_template_areas": null,
            "object_position": null,
            "object_fit": null,
            "grid_auto_columns": null,
            "margin": null,
            "display": null,
            "left": null
          }
        },
        "42defeefdc30456ca1f0f13884bb0b55": {
          "model_module": "@jupyter-widgets/controls",
          "model_name": "DescriptionStyleModel",
          "model_module_version": "1.5.0",
          "state": {
            "_view_name": "StyleView",
            "_model_name": "DescriptionStyleModel",
            "description_width": "",
            "_view_module": "@jupyter-widgets/base",
            "_model_module_version": "1.5.0",
            "_view_count": null,
            "_view_module_version": "1.2.0",
            "_model_module": "@jupyter-widgets/controls"
          }
        },
        "5a8f3519671b47bd82b7b7ebe1f4bbd4": {
          "model_module": "@jupyter-widgets/base",
          "model_name": "LayoutModel",
          "model_module_version": "1.2.0",
          "state": {
            "_view_name": "LayoutView",
            "grid_template_rows": null,
            "right": null,
            "justify_content": null,
            "_view_module": "@jupyter-widgets/base",
            "overflow": null,
            "_model_module_version": "1.2.0",
            "_view_count": null,
            "flex_flow": null,
            "width": null,
            "min_width": null,
            "border": null,
            "align_items": null,
            "bottom": null,
            "_model_module": "@jupyter-widgets/base",
            "top": null,
            "grid_column": null,
            "overflow_y": null,
            "overflow_x": null,
            "grid_auto_flow": null,
            "grid_area": null,
            "grid_template_columns": null,
            "flex": null,
            "_model_name": "LayoutModel",
            "justify_items": null,
            "grid_row": null,
            "max_height": null,
            "align_content": null,
            "visibility": null,
            "align_self": null,
            "height": null,
            "min_height": null,
            "padding": null,
            "grid_auto_rows": null,
            "grid_gap": null,
            "max_width": null,
            "order": null,
            "_view_module_version": "1.2.0",
            "grid_template_areas": null,
            "object_position": null,
            "object_fit": null,
            "grid_auto_columns": null,
            "margin": null,
            "display": null,
            "left": null
          }
        }
      }
    },
    "accelerator": "GPU"
  },
  "cells": [
    {
      "cell_type": "markdown",
      "metadata": {
        "id": "view-in-github",
        "colab_type": "text"
      },
      "source": [
        "<a href=\"https://colab.research.google.com/github/IrinaArmstrong/CoNLL-2003_NER/blob/main/My_TestTaskNER_CRF.ipynb\" target=\"_parent\"><img src=\"https://colab.research.google.com/assets/colab-badge.svg\" alt=\"Open In Colab\"/></a>"
      ]
    },
    {
      "cell_type": "markdown",
      "metadata": {
        "id": "W3W68fXhinqH"
      },
      "source": [
        "# Тестовое задание \n",
        "\n",
        "   Ваша задача написать пайплайн для тренировки модели глубоко обучения (любую – **embeddings + LSTM, Bert** …) с использованием следующих инструментов: pytorch, sklearn, matplotlib – для решения задачи **NER** (извлечения сущностей).\n",
        "\n",
        "   В качестве данных используется датасет **Conll2003** с четырьмя классами **Per, Org, Loc, Misc** в формате **Conll**.\n",
        "\n",
        "   В тетрадке ниже заданы основные классы и функции для построения требуемого пайплайн, какие-то уже имплементированы, какие-то – нет. Их требуется доработать. Тем не менее если данный набор абстракций вам не подходит Вы можете написать свой пайплайн «с нуля», однако обоснованность у этих действий должна быть.\n",
        "\n",
        "**Что оценивается в первую очередь:**\n",
        "- Выбранная архитектура для решения задачи\n",
        "- Выбранные предобученные веса \n",
        "- Полученные метрики\n",
        "\n",
        "**Затем:**\n",
        "- Глубина разведочного анализа\n",
        "- Какая схема теггирования используется (**BIO, IO** или другие)\n",
        "- Каким образом производится расчет метрик (потокенный отчет, отчет по точному совпадению спанов сущностей)\n",
        "\n",
        "**С меньшим приоритетом:** \n",
        "- Скорость предобработки и постобработки данных \n",
        "- Стиль кода"
      ]
    },
    {
      "cell_type": "markdown",
      "source": [
        "# Environment"
      ],
      "metadata": {
        "id": "5zigtC2upzfa"
      }
    },
    {
      "cell_type": "markdown",
      "source": [
        "### Installations"
      ],
      "metadata": {
        "id": "jif0Qiibp2Hc"
      }
    },
    {
      "cell_type": "code",
      "source": [
        "! pip install --quiet transformers[torch] datasets seqeval torchmetrics==0.6.2\n",
        "! pip install --quiet allennlp==1.2.1\n",
        "!pip install torchtext==0.8.0 torch==1.7.1 pytorch-lightning==1.2.2"
      ],
      "metadata": {
        "colab": {
          "base_uri": "https://localhost:8080/"
        },
        "id": "cTN0yXQV-5MK",
        "outputId": "f4f87894-bcaf-4e04-b4d0-5f48850dc9dd"
      },
      "execution_count": 77,
      "outputs": [
        {
          "output_type": "stream",
          "name": "stdout",
          "text": [
            "Requirement already satisfied: torchtext==0.8.0 in /usr/local/lib/python3.7/dist-packages (0.8.0)\n",
            "Requirement already satisfied: torch==1.7.1 in /usr/local/lib/python3.7/dist-packages (1.7.1)\n",
            "Requirement already satisfied: pytorch-lightning==1.2.2 in /usr/local/lib/python3.7/dist-packages (1.2.2)\n",
            "Requirement already satisfied: requests in /usr/local/lib/python3.7/dist-packages (from torchtext==0.8.0) (2.23.0)\n",
            "Requirement already satisfied: numpy in /usr/local/lib/python3.7/dist-packages (from torchtext==0.8.0) (1.19.5)\n",
            "Requirement already satisfied: tqdm in /usr/local/lib/python3.7/dist-packages (from torchtext==0.8.0) (4.62.3)\n",
            "Requirement already satisfied: typing-extensions in /usr/local/lib/python3.7/dist-packages (from torch==1.7.1) (3.10.0.2)\n",
            "Requirement already satisfied: PyYAML!=5.4.*,>=5.1 in /usr/local/lib/python3.7/dist-packages (from pytorch-lightning==1.2.2) (6.0)\n",
            "Requirement already satisfied: future>=0.17.1 in /usr/local/lib/python3.7/dist-packages (from pytorch-lightning==1.2.2) (0.18.2)\n",
            "Requirement already satisfied: fsspec[http]>=0.8.1 in /usr/local/lib/python3.7/dist-packages (from pytorch-lightning==1.2.2) (2022.1.0)\n",
            "Requirement already satisfied: tensorboard>=2.2.0 in /usr/local/lib/python3.7/dist-packages (from pytorch-lightning==1.2.2) (2.7.0)\n",
            "Requirement already satisfied: aiohttp in /usr/local/lib/python3.7/dist-packages (from fsspec[http]>=0.8.1->pytorch-lightning==1.2.2) (3.8.1)\n",
            "Requirement already satisfied: tensorboard-data-server<0.7.0,>=0.6.0 in /usr/local/lib/python3.7/dist-packages (from tensorboard>=2.2.0->pytorch-lightning==1.2.2) (0.6.1)\n",
            "Requirement already satisfied: google-auth<3,>=1.6.3 in /usr/local/lib/python3.7/dist-packages (from tensorboard>=2.2.0->pytorch-lightning==1.2.2) (1.35.0)\n",
            "Requirement already satisfied: markdown>=2.6.8 in /usr/local/lib/python3.7/dist-packages (from tensorboard>=2.2.0->pytorch-lightning==1.2.2) (3.3.6)\n",
            "Requirement already satisfied: tensorboard-plugin-wit>=1.6.0 in /usr/local/lib/python3.7/dist-packages (from tensorboard>=2.2.0->pytorch-lightning==1.2.2) (1.8.1)\n",
            "Requirement already satisfied: werkzeug>=0.11.15 in /usr/local/lib/python3.7/dist-packages (from tensorboard>=2.2.0->pytorch-lightning==1.2.2) (1.0.1)\n",
            "Requirement already satisfied: google-auth-oauthlib<0.5,>=0.4.1 in /usr/local/lib/python3.7/dist-packages (from tensorboard>=2.2.0->pytorch-lightning==1.2.2) (0.4.6)\n",
            "Requirement already satisfied: setuptools>=41.0.0 in /usr/local/lib/python3.7/dist-packages (from tensorboard>=2.2.0->pytorch-lightning==1.2.2) (57.4.0)\n",
            "Requirement already satisfied: wheel>=0.26 in /usr/local/lib/python3.7/dist-packages (from tensorboard>=2.2.0->pytorch-lightning==1.2.2) (0.37.1)\n",
            "Requirement already satisfied: absl-py>=0.4 in /usr/local/lib/python3.7/dist-packages (from tensorboard>=2.2.0->pytorch-lightning==1.2.2) (1.0.0)\n",
            "Requirement already satisfied: grpcio>=1.24.3 in /usr/local/lib/python3.7/dist-packages (from tensorboard>=2.2.0->pytorch-lightning==1.2.2) (1.43.0)\n",
            "Requirement already satisfied: protobuf>=3.6.0 in /usr/local/lib/python3.7/dist-packages (from tensorboard>=2.2.0->pytorch-lightning==1.2.2) (3.17.3)\n",
            "Requirement already satisfied: six in /usr/local/lib/python3.7/dist-packages (from absl-py>=0.4->tensorboard>=2.2.0->pytorch-lightning==1.2.2) (1.15.0)\n",
            "Requirement already satisfied: cachetools<5.0,>=2.0.0 in /usr/local/lib/python3.7/dist-packages (from google-auth<3,>=1.6.3->tensorboard>=2.2.0->pytorch-lightning==1.2.2) (4.2.4)\n",
            "Requirement already satisfied: pyasn1-modules>=0.2.1 in /usr/local/lib/python3.7/dist-packages (from google-auth<3,>=1.6.3->tensorboard>=2.2.0->pytorch-lightning==1.2.2) (0.2.8)\n",
            "Requirement already satisfied: rsa<5,>=3.1.4 in /usr/local/lib/python3.7/dist-packages (from google-auth<3,>=1.6.3->tensorboard>=2.2.0->pytorch-lightning==1.2.2) (4.8)\n",
            "Requirement already satisfied: requests-oauthlib>=0.7.0 in /usr/local/lib/python3.7/dist-packages (from google-auth-oauthlib<0.5,>=0.4.1->tensorboard>=2.2.0->pytorch-lightning==1.2.2) (1.3.0)\n",
            "Requirement already satisfied: importlib-metadata>=4.4 in /usr/local/lib/python3.7/dist-packages (from markdown>=2.6.8->tensorboard>=2.2.0->pytorch-lightning==1.2.2) (4.10.1)\n",
            "Requirement already satisfied: zipp>=0.5 in /usr/local/lib/python3.7/dist-packages (from importlib-metadata>=4.4->markdown>=2.6.8->tensorboard>=2.2.0->pytorch-lightning==1.2.2) (3.7.0)\n",
            "Requirement already satisfied: pyasn1<0.5.0,>=0.4.6 in /usr/local/lib/python3.7/dist-packages (from pyasn1-modules>=0.2.1->google-auth<3,>=1.6.3->tensorboard>=2.2.0->pytorch-lightning==1.2.2) (0.4.8)\n",
            "Requirement already satisfied: certifi>=2017.4.17 in /usr/local/lib/python3.7/dist-packages (from requests->torchtext==0.8.0) (2021.10.8)\n",
            "Requirement already satisfied: urllib3!=1.25.0,!=1.25.1,<1.26,>=1.21.1 in /usr/local/lib/python3.7/dist-packages (from requests->torchtext==0.8.0) (1.25.11)\n",
            "Requirement already satisfied: chardet<4,>=3.0.2 in /usr/local/lib/python3.7/dist-packages (from requests->torchtext==0.8.0) (3.0.4)\n",
            "Requirement already satisfied: idna<3,>=2.5 in /usr/local/lib/python3.7/dist-packages (from requests->torchtext==0.8.0) (2.10)\n",
            "Requirement already satisfied: oauthlib>=3.0.0 in /usr/local/lib/python3.7/dist-packages (from requests-oauthlib>=0.7.0->google-auth-oauthlib<0.5,>=0.4.1->tensorboard>=2.2.0->pytorch-lightning==1.2.2) (3.1.1)\n",
            "Requirement already satisfied: async-timeout<5.0,>=4.0.0a3 in /usr/local/lib/python3.7/dist-packages (from aiohttp->fsspec[http]>=0.8.1->pytorch-lightning==1.2.2) (4.0.2)\n",
            "Requirement already satisfied: charset-normalizer<3.0,>=2.0 in /usr/local/lib/python3.7/dist-packages (from aiohttp->fsspec[http]>=0.8.1->pytorch-lightning==1.2.2) (2.0.10)\n",
            "Requirement already satisfied: multidict<7.0,>=4.5 in /usr/local/lib/python3.7/dist-packages (from aiohttp->fsspec[http]>=0.8.1->pytorch-lightning==1.2.2) (6.0.2)\n",
            "Requirement already satisfied: yarl<2.0,>=1.0 in /usr/local/lib/python3.7/dist-packages (from aiohttp->fsspec[http]>=0.8.1->pytorch-lightning==1.2.2) (1.7.2)\n",
            "Requirement already satisfied: frozenlist>=1.1.1 in /usr/local/lib/python3.7/dist-packages (from aiohttp->fsspec[http]>=0.8.1->pytorch-lightning==1.2.2) (1.3.0)\n",
            "Requirement already satisfied: aiosignal>=1.1.2 in /usr/local/lib/python3.7/dist-packages (from aiohttp->fsspec[http]>=0.8.1->pytorch-lightning==1.2.2) (1.2.0)\n",
            "Requirement already satisfied: asynctest==0.13.0 in /usr/local/lib/python3.7/dist-packages (from aiohttp->fsspec[http]>=0.8.1->pytorch-lightning==1.2.2) (0.13.0)\n",
            "Requirement already satisfied: attrs>=17.3.0 in /usr/local/lib/python3.7/dist-packages (from aiohttp->fsspec[http]>=0.8.1->pytorch-lightning==1.2.2) (21.4.0)\n"
          ]
        }
      ]
    },
    {
      "cell_type": "code",
      "source": [
        "# ! pip install --quiet transformers[torch] datasets seqeval pytorch-lightning torchmetrics==0.6.2\n",
        "# ! pip install --quiet allennlp==1.2.1"
      ],
      "metadata": {
        "id": "vvOmlGQxp5lf"
      },
      "execution_count": 78,
      "outputs": []
    },
    {
      "cell_type": "code",
      "source": [
        "import torch\n",
        "import transformers\n",
        "import torchmetrics\n",
        "import pytorch_lightning\n",
        "\n",
        "print(f\"torch: {torch.__version__}\")\n",
        "print(f\"pytorch_lightning: {pytorch_lightning.__version__}\")\n",
        "print(f\"transformers: {transformers.__version__}\")\n",
        "# print(torchmetrics.__version__)"
      ],
      "metadata": {
        "colab": {
          "base_uri": "https://localhost:8080/"
        },
        "id": "Yhuf_0q9p5o6",
        "outputId": "b5205650-3f1e-4a4d-f0da-e92a7c431397"
      },
      "execution_count": 79,
      "outputs": [
        {
          "output_type": "stream",
          "name": "stdout",
          "text": [
            "torch: 1.7.1\n",
            "pytorch_lightning: 1.2.2\n",
            "transformers: 3.4.0\n"
          ]
        }
      ]
    },
    {
      "cell_type": "markdown",
      "source": [
        "### Imports"
      ],
      "metadata": {
        "id": "SHpll88Lp515"
      }
    },
    {
      "cell_type": "code",
      "source": [
        "# Visualizations\n",
        "import matplotlib.pyplot as plt\n",
        "import seaborn as sns\n",
        "\n",
        "sns.set_theme(style=\"white\", context=\"talk\")\n",
        "plt.style.use('default')\n",
        "%matplotlib inline"
      ],
      "metadata": {
        "id": "AGxwhMAQp9CM"
      },
      "execution_count": 6,
      "outputs": []
    },
    {
      "cell_type": "code",
      "source": [
        "import os\n",
        "import re\n",
        "import gc\n",
        "import sys\n",
        "import random\n",
        "import datetime\n",
        "import itertools\n",
        "import numpy as np\n",
        "import pandas as pd\n",
        "from tqdm import tqdm\n",
        "from pathlib import Path\n",
        "from collections import defaultdict, namedtuple, Counter\n",
        "\n",
        "from typing import (List, Dict, Any, Tuple, Optional, Union)"
      ],
      "metadata": {
        "id": "D4wqgU22p9Ff"
      },
      "execution_count": 7,
      "outputs": []
    },
    {
      "cell_type": "code",
      "source": [
        "# Networks\n",
        "import transformers\n",
        "import tokenizers\n",
        "\n",
        "import torch\n",
        "import torch.nn.functional as F\n",
        "from torch.utils.data import Dataset, DataLoader\n",
        "\n",
        "# Metrics\n",
        "from seqeval.metrics import f1_score, accuracy_score, classification_report"
      ],
      "metadata": {
        "id": "ilk95cCep9JD"
      },
      "execution_count": 8,
      "outputs": []
    },
    {
      "cell_type": "code",
      "source": [
        "import warnings\n",
        "warnings.filterwarnings(\"ignore\")\n",
        "\n",
        "import logging\n",
        "logging.basicConfig(format='%(levelname)s: %(message)s', level=logging.INFO)"
      ],
      "metadata": {
        "id": "EEfc6PiiuF97"
      },
      "execution_count": 9,
      "outputs": []
    },
    {
      "cell_type": "markdown",
      "source": [
        "### Mount drive (if in Colab)"
      ],
      "metadata": {
        "id": "nrFykJx34jrp"
      }
    },
    {
      "cell_type": "code",
      "source": [
        "try:\n",
        "    import google.colab\n",
        "    IN_COLAB = True\n",
        "except:\n",
        "    IN_COLAB = False\n",
        "\n",
        "if IN_COLAB:\n",
        "    from google.colab import drive\n",
        "    drive.mount('/content/drive',  force_remount=True)\n",
        "    BASE_DIR = Path(\"/content/drive/MyDrive/DS Data&Notebooks/AutoNER-TestTask/\")\n",
        "    DATA_DIR = BASE_DIR / \"data\"\n",
        "    OUTPUT_DIR = BASE_DIR / \"outputs\"\n",
        "    MODEL_CHKP_DIR = BASE_DIR / \"models\""
      ],
      "metadata": {
        "colab": {
          "base_uri": "https://localhost:8080/"
        },
        "id": "X2m0QYt64pDA",
        "outputId": "f02fbd06-0adf-46a0-f879-204b3e8c2b9c"
      },
      "execution_count": 80,
      "outputs": [
        {
          "output_type": "stream",
          "name": "stdout",
          "text": [
            "Mounted at /content/drive\n"
          ]
        }
      ]
    },
    {
      "cell_type": "markdown",
      "source": [
        "### Define Paths & Folders"
      ],
      "metadata": {
        "id": "1lNQ-ZTPrEaz"
      }
    },
    {
      "cell_type": "code",
      "source": [
        "if not IN_COLAB:\n",
        "    BASE_DIR = Path().resolve()\n",
        "    DATA_DIR = BASE_DIR / \"data\"\n",
        "    OUTPUT_DIR = BASE_DIR / \"outputs\"\n",
        "    MODEL_CHKP_DIR = BASE_DIR / \"models\"\n",
        "\n",
        "if not DATA_DIR.exists():\n",
        "    DATA_DIR.mkdir(exist_ok=True)\n",
        "    logging.info(f\"Data folder created at: {DATA_DIR}\")\n",
        "\n",
        "if not OUTPUT_DIR.exists():\n",
        "    OUTPUT_DIR.mkdir(exist_ok=True)\n",
        "    logging.info(f\"Output folder created at: {OUTPUT_DIR}\")\n",
        "\n",
        "if not MODEL_CHKP_DIR.exists():\n",
        "    MODEL_CHKP_DIR.mkdir(exist_ok=True)\n",
        "    logging.info(f\"Models checkpoints folder created at: {MODEL_CHKP_DIR}\")"
      ],
      "metadata": {
        "id": "bJbe6_OTp9Mm"
      },
      "execution_count": 81,
      "outputs": []
    },
    {
      "cell_type": "markdown",
      "source": [
        "### Mount device"
      ],
      "metadata": {
        "id": "qxNEn1gEyFV1"
      }
    },
    {
      "cell_type": "code",
      "source": [
        "def acquire_device(device_type: str='cpu'):\n",
        "    \"\"\" Init training device. \"\"\"\n",
        "    print(f\"Training device provided: {device_type}\")\n",
        "\n",
        "    if device_type == 'cuda':\n",
        "        if not torch.cuda.is_available():\n",
        "            print(f\"Device provided is CUDA, but it is available. Changing to CPU.\")\n",
        "            device = torch.device('cpu')\n",
        "        else:\n",
        "            device = torch.device(device_type)\n",
        "            print(torch.cuda.get_device_name(0))\n",
        "            print('Memory Usage, Allocated:', round(torch.cuda.memory_allocated(0) / 1024 ** 3, 1), 'GB')\n",
        "            print('Memory Usage, Cached:', round(torch.cuda.memory_reserved(0) / 1024 ** 3, 1), 'GB')\n",
        "    else:\n",
        "        device = torch.device(device_type)\n",
        "    print(f\"Training device mounted: {device.type}\")\n",
        "    return device\n",
        "\n",
        "def seed_everything(seed_value: int):\n",
        "    random.seed(seed_value)  # Python\n",
        "    np.random.seed(seed_value)  # cpu vars\n",
        "    torch.manual_seed(seed_value)  # cpu  vars\n",
        "    os.environ['PYTHONHASHSEED'] = str(seed_value)\n",
        "\n",
        "    if torch.cuda.is_available():\n",
        "        torch.cuda.manual_seed(seed_value)  # for using CUDA backend\n",
        "        torch.cuda.manual_seed_all(seed_value)  # gpu vars\n",
        "        torch.backends.cudnn.deterministic = True  # get rid of nondeterminism\n",
        "        torch.backends.cudnn.benchmark = True\n",
        "\n",
        "# Set device\n",
        "device = acquire_device(\"cuda\")\n",
        "print(device)\n",
        "seed_everything(11)\n",
        "# if device.type == 'cuda':\n",
        "#     seed_everything(11)"
      ],
      "metadata": {
        "colab": {
          "base_uri": "https://localhost:8080/"
        },
        "id": "MXkgWk1urFUR",
        "outputId": "2ac98d59-5549-45f0-ff6b-c73194d1856a"
      },
      "execution_count": 82,
      "outputs": [
        {
          "output_type": "stream",
          "name": "stdout",
          "text": [
            "Training device provided: cuda\n",
            "Tesla K80\n",
            "Memory Usage, Allocated: 0.8 GB\n",
            "Memory Usage, Cached: 0.9 GB\n",
            "Training device mounted: cuda\n",
            "cuda\n"
          ]
        }
      ]
    },
    {
      "cell_type": "markdown",
      "source": [
        "# Data"
      ],
      "metadata": {
        "id": "nwEmYyflp9f0"
      }
    },
    {
      "cell_type": "markdown",
      "source": [
        "### Load datasets"
      ],
      "metadata": {
        "id": "VXwUTUAkq5FY"
      }
    },
    {
      "cell_type": "code",
      "metadata": {
        "colab": {
          "base_uri": "https://localhost:8080/"
        },
        "id": "SiBslWvSRKH0",
        "outputId": "392f94c4-ed91-49e3-ab09-b2d4cc09a151"
      },
      "source": [
        "!wget https://raw.githubusercontent.com/synalp/NER/master/corpus/CoNLL-2003/eng.testa -P /content/data\n",
        "!wget https://raw.githubusercontent.com/synalp/NER/master/corpus/CoNLL-2003/eng.train -P /content/data\n",
        "\n",
        "!wget https://raw.githubusercontent.com/synalp/NER/master/corpus/CoNLL-2003/eng.testb -P /content/data"
      ],
      "execution_count": 13,
      "outputs": [
        {
          "output_type": "stream",
          "name": "stdout",
          "text": [
            "--2022-01-31 13:43:20--  https://raw.githubusercontent.com/synalp/NER/master/corpus/CoNLL-2003/eng.testa\n",
            "Resolving raw.githubusercontent.com (raw.githubusercontent.com)... 185.199.108.133, 185.199.109.133, 185.199.110.133, ...\n",
            "Connecting to raw.githubusercontent.com (raw.githubusercontent.com)|185.199.108.133|:443... connected.\n",
            "HTTP request sent, awaiting response... 200 OK\n",
            "Length: 827012 (808K) [text/plain]\n",
            "Saving to: ‘/content/data/eng.testa’\n",
            "\n",
            "eng.testa           100%[===================>] 807.63K  --.-KB/s    in 0.03s   \n",
            "\n",
            "2022-01-31 13:43:20 (25.9 MB/s) - ‘/content/data/eng.testa’ saved [827012/827012]\n",
            "\n",
            "--2022-01-31 13:43:20--  https://raw.githubusercontent.com/synalp/NER/master/corpus/CoNLL-2003/eng.train\n",
            "Resolving raw.githubusercontent.com (raw.githubusercontent.com)... 185.199.108.133, 185.199.109.133, 185.199.110.133, ...\n",
            "Connecting to raw.githubusercontent.com (raw.githubusercontent.com)|185.199.108.133|:443... connected.\n",
            "HTTP request sent, awaiting response... 200 OK\n",
            "Length: 3281528 (3.1M) [text/plain]\n",
            "Saving to: ‘/content/data/eng.train’\n",
            "\n",
            "eng.train           100%[===================>]   3.13M  --.-KB/s    in 0.05s   \n",
            "\n",
            "2022-01-31 13:43:21 (67.7 MB/s) - ‘/content/data/eng.train’ saved [3281528/3281528]\n",
            "\n",
            "--2022-01-31 13:43:21--  https://raw.githubusercontent.com/synalp/NER/master/corpus/CoNLL-2003/eng.testb\n",
            "Resolving raw.githubusercontent.com (raw.githubusercontent.com)... 185.199.108.133, 185.199.111.133, 185.199.109.133, ...\n",
            "Connecting to raw.githubusercontent.com (raw.githubusercontent.com)|185.199.108.133|:443... connected.\n",
            "HTTP request sent, awaiting response... 200 OK\n",
            "Length: 748096 (731K) [text/plain]\n",
            "Saving to: ‘/content/data/eng.testb’\n",
            "\n",
            "eng.testb           100%[===================>] 730.56K  --.-KB/s    in 0.03s   \n",
            "\n",
            "2022-01-31 13:43:21 (21.3 MB/s) - ‘/content/data/eng.testb’ saved [748096/748096]\n",
            "\n"
          ]
        }
      ]
    },
    {
      "cell_type": "code",
      "metadata": {
        "colab": {
          "base_uri": "https://localhost:8080/"
        },
        "id": "Zt8yjpnXR6qL",
        "outputId": "0eef09f5-088f-4004-9506-127d7e436b92"
      },
      "source": [
        "!head /content/data/eng.testb"
      ],
      "execution_count": 14,
      "outputs": [
        {
          "output_type": "stream",
          "name": "stdout",
          "text": [
            "-DOCSTART- -X- -X- O\n",
            "\n",
            "SOCCER NN I-NP O\n",
            "- : O O\n",
            "JAPAN NNP I-NP I-LOC\n",
            "GET VB I-VP O\n",
            "LUCKY NNP I-NP O\n",
            "WIN NNP I-NP O\n",
            ", , O O\n",
            "CHINA NNP I-NP I-PER\n"
          ]
        }
      ]
    },
    {
      "cell_type": "markdown",
      "source": [
        "## Dataset Summary\n",
        "The shared task of **CoNLL-2003** concerns language-independent named entity recognition. \n",
        "\n",
        "There are 4 types of named entities: \n",
        "* **persons**, \n",
        "* **locations**, \n",
        "* **organizations**, \n",
        "* **names of miscellaneous entities** that do not belong to the previous three groups.\n",
        "\n",
        "The CoNLL-2003 shared task data files contain four columns separated by a single space. Each word has been put on a separate line and there is an empty line after each sentence. \n",
        "\n",
        "#### Columns:\n",
        "1. **Token** - a single word,\n",
        "2. **PoS** - a part-of-speech,\n",
        "3. **SyncTag** - a syntactic chunk tag,\n",
        "4. **NERTag** - the named entity tag\n",
        "\n",
        "#### Other notes:\n",
        "* Dataset uses **IOB1 tagging scheme**, where the `I- prefix` before a tag indicates that the tag is inside a chunk. An `O tag` indicates that a token belongs to no chunk. The `B- prefix` before a tag indicates that the tag is the beginning of a chunk that immediately follows another chunk without O tags between them. It is used only in that case: when a chunk comes after an O tag, the first token of the chunk takes the I- prefix. \n",
        "* `-DOCSTART-` - is a special line that acts as a boundary between two different documents.\n",
        "\n"
      ],
      "metadata": {
        "id": "IOKqc7IPykiY"
      }
    },
    {
      "cell_type": "code",
      "source": [
        "if DATA_DIR.exists():\n",
        "    all_files = list(DATA_DIR.glob(\"*.*\"))\n",
        "    print(f\"In Dataset dir found {len(all_files)} files:\")\n",
        "    for fn in all_files:\n",
        "        print(f\"\\t{fn.name}\")\n",
        "\n",
        "train_fn = DATA_DIR / \"eng.train\"\n",
        "val_fn = DATA_DIR / \"eng.testa\""
      ],
      "metadata": {
        "colab": {
          "base_uri": "https://localhost:8080/"
        },
        "id": "JUBySHbOzlZ8",
        "outputId": "2f2bff9e-e271-4361-ba73-86e59f56ac83"
      },
      "execution_count": 15,
      "outputs": [
        {
          "output_type": "stream",
          "name": "stdout",
          "text": [
            "In Dataset dir found 3 files:\n",
            "\teng.testa\n",
            "\teng.train\n",
            "\teng.testb\n"
          ]
        }
      ]
    },
    {
      "cell_type": "markdown",
      "source": [
        "### Read & Explore"
      ],
      "metadata": {
        "id": "p10B_QlXe7G2"
      }
    },
    {
      "cell_type": "code",
      "source": [
        "class TextData:\n",
        "    \"\"\" Representation of single sentence/text and it's attributes. \"\"\"\n",
        "\n",
        "    def __init__(self, tokens: List[str], \n",
        "                 ner_tags: List[str],\n",
        "                 pos_tags: List[str] = None, \n",
        "                 sync_tags: List[str] = None) -> None:\n",
        "        self.tokens = tokens\n",
        "        self.ner_tags = ner_tags\n",
        "        self.pos_tags = pos_tags\n",
        "        self.sync_tags = sync_tags\n",
        "        self.spans = None\n",
        "    \n",
        "    def __str__(self) -> str:\n",
        "        s = f\"Tokens: {self.tokens},\\n\"\n",
        "        s += f\"NER tags: {self.ner_tags},\\n\"\n",
        "        s += f\"Sync tags: {self.sync_tags},\\n\"\n",
        "        s += f\"POS tags: {self.pos_tags}.\"\n",
        "        return s\n",
        "    \n",
        "    def set_spans(self, spans: List[List[int]]):\n",
        "        \"\"\"\n",
        "        Initialize spans bondaries in the tokens sequence.\n",
        "        Spans are `inclusive`.\n",
        "        e.t. [start_i, end_i], not (start_i, end_i) !\n",
        "        \"\"\"\n",
        "        self.spans = spans"
      ],
      "metadata": {
        "id": "qwo3Tkfke_8r"
      },
      "execution_count": 16,
      "outputs": []
    },
    {
      "cell_type": "code",
      "source": [
        "def split_tag(span_tag: str):\n",
        "    \"\"\"\n",
        "    Split span tag into IOBES prefix and chunk_type\n",
        "    e.g. \n",
        "    B-PER -> (B, PER)\n",
        "    O -> (O, None)\n",
        "    \"\"\"\n",
        "    if span_tag == 'O':\n",
        "        return ('O', None)\n",
        "    return span_tag.split('-', maxsplit=1)\n",
        "\n",
        "def _is_doc_start(line: str) -> bool:\n",
        "    if line.strip().startswith(\"-DOCSTART-\"):\n",
        "        return True\n",
        "    return False\n",
        "\n",
        "def _is_divider(line: str) -> bool:\n",
        "    empty_line = line.strip() == ''\n",
        "    if empty_line:\n",
        "        return True\n",
        "    return False\n",
        "\n",
        "def read_conllu_data(data_fn: str):\n",
        "    dataset = []\n",
        "\n",
        "    with open(str(data_fn), 'rt') as f:\n",
        "        for is_divider, lines in itertools.groupby(f, _is_divider):\n",
        "            lines = list(lines)\n",
        "            if is_divider or not len(lines[0]):\n",
        "                continue\n",
        "            if _is_doc_start(lines[0]):\n",
        "                continue\n",
        "            # fields of data\n",
        "            fields = [line.strip().split() for line in lines]\n",
        "            # data as list: [[tokens], [pos_tags], [sync_tags], [ner_tags]]\n",
        "            fields = [list(field) for field in zip(*fields)]  \n",
        "            dataset.append(TextData(tokens=fields[0],\n",
        "                                    pos_tags=fields[1],\n",
        "                                    sync_tags=fields[2],\n",
        "                                    ner_tags=fields[3]))\n",
        "    return dataset"
      ],
      "metadata": {
        "id": "JLHUtyc8e__m"
      },
      "execution_count": 83,
      "outputs": []
    },
    {
      "cell_type": "code",
      "source": [
        "train_data = read_conllu_data(str(train_fn))\n",
        "val_data = read_conllu_data(str(val_fn))\n",
        "\n",
        "print(f\"Train data contains: {len(train_data)} texts and total {sum([len(d.tokens) for d in train_data])} tokens\")\n",
        "print(f\"Val data contains: {len(val_data)} texts and total {sum([len(d.tokens) for d in val_data])} tokens\")"
      ],
      "metadata": {
        "id": "5QdIOzC6q-D7",
        "colab": {
          "base_uri": "https://localhost:8080/"
        },
        "outputId": "3e09909f-8470-4d95-c880-8d92ab37262c"
      },
      "execution_count": 84,
      "outputs": [
        {
          "output_type": "stream",
          "name": "stdout",
          "text": [
            "Train data contains: 14041 texts and total 203621 tokens\n",
            "Val data contains: 3250 texts and total 51362 tokens\n"
          ]
        }
      ]
    },
    {
      "cell_type": "markdown",
      "source": [
        "As we can see, there are approximately 17,000 sentences in the dataset, comprising more than 255 thousands words and tags. This corresponds to approximately ~15 words per text. \n",
        "\n",
        "## Explore & Examples\n",
        "\n",
        "Let's have a look at texts, different NER/POS/Sync tags and their frequencies: "
      ],
      "metadata": {
        "id": "dk7yRdAiejlH"
      }
    },
    {
      "cell_type": "code",
      "source": [
        "for i, sent in enumerate(train_data):\n",
        "    if i > 3:\n",
        "        break\n",
        "    print(f\"\\nSent#{i}:\")\n",
        "    print(train_data[i])"
      ],
      "metadata": {
        "id": "fdayYItkq-G9",
        "colab": {
          "base_uri": "https://localhost:8080/"
        },
        "outputId": "ee6de99b-97a7-4fa8-da42-3da3c0d6ab97"
      },
      "execution_count": 85,
      "outputs": [
        {
          "output_type": "stream",
          "name": "stdout",
          "text": [
            "\n",
            "Sent#0:\n",
            "Tokens: ['EU', 'rejects', 'German', 'call', 'to', 'boycott', 'British', 'lamb', '.'],\n",
            "NER tags: ['I-ORG', 'O', 'I-MISC', 'O', 'O', 'O', 'I-MISC', 'O', 'O'],\n",
            "Sync tags: ['I-NP', 'I-VP', 'I-NP', 'I-NP', 'I-VP', 'I-VP', 'I-NP', 'I-NP', 'O'],\n",
            "POS tags: ['NNP', 'VBZ', 'JJ', 'NN', 'TO', 'VB', 'JJ', 'NN', '.'].\n",
            "\n",
            "Sent#1:\n",
            "Tokens: ['Peter', 'Blackburn'],\n",
            "NER tags: ['I-PER', 'I-PER'],\n",
            "Sync tags: ['I-NP', 'I-NP'],\n",
            "POS tags: ['NNP', 'NNP'].\n",
            "\n",
            "Sent#2:\n",
            "Tokens: ['BRUSSELS', '1996-08-22'],\n",
            "NER tags: ['I-LOC', 'O'],\n",
            "Sync tags: ['I-NP', 'I-NP'],\n",
            "POS tags: ['NNP', 'CD'].\n",
            "\n",
            "Sent#3:\n",
            "Tokens: ['The', 'European', 'Commission', 'said', 'on', 'Thursday', 'it', 'disagreed', 'with', 'German', 'advice', 'to', 'consumers', 'to', 'shun', 'British', 'lamb', 'until', 'scientists', 'determine', 'whether', 'mad', 'cow', 'disease', 'can', 'be', 'transmitted', 'to', 'sheep', '.'],\n",
            "NER tags: ['O', 'I-ORG', 'I-ORG', 'O', 'O', 'O', 'O', 'O', 'O', 'I-MISC', 'O', 'O', 'O', 'O', 'O', 'I-MISC', 'O', 'O', 'O', 'O', 'O', 'O', 'O', 'O', 'O', 'O', 'O', 'O', 'O', 'O'],\n",
            "Sync tags: ['I-NP', 'I-NP', 'I-NP', 'I-VP', 'I-PP', 'I-NP', 'B-NP', 'I-VP', 'I-PP', 'I-NP', 'I-NP', 'I-PP', 'I-NP', 'I-VP', 'I-VP', 'I-NP', 'I-NP', 'I-SBAR', 'I-NP', 'I-VP', 'I-SBAR', 'I-NP', 'I-NP', 'I-NP', 'I-VP', 'I-VP', 'I-VP', 'I-PP', 'I-NP', 'O'],\n",
            "POS tags: ['DT', 'NNP', 'NNP', 'VBD', 'IN', 'NNP', 'PRP', 'VBD', 'IN', 'JJ', 'NN', 'TO', 'NNS', 'TO', 'VB', 'JJ', 'NN', 'IN', 'NNS', 'VBP', 'IN', 'JJ', 'NN', 'NN', 'MD', 'VB', 'VBN', 'TO', 'NN', '.'].\n"
          ]
        }
      ]
    },
    {
      "cell_type": "markdown",
      "source": [
        "#### Sentence lengths"
      ],
      "metadata": {
        "id": "cwx6f2-ghF-c"
      }
    },
    {
      "cell_type": "code",
      "source": [
        "train_sentences_lens = [len(sent.tokens) for sent in train_data]\n",
        "val_sentences_lens = [len(sent.tokens) for sent in val_data]"
      ],
      "metadata": {
        "id": "8a6LZjwohLel"
      },
      "execution_count": 18,
      "outputs": []
    },
    {
      "cell_type": "code",
      "source": [
        "# On train data\n",
        "plt.figure(figsize=(10, 6))\n",
        "d = sns.histplot(data=train_sentences_lens, kde=True)\n",
        "d.set_ylabel(\"Num. sentences\")\n",
        "d.set_xlabel(\"Sentence length (Num. tokens)\")\n",
        "_ = d.set_title(\"Train Dataset sentences length\")\\\n",
        "\n",
        "print(f\"Train Dataset sentences length distributions:\")\n",
        "print(pd.Series(train_sentences_lens).describe())"
      ],
      "metadata": {
        "colab": {
          "base_uri": "https://localhost:8080/",
          "height": 595
        },
        "id": "RlNO7YXthLh6",
        "outputId": "ed2174f4-124a-4c95-a256-a00f3d059a6d"
      },
      "execution_count": 19,
      "outputs": [
        {
          "output_type": "stream",
          "name": "stderr",
          "text": [
            "INFO: NumExpr defaulting to 2 threads.\n"
          ]
        },
        {
          "output_type": "stream",
          "name": "stdout",
          "text": [
            "Train Dataset sentences length distributions:\n",
            "count    14041.000000\n",
            "mean        14.501887\n",
            "std         11.602756\n",
            "min          1.000000\n",
            "25%          6.000000\n",
            "50%         10.000000\n",
            "75%         22.000000\n",
            "max        113.000000\n",
            "dtype: float64\n"
          ]
        },
        {
          "output_type": "display_data",
          "data": {
            "image/png": "[encoded data removed]",
            "text/plain": [
              "<Figure size 720x432 with 1 Axes>"
            ]
          },
          "metadata": {
            "needs_background": "light"
          }
        }
      ]
    },
    {
      "cell_type": "code",
      "source": [
        "# On validation data\n",
        "plt.figure(figsize=(10, 6))\n",
        "d = sns.histplot(data=val_sentences_lens, kde=True)\n",
        "d.set_ylabel(\"Num. sentences\")\n",
        "d.set_xlabel(\"Sentence length (Num. tokens)\")\n",
        "_ = d.set_title(\"Validation Dataset sentences length\")\\\n",
        "\n",
        "print(f\"Validation Dataset sentences length distributions:\")\n",
        "print(pd.Series(val_sentences_lens).describe())"
      ],
      "metadata": {
        "colab": {
          "base_uri": "https://localhost:8080/",
          "height": 578
        },
        "id": "o5TahU6OjdiQ",
        "outputId": "e1f311df-87b7-4159-c959-314bb684892d"
      },
      "execution_count": 20,
      "outputs": [
        {
          "output_type": "stream",
          "name": "stdout",
          "text": [
            "Validation Dataset sentences length distributions:\n",
            "count    3250.000000\n",
            "mean       15.803692\n",
            "std        12.603389\n",
            "min         1.000000\n",
            "25%         7.000000\n",
            "50%        11.000000\n",
            "75%        24.000000\n",
            "max       109.000000\n",
            "dtype: float64\n"
          ]
        },
        {
          "output_type": "display_data",
          "data": {
            "image/png": "[encoded data removed]",
            "text/plain": [
              "<Figure size 720x432 with 1 Axes>"
            ]
          },
          "metadata": {
            "needs_background": "light"
          }
        }
      ]
    },
    {
      "cell_type": "markdown",
      "source": [
        "**Findings**\n",
        "\n",
        "\n",
        "*   Validation dataset's sentences are a bit more longer than the sentences in the training data at mean value. However this point is not very critical, cause difference is not very high: 14.5 vs. 15.5\n"
      ],
      "metadata": {
        "id": "hvWQwHErjmRp"
      }
    },
    {
      "cell_type": "markdown",
      "source": [
        "#### POS Tags\n"
      ],
      "metadata": {
        "id": "PHkAGapVWs48"
      }
    },
    {
      "cell_type": "code",
      "source": [
        "# All POS tags existing in dataset\n",
        "pos_tags = ['\"', \"''\", '#', '$', '(', ')', ',', '.', ':', '``', 'CC', 'CD', 'DT', 'EX', 'FW', 'IN', 'JJ', 'JJR', 'JJS', 'LS', 'MD', 'NN', 'NNP', 'NNPS', 'NNS', 'NN|SYM', 'PDT', 'POS', 'PRP', 'PRP$', 'RB', 'RBR', 'RBS', 'RP', 'SYM', 'TO', 'UH', 'VB', 'VBD', 'VBG', 'VBN', 'VBP', 'VBZ', 'WDT', 'WP', 'WP$', 'WRB']"
      ],
      "metadata": {
        "id": "P2F4K-82WxNK"
      },
      "execution_count": 21,
      "outputs": []
    },
    {
      "cell_type": "code",
      "source": [
        "def pos_tags_distribution(text_data: List[TextData]) -> Dict[str, Any]:\n",
        "    return Counter(list(itertools.chain.from_iterable([text.pos_tags for text in text_data]))).most_common()"
      ],
      "metadata": {
        "id": "ZJ8uD10qgo0n"
      },
      "execution_count": 22,
      "outputs": []
    },
    {
      "cell_type": "code",
      "source": [
        "# Calculate separately\n",
        "train_pos_tags_dist = pd.DataFrame.from_records(pos_tags_distribution(train_data), \n",
        "                                                columns=['tag', 'cnt'])\n",
        "val_pos_tags_dist = pd.DataFrame.from_records(pos_tags_distribution(val_data), \n",
        "                                              columns=['tag', 'cnt'])"
      ],
      "metadata": {
        "id": "zzK2F1Oego4L"
      },
      "execution_count": 23,
      "outputs": []
    },
    {
      "cell_type": "code",
      "source": [
        "# Visualize\n",
        "fig, axes = plt.subplots(1, 2, sharex=True, figsize=(15, 8))\n",
        "\n",
        "axes[0].set_title('Train Dataset')\n",
        "sns.barplot(data=train_pos_tags_dist, y=\"tag\", x='cnt', ax=axes[0])\n",
        "axes[0].set_ylabel(\"Num. tags\")\n",
        "axes[0].set_xlabel(\"Tags\")\n",
        "\n",
        "for p in axes[0].patches:\n",
        "    axes[0].annotate(\"%d\" % p.get_width(), xy=(p.get_width(), p.get_y()+p.get_height()/2),\n",
        "            xytext=(5, 0), textcoords='offset points', ha=\"left\", va=\"center\")\n",
        "\n",
        "axes[1].set_title('Validation Dataset')\n",
        "sns.barplot(data=val_pos_tags_dist, y=\"tag\", x='cnt', ax=axes[1])\n",
        "axes[1].set_ylabel(\"Num. tags\")\n",
        "axes[1].set_xlabel(\"Tags\")\n",
        "\n",
        "for p in axes[1].patches:\n",
        "    axes[1].annotate(\"%d\" % p.get_width(), xy=(p.get_width(), p.get_y()+p.get_height()/2),\n",
        "            xytext=(5, 0), textcoords='offset points', ha=\"left\", va=\"center\")\n",
        "\n",
        "plt.show()"
      ],
      "metadata": {
        "colab": {
          "base_uri": "https://localhost:8080/",
          "height": 513
        },
        "id": "qq3Eb51ZmTrP",
        "outputId": "f65ee985-2c3c-401d-f0eb-bb2142827c26"
      },
      "execution_count": 24,
      "outputs": [
        {
          "output_type": "display_data",
          "data": {
            "image/png": "[encoded data removed]",
            "text/plain": [
              "<Figure size 1080x576 with 2 Axes>"
            ]
          },
          "metadata": {
            "needs_background": "light"
          }
        }
      ]
    },
    {
      "cell_type": "markdown",
      "source": [
        "#### Synctactic Tags"
      ],
      "metadata": {
        "id": "Tq_5kp0lWuXN"
      }
    },
    {
      "cell_type": "code",
      "source": [
        "def sync_tags_distribution(text_data: List[TextData]) -> Dict[str, Any]:\n",
        "    tags_ = [split_tag(tag) for text in text_data for tag in text.sync_tags]\n",
        "    return Counter([tag[0] if tag[1] is None else tag[1] for tag in tags_ ]).most_common()"
      ],
      "metadata": {
        "id": "IhUy8XH_x6-l"
      },
      "execution_count": 25,
      "outputs": []
    },
    {
      "cell_type": "code",
      "source": [
        "# Calculate separately\n",
        "train_sync_tags_dist = pd.DataFrame.from_records(sync_tags_distribution(train_data), \n",
        "                                                columns=['tag', 'cnt'])\n",
        "val_sync_tags_dist = pd.DataFrame.from_records(sync_tags_distribution(val_data), \n",
        "                                              columns=['tag', 'cnt'])"
      ],
      "metadata": {
        "id": "AQ3SFXcsWwsH"
      },
      "execution_count": 26,
      "outputs": []
    },
    {
      "cell_type": "code",
      "source": [
        "# Visualize\n",
        "fig, axes = plt.subplots(1, 2, sharex=True, figsize=(15, 8))\n",
        "\n",
        "axes[0].set_title('Train Dataset')\n",
        "sns.barplot(data=train_sync_tags_dist, y=\"tag\", x='cnt', ax=axes[0])\n",
        "axes[0].set_ylabel(\"Num. tags\")\n",
        "axes[0].set_xlabel(\"Tags\")\n",
        "\n",
        "for p in axes[0].patches:\n",
        "    axes[0].annotate(\"%d\" % p.get_width(), xy=(p.get_width(), p.get_y()+p.get_height()/2),\n",
        "            xytext=(5, 0), textcoords='offset points', ha=\"left\", va=\"center\")\n",
        "\n",
        "axes[1].set_title('Validation Dataset')\n",
        "sns.barplot(data=val_sync_tags_dist, y=\"tag\", x='cnt', ax=axes[1])\n",
        "axes[1].set_ylabel(\"Num. tags\")\n",
        "axes[1].set_xlabel(\"Tags\")\n",
        "\n",
        "for p in axes[1].patches:\n",
        "    axes[1].annotate(\"%d\" % p.get_width(), xy=(p.get_width(), p.get_y()+p.get_height()/2),\n",
        "            xytext=(5, 0), textcoords='offset points', ha=\"left\", va=\"center\")\n",
        "\n",
        "plt.show()"
      ],
      "metadata": {
        "colab": {
          "base_uri": "https://localhost:8080/",
          "height": 513
        },
        "id": "T8vzQLwhWwvC",
        "outputId": "2c8ef3df-002c-4174-f328-f92e75bcbe25"
      },
      "execution_count": 27,
      "outputs": [
        {
          "output_type": "display_data",
          "data": {
            "image/png": "[encoded data removed]",
            "text/plain": [
              "<Figure size 1080x576 with 2 Axes>"
            ]
          },
          "metadata": {
            "needs_background": "light"
          }
        }
      ]
    },
    {
      "cell_type": "markdown",
      "source": [
        "#### NER Tags"
      ],
      "metadata": {
        "id": "spPr8nJRWos1"
      }
    },
    {
      "cell_type": "code",
      "source": [
        "def ner_tags_distribution(text_data: List[TextData]) -> Dict[str, Any]:\n",
        "    return Counter(list(itertools.chain.from_iterable([text.ner_tags for text in text_data]))).most_common()\n",
        "\n",
        "def ner_tags_distribution_splitted(text_data: List[TextData]) -> Dict[str, Any]:\n",
        "    tags_ = [split_tag(tag) for text in text_data for tag in text.ner_tags]\n",
        "    return Counter([tag[0] if tag[1] is None else tag[1] for tag in tags_ ]).most_common()"
      ],
      "metadata": {
        "id": "JQOh_RwA7_cL"
      },
      "execution_count": 28,
      "outputs": []
    },
    {
      "cell_type": "code",
      "source": [
        "# Calculate separately\n",
        "\n",
        "# Tags with prefixes: B- and I-\n",
        "train_ner_tags_dist = pd.DataFrame.from_records(ner_tags_distribution(train_data), \n",
        "                                                columns=['tag', 'cnt'])\n",
        "val_ner_tags_dist = pd.DataFrame.from_records(ner_tags_distribution(val_data), \n",
        "                                              columns=['tag', 'cnt'])\n",
        "# Tags without prefixes\n",
        "train_ner_tags_spl_dist = pd.DataFrame.from_records(ner_tags_distribution_splitted(train_data), \n",
        "                                                columns=['tag', 'cnt'])\n",
        "val_ner_tags_spl_dist = pd.DataFrame.from_records(ner_tags_distribution_splitted(val_data), \n",
        "                                              columns=['tag', 'cnt'])"
      ],
      "metadata": {
        "id": "ceYHh8RkzQD2"
      },
      "execution_count": 29,
      "outputs": []
    },
    {
      "cell_type": "code",
      "source": [
        "# Visualize with prefixes\n",
        "fig, axes = plt.subplots(1, 2, sharex=True, figsize=(16, 8))\n",
        "\n",
        "axes[0].set_title('Train Dataset')\n",
        "sns.barplot(data=train_ner_tags_dist, y=\"tag\", x='cnt', ax=axes[0])\n",
        "axes[0].set_ylabel(\"Num. tags\")\n",
        "axes[0].set_xlabel(\"Tags\")\n",
        "\n",
        "sum_train_tags = sum([p.get_width() for p in axes[0].patches])\n",
        "for p in axes[0].patches:\n",
        "    axes[0].annotate(f\"{int(p.get_width())}\\n({round(100*(p.get_width()/sum_train_tags), 2)}%)\",\n",
        "                     xy=(p.get_width(), p.get_y()+p.get_height()/2),\n",
        "            xytext=(5, 0), textcoords='offset points', ha=\"left\", va=\"center\")\n",
        "\n",
        "axes[1].set_title('Validation Dataset')\n",
        "sns.barplot(data=val_ner_tags_dist, y=\"tag\", x='cnt', ax=axes[1])\n",
        "axes[1].set_ylabel(\"Num. tags\")\n",
        "axes[1].set_xlabel(\"Tags\")\n",
        "\n",
        "sum_val_tags = sum([p.get_width() for p in axes[1].patches])\n",
        "for p in axes[1].patches:\n",
        "    axes[1].annotate(f\"{int(p.get_width())}\\n({round(100*(p.get_width()/sum_val_tags), 2)}%)\", \n",
        "                     xy=(p.get_width(), p.get_y()+p.get_height()/2),\n",
        "            xytext=(5, 0), textcoords='offset points', ha=\"left\", va=\"center\")\n",
        "\n",
        "plt.show()"
      ],
      "metadata": {
        "id": "q-ReZGsR7_fR",
        "colab": {
          "base_uri": "https://localhost:8080/",
          "height": 513
        },
        "outputId": "5095ee50-287d-4477-d8e5-34ff32833275"
      },
      "execution_count": 30,
      "outputs": [
        {
          "output_type": "display_data",
          "data": {
            "image/png": "[encoded data removed]",
            "text/plain": [
              "<Figure size 1152x576 with 2 Axes>"
            ]
          },
          "metadata": {
            "needs_background": "light"
          }
        }
      ]
    },
    {
      "cell_type": "code",
      "source": [
        "# Visualize without prefixes\n",
        "fig, axes = plt.subplots(1, 2, sharex=True, figsize=(16, 8))\n",
        "\n",
        "axes[0].set_title('Train Dataset')\n",
        "sns.barplot(data=train_ner_tags_spl_dist, y=\"tag\", x='cnt', ax=axes[0])\n",
        "axes[0].set_ylabel(\"Num. tags\")\n",
        "axes[0].set_xlabel(\"Tags\")\n",
        "\n",
        "sum_train_tags = sum([p.get_width() for p in axes[0].patches])\n",
        "for p in axes[0].patches:\n",
        "    axes[0].annotate(f\"{int(p.get_width())}\\n({round(100*(p.get_width()/sum_train_tags), 2)}%)\",\n",
        "                     xy=(p.get_width(), p.get_y()+p.get_height()/2),\n",
        "            xytext=(5, 0), textcoords='offset points', ha=\"left\", va=\"center\")\n",
        "\n",
        "axes[1].set_title('Validation Dataset')\n",
        "sns.barplot(data=val_ner_tags_spl_dist, y=\"tag\", x='cnt', ax=axes[1])\n",
        "axes[1].set_ylabel(\"Num. tags\")\n",
        "axes[1].set_xlabel(\"Tags\")\n",
        "\n",
        "sum_val_tags = sum([p.get_width() for p in axes[1].patches])\n",
        "for p in axes[1].patches:\n",
        "    axes[1].annotate(f\"{int(p.get_width())}\\n({round(100*(p.get_width()/sum_val_tags), 2)}%)\", \n",
        "                     xy=(p.get_width(), p.get_y()+p.get_height()/2),\n",
        "            xytext=(5, 0), textcoords='offset points', ha=\"left\", va=\"center\")\n",
        "\n",
        "plt.show()"
      ],
      "metadata": {
        "colab": {
          "base_uri": "https://localhost:8080/",
          "height": 513
        },
        "id": "mQv1fCYTzQHq",
        "outputId": "31e49cb6-59f3-4ffd-ad45-d97fd925d81b"
      },
      "execution_count": 31,
      "outputs": [
        {
          "output_type": "display_data",
          "data": {
            "image/png": "[encoded data removed]",
            "text/plain": [
              "<Figure size 1152x576 with 2 Axes>"
            ]
          },
          "metadata": {
            "needs_background": "light"
          }
        }
      ]
    },
    {
      "cell_type": "code",
      "source": [
        "ner_tags_dist = train_ner_tags_spl_dist.merge(val_ner_tags_spl_dist, \n",
        "                                              how='outer', on='tag', \n",
        "                                              suffixes=['_train', '_val']).fillna(0)\n",
        "ner_tags_dist['cnt'] = (ner_tags_dist['cnt_train'] + ner_tags_dist['cnt_val']).astype('int')\n",
        "entities_types = ner_tags_dist['tag'].unique().tolist()\n",
        "print(f\"No-prefixes entities types: {entities_types}\")\n",
        "\n",
        "ner_tags_dist = train_ner_tags_dist.merge(val_ner_tags_dist, \n",
        "                                          how='outer', on='tag', \n",
        "                                          suffixes=['_train', '_val']).fillna(0)\n",
        "ner_tags_dist['cnt'] = (ner_tags_dist['cnt_train'] + ner_tags_dist['cnt_val']).astype('int')\n",
        "pref_entities_types = ner_tags_dist['tag'].unique().tolist()\n",
        "print(f\"With-prefixes entities types: {pref_entities_types}\")"
      ],
      "metadata": {
        "colab": {
          "base_uri": "https://localhost:8080/"
        },
        "id": "FdevPclTKKQL",
        "outputId": "75e8cd7c-14d5-46dd-f019-4ba89fe6fd97"
      },
      "execution_count": 32,
      "outputs": [
        {
          "output_type": "stream",
          "name": "stdout",
          "text": [
            "No-prefixes entities types: ['O', 'PER', 'ORG', 'LOC', 'MISC']\n",
            "With-prefixes entities types: ['O', 'I-PER', 'I-ORG', 'I-LOC', 'I-MISC', 'B-MISC', 'B-ORG', 'B-LOC']\n"
          ]
        }
      ]
    },
    {
      "cell_type": "markdown",
      "source": [
        "**Findings**\n",
        "\n",
        "*   There is **a strong imbalance of classes**, and it does not make sense to take into account the OUT label at all in quality estimation of the model.\n",
        "*   Another option is to augment our training dataset with new samples for NE classes: ``` [`PER`, `ORG`, `LOC`, `MISK`] ```"
      ],
      "metadata": {
        "id": "KqZoGm-EH88w"
      }
    },
    {
      "cell_type": "markdown",
      "source": [
        "#### Spans of Named Entities\n",
        "\n",
        "Named Entities  in texts are usually represented as contiguous spans of tokens, so let's discover **lengths distribution** of them and **average number of spans** in each sentence.\n",
        "\n",
        "Let's select them and print some examples of them: "
      ],
      "metadata": {
        "id": "4-rw8iUNW9gQ"
      }
    },
    {
      "cell_type": "code",
      "source": [
        "n_examples = 5\n",
        "entities_examples = dict.fromkeys([t for t in entities_types if t != \"O\"])\n",
        "\n",
        "for ent_name in [t for t in entities_types if t != \"O\"]:\n",
        "    n_found = 0\n",
        "    found_spans = []\n",
        "    for d in train_data:\n",
        "        if ent_name in np.unique([tag.split(\"-\")[-1] for tag in d.ner_tags]):\n",
        "            span_tokens = []\n",
        "            start_i = d.ner_tags.index(f\"I-{ent_name}\")  # for IOB1 tagging\n",
        "            for i, tag in enumerate(d.ner_tags[start_i:]):\n",
        "                if tag in [\"O\", \"B\"]:  # for IOB1 tagging\n",
        "                    break\n",
        "                span_tokens.append(d.tokens[start_i+i])\n",
        "            found_spans.append(\" \".join(span_tokens))\n",
        "            n_found += 1\n",
        "            if n_found > n_examples:\n",
        "                break\n",
        "    entities_examples[ent_name] = found_spans\n",
        "\n",
        "for ent, exs in entities_examples.items():\n",
        "    print(f\"{ent}:\")\n",
        "    for e in exs:\n",
        "        print(f\"\\t{e}\")"
      ],
      "metadata": {
        "colab": {
          "base_uri": "https://localhost:8080/"
        },
        "id": "B7l_mDtuKDP0",
        "outputId": "478a737d-096c-462a-ae3f-7d168e7bab35"
      },
      "execution_count": 33,
      "outputs": [
        {
          "output_type": "stream",
          "name": "stdout",
          "text": [
            "PER:\n",
            "\tPeter Blackburn\n",
            "\tWerner Zwingmann\n",
            "\tNikolaus van der Pas\n",
            "\tFranz Fischler\n",
            "\tFischler\n",
            "\tFischler\n",
            "ORG:\n",
            "\tEU\n",
            "\tEuropean Commission\n",
            "\tEuropean Union\n",
            "\tCommission\n",
            "\tEuropean Union\n",
            "\tEU\n",
            "LOC:\n",
            "\tBRUSSELS\n",
            "\tGermany\n",
            "\tBritain\n",
            "\tFrance\n",
            "\tEurope\n",
            "\tGermany\n",
            "MISC:\n",
            "\tGerman\n",
            "\tGerman\n",
            "\tEU-wide\n",
            "\tSpanish\n",
            "\tBSE\n",
            "\tBritish\n"
          ]
        }
      ]
    },
    {
      "cell_type": "code",
      "source": [
        "def select_spans_IOB1(text_data: List[TextData]) -> List[List[int]]:\n",
        "    all_spans = []\n",
        "    \n",
        "    # iterate over the texts\n",
        "    for d in text_data:\n",
        "        spans = []\n",
        "        cur_tag = None\n",
        "        cur_start = None\n",
        "        # iterate over the tags\n",
        "        for tag_i, tag in enumerate(d.ner_tags):\n",
        "            tag_pos = tag[0]  # tag `position`\n",
        "            if tag_pos == 'B':\n",
        "                # save previous span, if exists\n",
        "                if cur_tag is not None:\n",
        "                    spans.append([cur_tag, cur_start, tag_i - 1])\n",
        "                cur_start = tag_i  # new tag starts\n",
        "                cur_tag = tag[2:]  # tag `name`\n",
        "            elif tag_pos == 'I':\n",
        "                # new tag starts\n",
        "                if cur_tag is None: \n",
        "                    cur_start = tag_i  # new tag starts\n",
        "                    cur_tag = tag[2:]  # tag `name`\n",
        "            elif tag_pos == 'O':\n",
        "                # span finished, saving\n",
        "                if cur_tag is not None:\n",
        "                    spans.append([cur_tag, cur_start, tag_i - 1])\n",
        "                    cur_tag = None\n",
        "                    cur_start = None\n",
        "        # save last span    \n",
        "        if cur_tag is not None:\n",
        "            spans.append([cur_tag, cur_start, tag_i + 1])\n",
        "\n",
        "        # set to current sequence excluding tag type\n",
        "        # d.set_spans([s[1:] for s in spans])\n",
        "        all_spans.append(spans)\n",
        "\n",
        "    return all_spans\n",
        "\n",
        "def span_length(start_i: int, end_i: int) -> int:\n",
        "    \"\"\" \n",
        "    Assumes inclusive span bondaries. \n",
        "    \"\"\"\n",
        "    return end_i - start_i + 1"
      ],
      "metadata": {
        "id": "74_QU_4aXDW6"
      },
      "execution_count": 34,
      "outputs": []
    },
    {
      "cell_type": "code",
      "source": [
        "# Retrieve spans of NE from train and val datasets\n",
        "train_spans = select_spans_IOB1(train_data)\n",
        "val_spans = select_spans_IOB1(val_data)\n",
        "\n",
        "print(f\"Train data contains: {sum([len(s) for s in train_spans])} NE spans.\")\n",
        "print(f\"Val data contains: {sum([len(s) for s in val_spans])} NE spans.\")"
      ],
      "metadata": {
        "colab": {
          "base_uri": "https://localhost:8080/"
        },
        "id": "d2zH3ZNnXDZt",
        "outputId": "1cf7a122-8e36-428e-e8ce-6e2f6c2da1cc"
      },
      "execution_count": 35,
      "outputs": [
        {
          "output_type": "stream",
          "name": "stdout",
          "text": [
            "Train data contains: 23326 NE spans.\n",
            "Val data contains: 5902 NE spans.\n"
          ]
        }
      ]
    },
    {
      "cell_type": "code",
      "source": [
        "# Train spans\n",
        "train_spans = pd.DataFrame.from_records(list(itertools.chain.from_iterable(train_spans)), \n",
        "                                        columns=['tag', 'start_i', 'end_i'])\n",
        "train_spans['span_len'] = train_spans[['start_i', 'end_i']].apply(lambda x: span_length(x[0], x[1]), axis=1)\n",
        "\n",
        "print(\"General span length distribution:\")\n",
        "print(train_spans['span_len'].describe())\n",
        "\n",
        "print(\"\\nBy Tags:\")\n",
        "train_spans.groupby(by='tag')['span_len'].describe()"
      ],
      "metadata": {
        "colab": {
          "base_uri": "https://localhost:8080/",
          "height": 414
        },
        "id": "dJAc8QI7Sj6N",
        "outputId": "efd48aa3-a10b-43a4-ba6d-3deb9d2d34f8"
      },
      "execution_count": 36,
      "outputs": [
        {
          "output_type": "stream",
          "name": "stdout",
          "text": [
            "General span length distribution:\n",
            "count    23326.000000\n",
            "mean         1.490225\n",
            "std          0.739609\n",
            "min          1.000000\n",
            "25%          1.000000\n",
            "50%          1.000000\n",
            "75%          2.000000\n",
            "max         10.000000\n",
            "Name: span_len, dtype: float64\n",
            "\n",
            "By Tags:\n"
          ]
        },
        {
          "output_type": "execute_result",
          "data": {
            "text/html": [
              "\n",
              "  <div id=\"df-eb573bdf-8f27-4292-89b3-95a9d310c2b6\">\n",
              "    <div class=\"colab-df-container\">\n",
              "      <div>\n",
              "<style scoped>\n",
              "    .dataframe tbody tr th:only-of-type {\n",
              "        vertical-align: middle;\n",
              "    }\n",
              "\n",
              "    .dataframe tbody tr th {\n",
              "        vertical-align: top;\n",
              "    }\n",
              "\n",
              "    .dataframe thead th {\n",
              "        text-align: right;\n",
              "    }\n",
              "</style>\n",
              "<table border=\"1\" class=\"dataframe\">\n",
              "  <thead>\n",
              "    <tr style=\"text-align: right;\">\n",
              "      <th></th>\n",
              "      <th>count</th>\n",
              "      <th>mean</th>\n",
              "      <th>std</th>\n",
              "      <th>min</th>\n",
              "      <th>25%</th>\n",
              "      <th>50%</th>\n",
              "      <th>75%</th>\n",
              "      <th>max</th>\n",
              "    </tr>\n",
              "    <tr>\n",
              "      <th>tag</th>\n",
              "      <th></th>\n",
              "      <th></th>\n",
              "      <th></th>\n",
              "      <th></th>\n",
              "      <th></th>\n",
              "      <th></th>\n",
              "      <th></th>\n",
              "      <th></th>\n",
              "    </tr>\n",
              "  </thead>\n",
              "  <tbody>\n",
              "    <tr>\n",
              "      <th>LOC</th>\n",
              "      <td>7125.0</td>\n",
              "      <td>1.190737</td>\n",
              "      <td>0.480061</td>\n",
              "      <td>1.0</td>\n",
              "      <td>1.0</td>\n",
              "      <td>1.0</td>\n",
              "      <td>1.0</td>\n",
              "      <td>10.0</td>\n",
              "    </tr>\n",
              "    <tr>\n",
              "      <th>MISC</th>\n",
              "      <td>3398.0</td>\n",
              "      <td>1.439082</td>\n",
              "      <td>0.808202</td>\n",
              "      <td>1.0</td>\n",
              "      <td>1.0</td>\n",
              "      <td>1.0</td>\n",
              "      <td>2.0</td>\n",
              "      <td>7.0</td>\n",
              "    </tr>\n",
              "    <tr>\n",
              "      <th>ORG</th>\n",
              "      <td>6271.0</td>\n",
              "      <td>1.617605</td>\n",
              "      <td>0.942275</td>\n",
              "      <td>1.0</td>\n",
              "      <td>1.0</td>\n",
              "      <td>1.0</td>\n",
              "      <td>2.0</td>\n",
              "      <td>10.0</td>\n",
              "    </tr>\n",
              "    <tr>\n",
              "      <th>PER</th>\n",
              "      <td>6532.0</td>\n",
              "      <td>1.721219</td>\n",
              "      <td>0.584773</td>\n",
              "      <td>1.0</td>\n",
              "      <td>1.0</td>\n",
              "      <td>2.0</td>\n",
              "      <td>2.0</td>\n",
              "      <td>6.0</td>\n",
              "    </tr>\n",
              "  </tbody>\n",
              "</table>\n",
              "</div>\n",
              "      <button class=\"colab-df-convert\" onclick=\"convertToInteractive('df-eb573bdf-8f27-4292-89b3-95a9d310c2b6')\"\n",
              "              title=\"Convert this dataframe to an interactive table.\"\n",
              "              style=\"display:none;\">\n",
              "        \n",
              "  <svg xmlns=\"http://www.w3.org/2000/svg\" height=\"24px\"viewBox=\"0 0 24 24\"\n",
              "       width=\"24px\">\n",
              "    <path d=\"M0 0h24v24H0V0z\" fill=\"none\"/>\n",
              "    <path d=\"M18.56 5.44l.94 2.06.94-2.06 2.06-.94-2.06-.94-.94-2.06-.94 2.06-2.06.94zm-11 1L8.5 8.5l.94-2.06 2.06-.94-2.06-.94L8.5 2.5l-.94 2.06-2.06.94zm10 10l.94 2.06.94-2.06 2.06-.94-2.06-.94-.94-2.06-.94 2.06-2.06.94z\"/><path d=\"M17.41 7.96l-1.37-1.37c-.4-.4-.92-.59-1.43-.59-.52 0-1.04.2-1.43.59L10.3 9.45l-7.72 7.72c-.78.78-.78 2.05 0 2.83L4 21.41c.39.39.9.59 1.41.59.51 0 1.02-.2 1.41-.59l7.78-7.78 2.81-2.81c.8-.78.8-2.07 0-2.86zM5.41 20L4 18.59l7.72-7.72 1.47 1.35L5.41 20z\"/>\n",
              "  </svg>\n",
              "      </button>\n",
              "      \n",
              "  <style>\n",
              "    .colab-df-container {\n",
              "      display:flex;\n",
              "      flex-wrap:wrap;\n",
              "      gap: 12px;\n",
              "    }\n",
              "\n",
              "    .colab-df-convert {\n",
              "      background-color: #E8F0FE;\n",
              "      border: none;\n",
              "      border-radius: 50%;\n",
              "      cursor: pointer;\n",
              "      display: none;\n",
              "      fill: #1967D2;\n",
              "      height: 32px;\n",
              "      padding: 0 0 0 0;\n",
              "      width: 32px;\n",
              "    }\n",
              "\n",
              "    .colab-df-convert:hover {\n",
              "      background-color: #E2EBFA;\n",
              "      box-shadow: 0px 1px 2px rgba(60, 64, 67, 0.3), 0px 1px 3px 1px rgba(60, 64, 67, 0.15);\n",
              "      fill: #174EA6;\n",
              "    }\n",
              "\n",
              "    [theme=dark] .colab-df-convert {\n",
              "      background-color: #3B4455;\n",
              "      fill: #D2E3FC;\n",
              "    }\n",
              "\n",
              "    [theme=dark] .colab-df-convert:hover {\n",
              "      background-color: #434B5C;\n",
              "      box-shadow: 0px 1px 3px 1px rgba(0, 0, 0, 0.15);\n",
              "      filter: drop-shadow(0px 1px 2px rgba(0, 0, 0, 0.3));\n",
              "      fill: #FFFFFF;\n",
              "    }\n",
              "  </style>\n",
              "\n",
              "      <script>\n",
              "        const buttonEl =\n",
              "          document.querySelector('#df-eb573bdf-8f27-4292-89b3-95a9d310c2b6 button.colab-df-convert');\n",
              "        buttonEl.style.display =\n",
              "          google.colab.kernel.accessAllowed ? 'block' : 'none';\n",
              "\n",
              "        async function convertToInteractive(key) {\n",
              "          const element = document.querySelector('#df-eb573bdf-8f27-4292-89b3-95a9d310c2b6');\n",
              "          const dataTable =\n",
              "            await google.colab.kernel.invokeFunction('convertToInteractive',\n",
              "                                                     [key], {});\n",
              "          if (!dataTable) return;\n",
              "\n",
              "          const docLinkHtml = 'Like what you see? Visit the ' +\n",
              "            '<a target=\"_blank\" href=https://colab.research.google.com/notebooks/data_table.ipynb>data table notebook</a>'\n",
              "            + ' to learn more about interactive tables.';\n",
              "          element.innerHTML = '';\n",
              "          dataTable['output_type'] = 'display_data';\n",
              "          await google.colab.output.renderOutput(dataTable, element);\n",
              "          const docLink = document.createElement('div');\n",
              "          docLink.innerHTML = docLinkHtml;\n",
              "          element.appendChild(docLink);\n",
              "        }\n",
              "      </script>\n",
              "    </div>\n",
              "  </div>\n",
              "  "
            ],
            "text/plain": [
              "       count      mean       std  min  25%  50%  75%   max\n",
              "tag                                                       \n",
              "LOC   7125.0  1.190737  0.480061  1.0  1.0  1.0  1.0  10.0\n",
              "MISC  3398.0  1.439082  0.808202  1.0  1.0  1.0  2.0   7.0\n",
              "ORG   6271.0  1.617605  0.942275  1.0  1.0  1.0  2.0  10.0\n",
              "PER   6532.0  1.721219  0.584773  1.0  1.0  2.0  2.0   6.0"
            ]
          },
          "metadata": {},
          "execution_count": 36
        }
      ]
    },
    {
      "cell_type": "code",
      "source": [
        "val_spans = pd.DataFrame.from_records(list(itertools.chain.from_iterable(val_spans)), \n",
        "                                        columns=['tag', 'start_i', 'end_i'])\n",
        "val_spans['span_len'] = val_spans[['start_i', 'end_i']].apply(lambda x: span_length(x[0], x[1]), axis=1)\n",
        "\n",
        "print(\"General span length distribution:\")\n",
        "print(val_spans['span_len'].describe())\n",
        "\n",
        "print(\"\\nBy Tags:\")\n",
        "val_spans.groupby(by='tag')['span_len'].describe()"
      ],
      "metadata": {
        "colab": {
          "base_uri": "https://localhost:8080/",
          "height": 414
        },
        "id": "4w7LQpYyWSSd",
        "outputId": "89383afa-f8a2-47a8-e627-caeb9a1792a8"
      },
      "execution_count": 37,
      "outputs": [
        {
          "output_type": "stream",
          "name": "stdout",
          "text": [
            "General span length distribution:\n",
            "count    5902.000000\n",
            "mean        1.482379\n",
            "std         0.743915\n",
            "min         1.000000\n",
            "25%         1.000000\n",
            "50%         1.000000\n",
            "75%         2.000000\n",
            "max        10.000000\n",
            "Name: span_len, dtype: float64\n",
            "\n",
            "By Tags:\n"
          ]
        },
        {
          "output_type": "execute_result",
          "data": {
            "text/html": [
              "\n",
              "  <div id=\"df-0d2e1112-bca7-4d50-81f4-3c6dec739c05\">\n",
              "    <div class=\"colab-df-container\">\n",
              "      <div>\n",
              "<style scoped>\n",
              "    .dataframe tbody tr th:only-of-type {\n",
              "        vertical-align: middle;\n",
              "    }\n",
              "\n",
              "    .dataframe tbody tr th {\n",
              "        vertical-align: top;\n",
              "    }\n",
              "\n",
              "    .dataframe thead th {\n",
              "        text-align: right;\n",
              "    }\n",
              "</style>\n",
              "<table border=\"1\" class=\"dataframe\">\n",
              "  <thead>\n",
              "    <tr style=\"text-align: right;\">\n",
              "      <th></th>\n",
              "      <th>count</th>\n",
              "      <th>mean</th>\n",
              "      <th>std</th>\n",
              "      <th>min</th>\n",
              "      <th>25%</th>\n",
              "      <th>50%</th>\n",
              "      <th>75%</th>\n",
              "      <th>max</th>\n",
              "    </tr>\n",
              "    <tr>\n",
              "      <th>tag</th>\n",
              "      <th></th>\n",
              "      <th></th>\n",
              "      <th></th>\n",
              "      <th></th>\n",
              "      <th></th>\n",
              "      <th></th>\n",
              "      <th></th>\n",
              "      <th></th>\n",
              "    </tr>\n",
              "  </thead>\n",
              "  <tbody>\n",
              "    <tr>\n",
              "      <th>LOC</th>\n",
              "      <td>1832.0</td>\n",
              "      <td>1.170306</td>\n",
              "      <td>0.433990</td>\n",
              "      <td>1.0</td>\n",
              "      <td>1.0</td>\n",
              "      <td>1.0</td>\n",
              "      <td>1.0</td>\n",
              "      <td>5.0</td>\n",
              "    </tr>\n",
              "    <tr>\n",
              "      <th>MISC</th>\n",
              "      <td>916.0</td>\n",
              "      <td>1.466157</td>\n",
              "      <td>0.805684</td>\n",
              "      <td>1.0</td>\n",
              "      <td>1.0</td>\n",
              "      <td>1.0</td>\n",
              "      <td>2.0</td>\n",
              "      <td>5.0</td>\n",
              "    </tr>\n",
              "    <tr>\n",
              "      <th>ORG</th>\n",
              "      <td>1325.0</td>\n",
              "      <td>1.575849</td>\n",
              "      <td>1.018569</td>\n",
              "      <td>1.0</td>\n",
              "      <td>1.0</td>\n",
              "      <td>1.0</td>\n",
              "      <td>2.0</td>\n",
              "      <td>10.0</td>\n",
              "    </tr>\n",
              "    <tr>\n",
              "      <th>PER</th>\n",
              "      <td>1829.0</td>\n",
              "      <td>1.735375</td>\n",
              "      <td>0.594431</td>\n",
              "      <td>1.0</td>\n",
              "      <td>1.0</td>\n",
              "      <td>2.0</td>\n",
              "      <td>2.0</td>\n",
              "      <td>7.0</td>\n",
              "    </tr>\n",
              "  </tbody>\n",
              "</table>\n",
              "</div>\n",
              "      <button class=\"colab-df-convert\" onclick=\"convertToInteractive('df-0d2e1112-bca7-4d50-81f4-3c6dec739c05')\"\n",
              "              title=\"Convert this dataframe to an interactive table.\"\n",
              "              style=\"display:none;\">\n",
              "        \n",
              "  <svg xmlns=\"http://www.w3.org/2000/svg\" height=\"24px\"viewBox=\"0 0 24 24\"\n",
              "       width=\"24px\">\n",
              "    <path d=\"M0 0h24v24H0V0z\" fill=\"none\"/>\n",
              "    <path d=\"M18.56 5.44l.94 2.06.94-2.06 2.06-.94-2.06-.94-.94-2.06-.94 2.06-2.06.94zm-11 1L8.5 8.5l.94-2.06 2.06-.94-2.06-.94L8.5 2.5l-.94 2.06-2.06.94zm10 10l.94 2.06.94-2.06 2.06-.94-2.06-.94-.94-2.06-.94 2.06-2.06.94z\"/><path d=\"M17.41 7.96l-1.37-1.37c-.4-.4-.92-.59-1.43-.59-.52 0-1.04.2-1.43.59L10.3 9.45l-7.72 7.72c-.78.78-.78 2.05 0 2.83L4 21.41c.39.39.9.59 1.41.59.51 0 1.02-.2 1.41-.59l7.78-7.78 2.81-2.81c.8-.78.8-2.07 0-2.86zM5.41 20L4 18.59l7.72-7.72 1.47 1.35L5.41 20z\"/>\n",
              "  </svg>\n",
              "      </button>\n",
              "      \n",
              "  <style>\n",
              "    .colab-df-container {\n",
              "      display:flex;\n",
              "      flex-wrap:wrap;\n",
              "      gap: 12px;\n",
              "    }\n",
              "\n",
              "    .colab-df-convert {\n",
              "      background-color: #E8F0FE;\n",
              "      border: none;\n",
              "      border-radius: 50%;\n",
              "      cursor: pointer;\n",
              "      display: none;\n",
              "      fill: #1967D2;\n",
              "      height: 32px;\n",
              "      padding: 0 0 0 0;\n",
              "      width: 32px;\n",
              "    }\n",
              "\n",
              "    .colab-df-convert:hover {\n",
              "      background-color: #E2EBFA;\n",
              "      box-shadow: 0px 1px 2px rgba(60, 64, 67, 0.3), 0px 1px 3px 1px rgba(60, 64, 67, 0.15);\n",
              "      fill: #174EA6;\n",
              "    }\n",
              "\n",
              "    [theme=dark] .colab-df-convert {\n",
              "      background-color: #3B4455;\n",
              "      fill: #D2E3FC;\n",
              "    }\n",
              "\n",
              "    [theme=dark] .colab-df-convert:hover {\n",
              "      background-color: #434B5C;\n",
              "      box-shadow: 0px 1px 3px 1px rgba(0, 0, 0, 0.15);\n",
              "      filter: drop-shadow(0px 1px 2px rgba(0, 0, 0, 0.3));\n",
              "      fill: #FFFFFF;\n",
              "    }\n",
              "  </style>\n",
              "\n",
              "      <script>\n",
              "        const buttonEl =\n",
              "          document.querySelector('#df-0d2e1112-bca7-4d50-81f4-3c6dec739c05 button.colab-df-convert');\n",
              "        buttonEl.style.display =\n",
              "          google.colab.kernel.accessAllowed ? 'block' : 'none';\n",
              "\n",
              "        async function convertToInteractive(key) {\n",
              "          const element = document.querySelector('#df-0d2e1112-bca7-4d50-81f4-3c6dec739c05');\n",
              "          const dataTable =\n",
              "            await google.colab.kernel.invokeFunction('convertToInteractive',\n",
              "                                                     [key], {});\n",
              "          if (!dataTable) return;\n",
              "\n",
              "          const docLinkHtml = 'Like what you see? Visit the ' +\n",
              "            '<a target=\"_blank\" href=https://colab.research.google.com/notebooks/data_table.ipynb>data table notebook</a>'\n",
              "            + ' to learn more about interactive tables.';\n",
              "          element.innerHTML = '';\n",
              "          dataTable['output_type'] = 'display_data';\n",
              "          await google.colab.output.renderOutput(dataTable, element);\n",
              "          const docLink = document.createElement('div');\n",
              "          docLink.innerHTML = docLinkHtml;\n",
              "          element.appendChild(docLink);\n",
              "        }\n",
              "      </script>\n",
              "    </div>\n",
              "  </div>\n",
              "  "
            ],
            "text/plain": [
              "       count      mean       std  min  25%  50%  75%   max\n",
              "tag                                                       \n",
              "LOC   1832.0  1.170306  0.433990  1.0  1.0  1.0  1.0   5.0\n",
              "MISC   916.0  1.466157  0.805684  1.0  1.0  1.0  2.0   5.0\n",
              "ORG   1325.0  1.575849  1.018569  1.0  1.0  1.0  2.0  10.0\n",
              "PER   1829.0  1.735375  0.594431  1.0  1.0  2.0  2.0   7.0"
            ]
          },
          "metadata": {},
          "execution_count": 37
        }
      ]
    },
    {
      "cell_type": "markdown",
      "source": [
        "**Findings**\n",
        "\n",
        "*   The longest Named Entities are (as quite expected) are referring to names and surnames - `PER` tag.\n",
        "*   Anyway, entities are on average less than 2 tokens, which means that they are mostly simple and do not contain nested Named Entities."
      ],
      "metadata": {
        "id": "yPkADh6IimwV"
      }
    },
    {
      "cell_type": "markdown",
      "source": [
        "### Improvements & Processing\n",
        "\n",
        "#### **Improvements**\n",
        "\n",
        "**1. Tags convertion**\n",
        "\n",
        "In original [dataset paper](https://aclanthology.org/W03-0419.pdf) authors says: ``` We assume that named entities are non-recursive and non-overlapping. ``` <br>\n",
        "However then: ``` When a named\n",
        "entity is embedded in another named entity, usually\n",
        "only the top level entity has been annotated. ```\n",
        "\n",
        "Anyway, entities are on average less than 2 tokens, which means that they are mostly simple and do not contain nested Named Entities.\n",
        "\n",
        "But it is usually better to convert BIO1 tags of dataset to one of the following tagging schemas: \n",
        "- `IOB2` - is the same as the IOB format except that the B- tag is used in the beginning of every chunk.\n",
        "- `BILOU` - B - 'beginning', I - 'inside', L - 'last', O - 'outside', U - 'unit' (sometimes called `BIOES`, with E - ending, S - singleton). This scheme allows nesting Named Entities.\n",
        "\n",
        "**2. Minor tokens pre-processing**\n",
        "* It is assumed, that for the NER task, *the information present in numerical digits does not help in predicting the entity*. So, I replace all the digits by 0. So, now the model can concentrate on more important alphabets."
      ],
      "metadata": {
        "id": "gL8MwyqaVUBk"
      }
    },
    {
      "cell_type": "markdown",
      "source": [
        "#### Tagging scheme convertions"
      ],
      "metadata": {
        "id": "iI2OCID_5Yfb"
      }
    },
    {
      "cell_type": "code",
      "source": [
        "def is_span_end(prev_tag: str, tag: str):\n",
        "    \"\"\"\n",
        "    Check if the previous span ended between the previous and current word\n",
        "    e.g. \n",
        "    (B-PER, I-PER) -> False\n",
        "    (B-LOC, O)  -> True\n",
        "    Note: in case of contradicting tags, e.g. (B-PER, I-LOC)\n",
        "    this is considered as (B-PER, B-LOC)\n",
        "    \"\"\"\n",
        "    prefix1, tag_type1 = split_tag(prev_tag)\n",
        "    prefix2, tag_type2 = split_tag(tag)\n",
        "\n",
        "    if prefix1 == 'O':\n",
        "        return False\n",
        "    if prefix2 == 'O':\n",
        "        return prefix1 != 'O'\n",
        "\n",
        "    if tag_type1 != tag_type2:\n",
        "        return True\n",
        "\n",
        "    return prefix2 in ['B', 'S'] or prefix1 in ['E', 'S']\n",
        "\n",
        "def is_span_start(prev_tag: str, tag: str):\n",
        "    \"\"\"\n",
        "    Check if a new span started between the previous and current word.\n",
        "    \"\"\"\n",
        "    prefix1, tag_type1 = split_tag(prev_tag)\n",
        "    prefix2, tag_type2 = split_tag(tag)\n",
        "\n",
        "    if prefix2 == 'O':\n",
        "        return False\n",
        "    if prefix1 == 'O':\n",
        "        return prefix2 != 'O'\n",
        "\n",
        "    if tag_type1 != tag_type2:\n",
        "        return True\n",
        "\n",
        "    return prefix2 in ['B', 'S'] or prefix1 in ['E', 'S']\n",
        "\n",
        "def convert_to_IOB2(tags: List[str]) -> List[str]:\n",
        "    \"\"\"\n",
        "    Makes a convertion from any other tagging scheme to IOB2.\n",
        "    IOB2:\n",
        "        - B = begin, \n",
        "        - I = inside but not the first, \n",
        "        - O = outside\n",
        "    e.g. \n",
        "    John   lives in New   York  City  .\n",
        "    B-PER  O     O  B-LOC I-LOC I-LOC O\n",
        "    \"\"\"\n",
        "    tags = [tag.split(\"-\")[-1] for tag in tags]\n",
        "\n",
        "    curr_tag = None\n",
        "    converted_tags = []\n",
        "    for tag in tags:\n",
        "        if (tag != 'O'):\n",
        "            if curr_tag is None:\n",
        "                converted_tags.append(f\"B-{tag}\")  # beginning\n",
        "                curr_tag = tag\n",
        "            else:\n",
        "                converted_tags.append(f\"I-{tag}\")  # ended or yet another one\n",
        "                curr_tag = tag\n",
        "        else:\n",
        "            converted_tags.append(tag)  # simply O\n",
        "            curr_tag = None\n",
        "    return converted_tags"
      ],
      "metadata": {
        "id": "ZZw0P79FVTaS"
      },
      "execution_count": 86,
      "outputs": []
    },
    {
      "cell_type": "code",
      "source": [
        "# Example of convertion to IOB2\n",
        "i = 3\n",
        "print(f\"IOB1:\")\n",
        "print(train_data[i].ner_tags)\n",
        "print(f\"IOB2:\")\n",
        "print(convert_to_IOB2(train_data[i].ner_tags))"
      ],
      "metadata": {
        "colab": {
          "base_uri": "https://localhost:8080/"
        },
        "id": "FYNZtrd4ZQHO",
        "outputId": "32b68aa3-7b9d-43f8-ba25-2469022f8d84"
      },
      "execution_count": 87,
      "outputs": [
        {
          "output_type": "stream",
          "name": "stdout",
          "text": [
            "IOB1:\n",
            "['O', 'I-ORG', 'I-ORG', 'O', 'O', 'O', 'O', 'O', 'O', 'I-MISC', 'O', 'O', 'O', 'O', 'O', 'I-MISC', 'O', 'O', 'O', 'O', 'O', 'O', 'O', 'O', 'O', 'O', 'O', 'O', 'O', 'O']\n",
            "IOB2:\n",
            "['O', 'B-ORG', 'I-ORG', 'O', 'O', 'O', 'O', 'O', 'O', 'B-MISC', 'O', 'O', 'O', 'O', 'O', 'B-MISC', 'O', 'O', 'O', 'O', 'O', 'O', 'O', 'O', 'O', 'O', 'O', 'O', 'O', 'O']\n"
          ]
        }
      ]
    },
    {
      "cell_type": "code",
      "source": [
        "# Convert full dataset to IOB2\n",
        "for d in tqdm(train_data):\n",
        "    d.ner_tags = convert_to_IOB2(d.ner_tags)\n",
        "\n",
        "for d in tqdm(val_data):\n",
        "    d.ner_tags = convert_to_IOB2(d.ner_tags)\n",
        "\n",
        "print(f\"\\nConverted:\")\n",
        "print(train_data[3].ner_tags)"
      ],
      "metadata": {
        "colab": {
          "base_uri": "https://localhost:8080/"
        },
        "id": "tnqdX9yQZGJO",
        "outputId": "293ec65a-59d5-424b-a4f0-6a1ec3125278"
      },
      "execution_count": 88,
      "outputs": [
        {
          "output_type": "stream",
          "name": "stderr",
          "text": [
            "100%|██████████| 14041/14041 [00:00<00:00, 131793.28it/s]\n",
            "100%|██████████| 3250/3250 [00:00<00:00, 106928.73it/s]"
          ]
        },
        {
          "output_type": "stream",
          "name": "stdout",
          "text": [
            "\n",
            "Converted:\n",
            "['O', 'B-ORG', 'I-ORG', 'O', 'O', 'O', 'O', 'O', 'O', 'B-MISC', 'O', 'O', 'O', 'O', 'O', 'B-MISC', 'O', 'O', 'O', 'O', 'O', 'O', 'O', 'O', 'O', 'O', 'O', 'O', 'O', 'O']\n"
          ]
        },
        {
          "output_type": "stream",
          "name": "stderr",
          "text": [
            "\n"
          ]
        }
      ]
    },
    {
      "cell_type": "code",
      "source": [
        "def convert_to_IOBES(tags: List[str]) -> List[str]:\n",
        "    \"\"\"\n",
        "    Makes a convertion from any other tagging scheme to IOBES.\n",
        "    IOBES:\n",
        "        - B = begin, \n",
        "        - E = end, \n",
        "        - S = singleton, \n",
        "        - I = inside but not the first or the last, \n",
        "        - O = outside\n",
        "    e.g.\n",
        "    John   lives in New   York  City  .\n",
        "    S-PER  O     O  B-LOC I-LOC E-LOC O\n",
        "    \"\"\"\n",
        "    converted_tags = []\n",
        "    for i, tag in enumerate(tags):\n",
        "        if tag == \"O\":\n",
        "            converted_tags.append(tag)  # simply O\n",
        "        elif split_tag(tag)[0] == 'B':\n",
        "            # tag sequence start - no changes\n",
        "            if (i + 1 != len(tags)) and (split_tag(tags[i + 1])[0] == 'I'):\n",
        "                converted_tags.append(tag)\n",
        "            else:\n",
        "                # otherwise change Begin to Singleton\n",
        "                converted_tags.append(tag.replace('B-', 'S-'))\n",
        "        elif split_tag(tag)[0] == 'I':\n",
        "            # tag sequence middle - no changes\n",
        "            if (i + 1 < len(tags)) and (split_tag(tags[i + 1])[0] == 'I'):\n",
        "                converted_tags.append(tag)\n",
        "            else:\n",
        "                # otherwise change Inside to Ending\n",
        "                converted_tags.append(tag.replace('I-', 'E-'))\n",
        "        else:\n",
        "            print(f\"Unrecognized tag: {tag}, skipping...\")\n",
        "    return converted_tags"
      ],
      "metadata": {
        "id": "efmagS9_X3Cd"
      },
      "execution_count": null,
      "outputs": []
    },
    {
      "cell_type": "code",
      "source": [
        "# Example of convertion to IOB2\n",
        "i = 3\n",
        "print(f\"IOB2:\")\n",
        "print(train_data[i].ner_tags)\n",
        "print(f\"IOBES:\")\n",
        "print(convert_to_IOBES(train_data[i].ner_tags))"
      ],
      "metadata": {
        "colab": {
          "base_uri": "https://localhost:8080/"
        },
        "id": "PMc89ppznwLZ",
        "outputId": "ded705ab-f692-43a2-c310-6d0cb0ae2a65"
      },
      "execution_count": null,
      "outputs": [
        {
          "output_type": "stream",
          "name": "stdout",
          "text": [
            "IOB2:\n",
            "['O', 'B-ORG', 'I-ORG', 'O', 'O', 'O', 'O', 'O', 'O', 'B-MISC', 'O', 'O', 'O', 'O', 'O', 'B-MISC', 'O', 'O', 'O', 'O', 'O', 'O', 'O', 'O', 'O', 'O', 'O', 'O', 'O', 'O']\n",
            "IOBES:\n",
            "['O', 'B-ORG', 'E-ORG', 'O', 'O', 'O', 'O', 'O', 'O', 'S-MISC', 'O', 'O', 'O', 'O', 'O', 'S-MISC', 'O', 'O', 'O', 'O', 'O', 'O', 'O', 'O', 'O', 'O', 'O', 'O', 'O', 'O']\n"
          ]
        }
      ]
    },
    {
      "cell_type": "code",
      "source": [
        "# Convert full dataset to IOBES\n",
        "for d in tqdm(train_data):\n",
        "    d.ner_tags = convert_to_IOBES(d.ner_tags)\n",
        "\n",
        "for d in tqdm(val_data):\n",
        "    d.ner_tags = convert_to_IOBES(d.ner_tags)\n",
        "\n",
        "print(f\"\\nConverted:\")\n",
        "print(train_data[3].ner_tags)"
      ],
      "metadata": {
        "id": "06FtFG1WnwOv",
        "colab": {
          "base_uri": "https://localhost:8080/"
        },
        "outputId": "af63c4ef-de7c-48d9-bcaf-c4f84adc1fb9"
      },
      "execution_count": null,
      "outputs": [
        {
          "output_type": "stream",
          "name": "stderr",
          "text": [
            "100%|██████████| 14041/14041 [00:00<00:00, 157539.13it/s]\n",
            "100%|██████████| 3250/3250 [00:00<00:00, 119302.36it/s]"
          ]
        },
        {
          "output_type": "stream",
          "name": "stdout",
          "text": [
            "\n",
            "Converted:\n",
            "['O', 'B-ORG', 'E-ORG', 'O', 'O', 'O', 'O', 'O', 'O', 'S-MISC', 'O', 'O', 'O', 'O', 'O', 'S-MISC', 'O', 'O', 'O', 'O', 'O', 'O', 'O', 'O', 'O', 'O', 'O', 'O', 'O', 'O']\n"
          ]
        },
        {
          "output_type": "stream",
          "name": "stderr",
          "text": [
            "\n"
          ]
        }
      ]
    },
    {
      "cell_type": "markdown",
      "source": [
        "#### Pre-process tokens"
      ],
      "metadata": {
        "id": "orNvWzSTMq_q"
      }
    },
    {
      "cell_type": "code",
      "source": [
        "# Count digits\n",
        "n_digits = 0\n",
        "n_tokens = 0\n",
        "all_digits = []\n",
        "for d in train_data:\n",
        "    for token in d.tokens:\n",
        "        if re.search(\"\\d\", token) is not None:\n",
        "            n_digits += 1\n",
        "            all_digits.append(token)\n",
        "        n_tokens += 1\n",
        "\n",
        "print(f\"There are {n_digits} digits in training data (totally {n_tokens} tokens).\")\n",
        "print(f\"Which id {100 * n_digits / n_tokens}%.\\n\")\n",
        "print(f\"Some of them:\\n{all_digits[:10]}\")"
      ],
      "metadata": {
        "colab": {
          "base_uri": "https://localhost:8080/"
        },
        "id": "l94ZAvjvMvzV",
        "outputId": "d390a40c-6abf-444c-921d-9caabd6deab4"
      },
      "execution_count": 41,
      "outputs": [
        {
          "output_type": "stream",
          "name": "stdout",
          "text": [
            "There are 19159 digits in training data (totally 203621 tokens).\n",
            "Which id 9.409147386566218%.\n",
            "\n",
            "Some of them:\n",
            "['1996-08-22', '47,600', '4,275', '10', '17,000', '1996-08-22', '17,000', '10,925', '16,935', '1966']\n"
          ]
        }
      ]
    },
    {
      "cell_type": "markdown",
      "source": [
        "## Preparing the Dataset"
      ],
      "metadata": {
        "id": "M8Cd8gFd4RJy"
      }
    },
    {
      "cell_type": "markdown",
      "source": [
        "### **Transfromer-like models Dataset**\n",
        "\n",
        "### Transfromers Tokenization problems\n",
        "\n",
        "A key concept of NER with Transfromers is that the majority of such models relies on **WordPiece tokenization** / **BPE** / **SentencePiece tokenization**, rather than word tokenization. This means that the labels should also be defined at the wordpiece-level, rather than the word-level.\n",
        "\n",
        "Example:\n",
        "\n",
        "```\n",
        "Initial word: 'infrequent'\n",
        "Tag: 'B-count'\n",
        "Tokenization result: [CLS, 'in', '##fr', '##e', '##quent', SEP]\n",
        "```\n",
        "\n",
        "**Aproaches**\n",
        "1. To train the model on the tag labels for the first word piece token of a word (i.e. only label \"Wash\" with \"b-gpe\"). Assign -100 to the other subtokens from the same word.\n",
        "This is what was done in the original BERT paper, see Github discussion [here](https://github.com/huggingface/transformers/issues/64#issuecomment-443703063).\n",
        "\n",
        "```\n",
        "Tag alignment result: [-100, 'B-count', -100, -100, -100, -100]\n",
        "```\n",
        "\n",
        "2. To propagate the original label of the word to all of its word pieces and let the model train on this. In that case, the model should be able to produce the correct labels for each individual wordpiece. This was done in [this NER tutorial with BERT](https://github.com/chambliss/Multilingual_NER/blob/master/python/utils/main_utils.py#L118).\n",
        "\n",
        "```\n",
        "Tag alignment result: [-100, 'B-count', 'B-count', 'B-count', 'B-count',-100]\n",
        "```\n",
        "\n",
        "3. To give the first wordpiece of each word the original word label, and then use the dummy label “X” for all subsequent subwords of that word. The important thing is that when calculating the loss (e.g., CELoss) and metrics (e.g., F1), this 'X' labels on the sub-tokens are not taken into account.\n",
        "\n",
        "```\n",
        "Tag alignment result: [-100, 'B-count', 'X', 'X', 'X', -100]\n",
        "```\n",
        "\n",
        "### Custom Dataset\n",
        "\n",
        "Below, is defined a regular PyTorch dataset class, which:\n",
        "\n",
        "* each sentence gets tokenized, \n",
        "* the special tokens that BERT/RoBERTa/GPT/other expects are added, \n",
        "* the tokens are padded or truncated based on the max length of the model, \n",
        "* the attention mask is created \n",
        "* the labels are created based on the mapping dictionaries\n",
        "* transforms examples to PyTorch tensors\n",
        "\n",
        "Word pieces that should be ignored have a label of -100 (which is the default `ignore_index` of PyTorch's [CrossEntropyLoss](https://pytorch.org/docs/stable/generated/torch.nn.CrossEntropyLoss.html))."
      ],
      "metadata": {
        "id": "9Ld9sjYGm6NV"
      }
    },
    {
      "cell_type": "code",
      "source": [
        "import datasets\n",
        "from transformers import AutoTokenizer, AutoModel, AutoModelForTokenClassification, PreTrainedTokenizerFast"
      ],
      "metadata": {
        "id": "9cNvfYw-65Bk"
      },
      "execution_count": 89,
      "outputs": []
    },
    {
      "cell_type": "code",
      "source": [
        "# Select all labels from dataset sorted by their frequencies\n",
        "labels_counter = (Counter(list(itertools.chain.from_iterable([d.ner_tags for d in train_data]))) + \n",
        "                  Counter(list(itertools.chain.from_iterable([d.ner_tags for d in val_data])))).most_common()\n",
        "labels_counter"
      ],
      "metadata": {
        "colab": {
          "base_uri": "https://localhost:8080/"
        },
        "id": "IvxrezBMdr2S",
        "outputId": "fcd07e09-e7b8-480d-b9a7-88a9cc4116c1"
      },
      "execution_count": 90,
      "outputs": [
        {
          "output_type": "execute_result",
          "data": {
            "text/plain": [
              "[('O', 212337),\n",
              " ('B-LOC', 8946),\n",
              " ('B-PER', 8361),\n",
              " ('B-ORG', 7572),\n",
              " ('I-PER', 5916),\n",
              " ('I-ORG', 4545),\n",
              " ('B-MISC', 4275),\n",
              " ('I-MISC', 1586),\n",
              " ('I-LOC', 1445)]"
            ]
          },
          "metadata": {},
          "execution_count": 90
        }
      ]
    },
    {
      "cell_type": "code",
      "source": [
        "def create_labels_mapping(unique_tags: List[str]):\n",
        "    \"\"\"\n",
        "    Create a mapping (labels to indices / indices to labels) \n",
        "    from a set of unique labels to indices.\n",
        "    Input items should be ordered by decreasing frequency, \n",
        "    so `O` would be at index = 0.\n",
        "    return: id->label, label->id\n",
        "    \"\"\"\n",
        "    ids_to_labels = {i: v for i, v in enumerate(unique_tags)}\n",
        "    labels_to_ids = {v: k for k, v in ids_to_labels.items()}\n",
        "    return ids_to_labels, labels_to_ids\n",
        "\n",
        "ids_to_labels, labels_to_ids = create_labels_mapping([lc[0] for lc in labels_counter])\n",
        "print(ids_to_labels)\n",
        "print(labels_to_ids)"
      ],
      "metadata": {
        "colab": {
          "base_uri": "https://localhost:8080/"
        },
        "id": "3j0vrXHcqxSC",
        "outputId": "90515fbb-9331-4c0f-f9dd-8812d71470d6"
      },
      "execution_count": 91,
      "outputs": [
        {
          "output_type": "stream",
          "name": "stdout",
          "text": [
            "{0: 'O', 1: 'B-LOC', 2: 'B-PER', 3: 'B-ORG', 4: 'I-PER', 5: 'I-ORG', 6: 'B-MISC', 7: 'I-MISC', 8: 'I-LOC'}\n",
            "{'O': 0, 'B-LOC': 1, 'B-PER': 2, 'B-ORG': 3, 'I-PER': 4, 'I-ORG': 5, 'B-MISC': 6, 'I-MISC': 7, 'I-LOC': 8}\n"
          ]
        }
      ]
    },
    {
      "cell_type": "code",
      "source": [
        "class NERDataset(Dataset):\n",
        "\n",
        "    available_schemas = [\"IOB2\", \"BIOES\"]\n",
        "\n",
        "    def __init__(self, model_name: str,\n",
        "                 pretrained_dir: Union[str, Path] = '', \n",
        "                 label_propagation_type: str = \"first\",\n",
        "                 max_samples: int = -1, max_length: int = 50):\n",
        "        \"\"\"\n",
        "        label_propagation_type - the selection option of algorithm \n",
        "                                for NER target label spreading \n",
        "                                with Tansformers subtoken tokenization style.\n",
        "        Example: [CLS, 'in', '##fr', '##e', SEP]\n",
        "        available: 'first' - [-100, 'B-TAG', 'X', 'X', -100], then 'X'-> -100\n",
        "                   'all' - [-100, 'B-TAG', 'B-TAG', 'B-TAG', -100]\n",
        "                   'begin-inside' - [-100, 'B-TAG', 'I-TAG', 'I-TAG', -100]\n",
        "                                \n",
        "        \"\"\"\n",
        "        self._max_samples = max_samples\n",
        "        self._max_length = max_length\n",
        "\n",
        "        if len(str(pretrained_dir)):\n",
        "            if type(pretrained_dir) == str:\n",
        "                pretrained_dir = Path(pretrained_dir)\n",
        "            if not pretrained_dir.exists():\n",
        "                print(f\"Error: Directory with pre-trained model was not found by path: {pretrained_dir}\")\n",
        "                raise FileNotFoundError(f\"Error: Directory with pre-trained model was not found by path: {pretrained_dir}\")\n",
        "            model_name = str(pretrained_dir / model_name)\n",
        "\n",
        "        print(f\"Loading {model_name} model's tokenizer...\")\n",
        "        self._tokenizer = AutoTokenizer.from_pretrained(model_name)\n",
        "        self._tokenizer = PreTrainedTokenizerFast(__slow_tokenizer=self._tokenizer)\n",
        "        self._label_propagation_type = label_propagation_type\n",
        "\n",
        "        # get pad token \n",
        "        self.pad_token = self._tokenizer.special_tokens_map['pad_token']\n",
        "        self.pad_token_id = self._tokenizer.get_vocab()[self.pad_token]\n",
        "        self.sep_token = self._tokenizer.special_tokens_map['sep_token']\n",
        "\n",
        "        self._tagging_scheme = None\n",
        "        self._label2id = {}\n",
        "        self._id2label = {}\n",
        "        self._data = []\n",
        "\n",
        "    def get_target_size(self):\n",
        "        return len(set(self._label2id.values()))\n",
        "\n",
        "    def get_target_labels(self):\n",
        "        return self._label2id\n",
        "\n",
        "    def __len__(self):\n",
        "        return len(self._data)\n",
        "\n",
        "    def __getitem__(self, item):\n",
        "        return self._data[item]\n",
        "\n",
        "    def set_dataset(self, data: List[TextData], \n",
        "                    labels_mapping: Dict[str, int],\n",
        "                    tagging_scheme: str = \"IOB2\"):\n",
        "        \"\"\"\n",
        "        Initialize and prepare dataset.\n",
        "        \"\"\"\n",
        "        if tagging_scheme not in self.available_schemas:\n",
        "            print(f\"Error: Provided tagging scheme is not supported.\")\n",
        "            print(f\"Choose one of the following: {self.available_schemas} and try again.\")\n",
        "            return self\n",
        "        self._tagging_scheme = tagging_scheme\n",
        "\n",
        "        # initialize labels mapping\n",
        "        self._label2id = labels_mapping\n",
        "        self._id2label = {v: k for k, v in self._label2id.items()}\n",
        "\n",
        "        for text_i, text_data in enumerate(data):\n",
        "            # `max_samples` set to -1 means no limitations on dataset length\n",
        "            if (self._max_samples != -1) and (text_i >= self._max_samples):\n",
        "                break\n",
        "            parced_text, text_spans = self._parse_text(text_data)\n",
        "            parced_text['spans'] = text_spans\n",
        "            # self._data.append((parced_text['input_ids'], parced_text['attention_mask'], parced_text['ner_labels'], text_spans))\n",
        "            self._data.append(parced_text)\n",
        "        print(f\"Finished data processing\")\n",
        "        return self\n",
        "\n",
        "    def _parse_text(self, text_data: TextData):\n",
        "        encoded_text = self._parse_ner_tokens(text_data.tokens, text_data.ner_tags)\n",
        "        # select spans out of tags\n",
        "        text_spans = self._extract_spans(encoded_text['ner_labels'])\n",
        "\n",
        "        # At last turn everything into PyTorch tensors\n",
        "        dtype = torch.long  # may be torch.float64\n",
        "        encoded_text = {key: torch.as_tensor(val, dtype=dtype) for key, val in encoded_text.items()}\n",
        "        encoded_text['ner_labels'] = encoded_text['ner_labels'].unsqueeze(0)\n",
        "        return encoded_text, text_spans\n",
        "\n",
        "    def _parse_ner_tokens(self, tokens: List[str], \n",
        "                          ner_tags: List[str]) -> transformers.BatchEncoding:\n",
        "        \"\"\"\n",
        "        Tokenize and align tag labels for single text.\n",
        "        \"\"\"\n",
        "        # `max_length` set to -1 means no limitations on sequence length\n",
        "        text_encoding = self._tokenizer(tokens,\n",
        "                                  is_split_into_words=True,\n",
        "                                  truncation=True if self._max_length != -1 else False, \n",
        "                                  max_length=self._max_length if self._max_length != -1 else None,\n",
        "                    return_offsets_mapping=True)\n",
        "\n",
        "        # strip special tokens (bos and eos)\n",
        "        # tokens_encoding = text_encoding['input_ids'][1:-1]\n",
        "\n",
        "        # mapping special tokens to None and all other tokens to their respective word\n",
        "        # word_ids = text_encoding.word_ids()\n",
        "        word_ids = [text_encoding.token_to_word(t[0]) for t in \n",
        "                     enumerate(text_encoding.get('input_ids'))]\n",
        "        if self._label_propagation_type == 'first':\n",
        "            ner_prop_tags = self._propagate_tags_first(text_encoding['input_ids'],\n",
        "                                                   word_ids,\n",
        "                                                   ner_tags)\n",
        "        elif self._label_propagation_type == 'all':\n",
        "            ner_prop_tags = self._propagate_tags_all(text_encoding['input_ids'],\n",
        "                                                   word_ids,\n",
        "                                                   ner_tags)\n",
        "        elif self._label_propagation_type == 'begin-inside':\n",
        "            ner_prop_tags = self._propagate_tags_begin_inside(text_encoding['input_ids'],\n",
        "                                                   word_ids,\n",
        "                                                   ner_tags)\n",
        "        else:\n",
        "            print(f\"Error: Unknown label_propagation_type: {self._label_propagation_type}\")\n",
        "            raise AttributeError(f\"Error: Unknown label_propagation_type: {self._label_propagation_type}\")\n",
        "\n",
        "        text_encoding['ner_labels'] = ner_prop_tags\n",
        "\n",
        "        # Re-map token mask so first part of splitted token = 1, others are set to 0\n",
        "        tokens_mask = [1 if (offset[0] == 0) and (offset[1] != 0) else 0 \n",
        "                     for offset in text_encoding['offset_mapping']]\n",
        "        text_encoding['tokens_mask'] = tokens_mask\n",
        "        return text_encoding\n",
        "\n",
        "    def _propagate_tags_first(self, tokens_ids: List[int], \n",
        "                              words_ids: List[int], tags: List[int]):\n",
        "        \"\"\"\n",
        "        Create token labels only for first word pieces of each tokenized word.\n",
        "        \"\"\"\n",
        "        # encode tags to their's ids\n",
        "        tags = [self._label2id[tag] for tag in tags]\n",
        "\n",
        "        aligned_labels = []\n",
        "        for w_id, w_rep in itertools.groupby(words_ids):\n",
        "            if w_id is None:\n",
        "                aligned_labels.append(self._label2id[\"O\"])  #-100\n",
        "            elif self._id2label[tags[w_id]] != \"O\":\n",
        "                tag_ = [tags[w_id]] + [self._label2id[\"O\"]] * (len(list(w_rep)) - 1)  #[-100] * (len(list(w_rep)) - 1)\n",
        "                aligned_labels.extend(tag_)\n",
        "            else:\n",
        "                tag_ = [tags[w_id]] * len(list(w_rep))\n",
        "                aligned_labels.extend(tag_)\n",
        "        return aligned_labels\n",
        "\n",
        "    def _propagate_tags_all(self, tokens_ids: List[int], \n",
        "                              words_ids: List[int], tags: List[int]):\n",
        "        \"\"\"\n",
        "        Create token labels for all word pieces of each tokenized word.\n",
        "        \"\"\"\n",
        "        # encode tags to their's ids\n",
        "        tags = [self._label2id[tag] for tag in tags]\n",
        "        return [-100 if i is None else tags[i] for i in words_ids]\n",
        "\n",
        "    def _propagate_tags_begin_inside(self, tokens_ids: List[int], \n",
        "                                    words_ids: List[int], tags: List[int]):\n",
        "        \"\"\"\n",
        "        Create token labels only for first word pieces of each tokenized word, \n",
        "        for other pieces propagate the same tag, but with 'I-' prefix.\n",
        "        !!! Only for BIO tagging\n",
        "        \"\"\"\n",
        "        aligned_labels = []\n",
        "        for w_id, w_rep in itertools.groupby(words_ids):\n",
        "            if w_id is None:\n",
        "                aligned_labels.append(-100)\n",
        "            elif tags[w_id].split(\"-\")[0] == \"B\":\n",
        "                tag_ = [tags[w_id]] + [f\"I-{tags[w_id].split('-')[-1]}\"] * (len(list(w_rep)) - 1)\n",
        "                aligned_labels.extend(tag_)\n",
        "            else:\n",
        "                tag_ = [tags[w_id]] * len(list(w_rep))\n",
        "                aligned_labels.extend(tag_)\n",
        "        # encode tags to their's ids\n",
        "        aligned_labels = [self._label2id[tag] if tag != -100 else -100\n",
        "                          for tag in aligned_labels]\n",
        "        return aligned_labels\n",
        "    \n",
        "    def _save_span(self, _cur_tag: Union[str, None], \n",
        "                   _cur_start: Union[int, None], \n",
        "                   _cur_id: Union[int, None], \n",
        "                   _gold_spans: Dict[Tuple[int, int], str]):\n",
        "        \"\"\"\n",
        "        Utility function for span bondaries creation.\n",
        "        \"\"\"\n",
        "        if _cur_start is None:\n",
        "            return _gold_spans\n",
        "        # inclusive start & end, accord with conll-coref settings\n",
        "        _gold_spans[(_cur_start, _cur_id - 1)] = _cur_tag  \n",
        "        return _gold_spans\n",
        "\n",
        "    def _extract_spans(self, tags: List[Union[str, int]]):\n",
        "        \"\"\"\n",
        "        Given a sequence of tag labels, return all token spans \n",
        "        within the sequence. Spans are `inclusive`.\n",
        "        !!! Currently do NOT work with 'all' option in `label_propagation_type`\n",
        "        !!! Only for BIO tagging\n",
        "        \"\"\"\n",
        "        cur_tag = None\n",
        "        cur_start = None\n",
        "        gold_spans = {}\n",
        "\n",
        "        if type(tags[0]) != str:\n",
        "            # dencode tags ids to their str labels \n",
        "            tags = [self._id2label[tag] if tag != -100 else '-100'\n",
        "                    for tag in tags]\n",
        "\n",
        "         # iterate over the tags\n",
        "        for tag_i, tag in enumerate(tags):\n",
        "            tag_pos = tag[0]  # tag `position`\n",
        "            if tag_pos == 'B':\n",
        "                # save previous span, if exists\n",
        "                gold_spans = self._save_span(cur_tag, cur_start, tag_i, gold_spans)\n",
        "                cur_start = tag_i  # new tag starts\n",
        "                cur_tag = tag[2:]  # tag `name`\n",
        "            elif tag_pos == 'I':\n",
        "                # do nothing\n",
        "                pass\n",
        "            elif tag_pos == 'O':\n",
        "                # if (cur_tag != 'O') and (cur_tag is not None):\n",
        "                    # span finished, saving\n",
        "                gold_spans = self._save_span(cur_tag, cur_start, tag_i, gold_spans)\n",
        "                cur_tag = 'O'\n",
        "                cur_start = None\n",
        "        # save last span    \n",
        "        self._save_span(cur_tag, cur_start, tag_i + 1, gold_spans)\n",
        "        return gold_spans"
      ],
      "metadata": {
        "id": "Eef9wWm-X3T3"
      },
      "execution_count": 92,
      "outputs": []
    },
    {
      "cell_type": "code",
      "source": [
        "def collate_batch(batch, pad_token_id = 0, o_id = labels_to_ids['O']):\n",
        "\n",
        "    # Unzip batch items\n",
        "    tokens = [b['input_ids'] for b in batch]\n",
        "    masks = [b['attention_mask'] for b in batch]\n",
        "    tokens_masks = [b['tokens_mask'] for b in batch]\n",
        "    tags = [b['ner_labels'] for b in batch] \n",
        "    spans = [b['spans'] for b in batch]\n",
        "\n",
        "    # Pad tensors to single seq_len\n",
        "    max_len = max([len(token) for token in tokens])\n",
        "    token_tensor = torch.empty(size=(len(tokens), max_len), dtype=torch.long).fill_(pad_token_id)\n",
        "    tag_tensor = torch.empty(size=(len(tokens), max_len), dtype=torch.long).fill_(o_id)\n",
        "    mask_tensor = torch.zeros(size=(len(tokens), max_len), dtype=torch.int)\n",
        "    tokens_mask_tensor = torch.zeros(size=(len(tokens), max_len), dtype=torch.int)\n",
        "\n",
        "    for i in range(len(tokens)):\n",
        "        tokens_ = tokens[i]\n",
        "        seq_len = len(tokens_)\n",
        "\n",
        "        token_tensor[i, :seq_len] = tokens_\n",
        "        tag_tensor[i, :seq_len] = tags[i]\n",
        "        mask_tensor[i, :seq_len] = masks[i]\n",
        "        tokens_mask_tensor[i, :seq_len] = tokens_masks[i]\n",
        "        \n",
        "    return {\"input_ids\": token_tensor,\n",
        "             \"labels\": tag_tensor,\n",
        "             \"attention_mask\": mask_tensor,\n",
        "             \"tokens_mask\": tokens_mask_tensor,\n",
        "             \"spans\": spans}"
      ],
      "metadata": {
        "id": "-Cx8-AeFpKwb"
      },
      "execution_count": 93,
      "outputs": []
    },
    {
      "cell_type": "markdown",
      "source": [
        "# NER Experiments"
      ],
      "metadata": {
        "id": "eiGQjpiJtnCL"
      }
    },
    {
      "cell_type": "code",
      "source": [
        "import pytorch_lightning as pl\n",
        "from pytorch_lightning import Trainer, seed_everything\n",
        "from pytorch_lightning.loggers import TensorBoardLogger\n",
        "from pytorch_lightning.callbacks import ModelCheckpoint\n",
        "from pytorch_lightning.callbacks.early_stopping import EarlyStopping\n",
        "\n",
        "seed_everything(11)"
      ],
      "metadata": {
        "id": "SCxkKEvx6s4s",
        "colab": {
          "base_uri": "https://localhost:8080/"
        },
        "outputId": "6057eb99-e8cf-4d24-84c5-aeb1337a1f2d"
      },
      "execution_count": 94,
      "outputs": [
        {
          "output_type": "stream",
          "name": "stderr",
          "text": [
            "Global seed set to 11\n",
            "INFO: Global seed set to 11\n"
          ]
        },
        {
          "output_type": "execute_result",
          "data": {
            "text/plain": [
              "11"
            ]
          },
          "metadata": {},
          "execution_count": 94
        }
      ]
    },
    {
      "cell_type": "markdown",
      "source": [
        "### Metrics\n",
        "\n",
        "The last thing to define for our `Trainer` is how to compute the metrics from the predictions. Here we will use:\n",
        "  \n",
        "*   **[`seqeval`](https://github.com/chakki-works/seqeval)** metric (which is commonly used to evaluate results on the CONLL dataset) via the Datasets library. This metric takes list of labels for the predictions and references.\n",
        "*   **[`conlleval`](https://github.com/sighsmile/conlleval)** which can be used for measuring `the performance of a system within chunks (spans)` that has processed the CoNLL-2000 shared task data."
      ],
      "metadata": {
        "id": "YVn_0mU8D6ln"
      }
    },
    {
      "cell_type": "code",
      "source": [
        "!wget https://raw.githubusercontent.com/sighsmile/conlleval/master/conlleval.py\n",
        "\n",
        "from conlleval import evaluate\n",
        "from datasets import load_metric"
      ],
      "metadata": {
        "id": "rNOT9jN-6FKJ",
        "colab": {
          "base_uri": "https://localhost:8080/"
        },
        "outputId": "21e62602-7907-4b38-c6d1-6f027a6d4ea7"
      },
      "execution_count": 29,
      "outputs": [
        {
          "output_type": "stream",
          "name": "stdout",
          "text": [
            "--2022-01-31 13:44:10--  https://raw.githubusercontent.com/sighsmile/conlleval/master/conlleval.py\n",
            "Resolving raw.githubusercontent.com (raw.githubusercontent.com)... 185.199.108.133, 185.199.109.133, 185.199.110.133, ...\n",
            "Connecting to raw.githubusercontent.com (raw.githubusercontent.com)|185.199.108.133|:443... connected.\n",
            "HTTP request sent, awaiting response... 200 OK\n",
            "Length: 7502 (7.3K) [text/plain]\n",
            "Saving to: ‘conlleval.py’\n",
            "\n",
            "\rconlleval.py          0%[                    ]       0  --.-KB/s               \rconlleval.py        100%[===================>]   7.33K  --.-KB/s    in 0s      \n",
            "\n",
            "2022-01-31 13:44:10 (89.4 MB/s) - ‘conlleval.py’ saved [7502/7502]\n",
            "\n"
          ]
        }
      ]
    },
    {
      "cell_type": "code",
      "source": [
        "metric = load_metric(\"seqeval\")\n",
        "metric"
      ],
      "metadata": {
        "id": "7SnIgvstD5zU",
        "colab": {
          "base_uri": "https://localhost:8080/",
          "height": 763,
          "referenced_widgets": [
            "b85b31f5a5b0430f9d75e636c0dcafe3",
            "8aefd494ae8548a2b5d9495512faf8d6",
            "7c71e00fda9a44da8feff7f923905ae4",
            "47f774a9bcfd4ee381fd03ada7776ef2",
            "7056792907e44926a152760afd2be26f",
            "b77796ae3c6e48849543aa37be36e55c",
            "4e368c6f81144d1aa0b96c0a90c282d4",
            "9b20c42820de49079efa3a4c5aad9a3b",
            "088ea656f087459588b9a2a99dc337af",
            "2c60e384835c45199c55933959af7c13",
            "915f22239ac0442ba9289106b4f4c272"
          ]
        },
        "outputId": "e0ff7a90-06f7-4bc4-8432-20b2ff0f832b"
      },
      "execution_count": 30,
      "outputs": [
        {
          "output_type": "display_data",
          "data": {
            "application/vnd.jupyter.widget-view+json": {
              "model_id": "b85b31f5a5b0430f9d75e636c0dcafe3",
              "version_minor": 0,
              "version_major": 2
            },
            "text/plain": [
              "Downloading:   0%|          | 0.00/2.48k [00:00<?, ?B/s]"
            ]
          },
          "metadata": {}
        },
        {
          "output_type": "execute_result",
          "data": {
            "text/plain": [
              "Metric(name: \"seqeval\", features: {'predictions': Sequence(feature=Value(dtype='string', id='label'), length=-1, id='sequence'), 'references': Sequence(feature=Value(dtype='string', id='label'), length=-1, id='sequence')}, usage: \"\"\"\n",
              "Produces labelling scores along with its sufficient statistics\n",
              "from a source against one or more references.\n",
              "\n",
              "Args:\n",
              "    predictions: List of List of predicted labels (Estimated targets as returned by a tagger)\n",
              "    references: List of List of reference labels (Ground truth (correct) target values)\n",
              "    suffix: True if the IOB prefix is after type, False otherwise. default: False\n",
              "    scheme: Specify target tagging scheme. Should be one of [\"IOB1\", \"IOB2\", \"IOE1\", \"IOE2\", \"IOBES\", \"BILOU\"].\n",
              "        default: None\n",
              "    mode: Whether to count correct entity labels with incorrect I/B tags as true positives or not.\n",
              "        If you want to only count exact matches, pass mode=\"strict\". default: None.\n",
              "    sample_weight: Array-like of shape (n_samples,), weights for individual samples. default: None\n",
              "    zero_division: Which value to substitute as a metric value when encountering zero division. Should be on of 0, 1,\n",
              "        \"warn\". \"warn\" acts as 0, but the warning is raised.\n",
              "\n",
              "Returns:\n",
              "    'scores': dict. Summary of the scores for overall and per type\n",
              "        Overall:\n",
              "            'accuracy': accuracy,\n",
              "            'precision': precision,\n",
              "            'recall': recall,\n",
              "            'f1': F1 score, also known as balanced F-score or F-measure,\n",
              "        Per type:\n",
              "            'precision': precision,\n",
              "            'recall': recall,\n",
              "            'f1': F1 score, also known as balanced F-score or F-measure\n",
              "Examples:\n",
              "\n",
              "    >>> predictions = [['O', 'O', 'B-MISC', 'I-MISC', 'I-MISC', 'I-MISC', 'O'], ['B-PER', 'I-PER', 'O']]\n",
              "    >>> references = [['O', 'O', 'O', 'B-MISC', 'I-MISC', 'I-MISC', 'O'], ['B-PER', 'I-PER', 'O']]\n",
              "    >>> seqeval = datasets.load_metric(\"seqeval\")\n",
              "    >>> results = seqeval.compute(predictions=predictions, references=references)\n",
              "    >>> print(list(results.keys()))\n",
              "    ['MISC', 'PER', 'overall_precision', 'overall_recall', 'overall_f1', 'overall_accuracy']\n",
              "    >>> print(results[\"overall_f1\"])\n",
              "    0.5\n",
              "    >>> print(results[\"PER\"][\"f1\"])\n",
              "    1.0\n",
              "\"\"\", stored examples: 0)"
            ]
          },
          "metadata": {},
          "execution_count": 30
        }
      ]
    },
    {
      "cell_type": "code",
      "source": [
        ""
      ],
      "metadata": {
        "id": "d5jtgt7Jygle"
      },
      "execution_count": null,
      "outputs": []
    },
    {
      "cell_type": "markdown",
      "source": [
        "## **BERT base model with CRF head**\n",
        "\n",
        "Pretrained model on English language using a masked language modeling (MLM) objective. It was introduced in\n",
        "[this paper](https://arxiv.org/abs/1810.04805) and first released in\n",
        "[this repository](https://github.com/google-research/bert). \n",
        "\n",
        "\n",
        "**In summary:**\n",
        "\n",
        "\n",
        "\n",
        "However, it is still interesting to estimate the impact of case on the final classification quality, therefore, we will **compare these two options.**\n"
      ],
      "metadata": {
        "id": "NytM6AhNtuXq"
      }
    },
    {
      "cell_type": "code",
      "source": [
        "# from sklearn_crfsuite import CRF\n",
        "from allennlp.modules import ConditionalRandomField\n",
        "from allennlp.modules.conditional_random_field import allowed_transitions"
      ],
      "metadata": {
        "id": "KJ5AL0BHx7Es"
      },
      "execution_count": 95,
      "outputs": []
    },
    {
      "cell_type": "code",
      "source": [
        "# Select model checkpoint\n",
        "# Options: \n",
        "# BERT base = {bert-base-cased, bert-base-uncased}\n",
        "\n",
        "model_name = \"bert-base-cased\""
      ],
      "metadata": {
        "id": "dbaqgjWtVTly"
      },
      "execution_count": 96,
      "outputs": []
    },
    {
      "cell_type": "markdown",
      "source": [
        "### Model Definition"
      ],
      "metadata": {
        "id": "MwT_dXwmX7Yt"
      }
    },
    {
      "cell_type": "code",
      "source": [
        "class NER_Transformer_CRF(pl.LightningModule):\n",
        "    def __init__(self, model_name: str,\n",
        "                 pretrained_dir: Union[str, Path] = '',\n",
        "                 train_data: List[TextData] = None, \n",
        "                 val_data: List[TextData] = None, pad_token_id: int = 0,\n",
        "                 lr: float = 1e-5, dropout_rate: float = 0.1,\n",
        "                 batch_size: int = 16, num_devices: int = 1,\n",
        "                 label2id: Dict[str, int] = None, tagging_scheme: str = \"IOB2\",\n",
        "                 stage: str = 'fit'):\n",
        "        super(NER_Transformer_CRF, self).__init__()\n",
        "\n",
        "        # Configure mappings & params\n",
        "        self._id2label = {v: k for k, v in label2id.items()}\n",
        "        self._label2id = label2id\n",
        "        self._num_labels = len(self._id2label)\n",
        "        self._tagging_scheme = tagging_scheme\n",
        "\n",
        "        # Setup model\n",
        "        # stage – either 'fit', 'validate', 'test', or 'predict'\n",
        "        self._stage = stage\n",
        "        self._model_name = model_name\n",
        "        self._model = self.__setup_model(model_name, pretrained_dir)\n",
        "        self._feedforward = torch.nn.Linear(in_features=self._model.config.hidden_size, \n",
        "                                            out_features=self._num_labels)\n",
        "        self._dropout_layer = torch.nn.Dropout(dropout_rate)\n",
        "        self._crf_layer = ConditionalRandomField(num_tags=self._num_labels,\n",
        "                                                constraints=allowed_transitions(constraint_type='BIO', #  \"BIO\"\n",
        "                                                                                labels=self._id2label))\n",
        "\n",
        "        # Setup dataloaders\n",
        "        self._train_data = train_data\n",
        "        self._val_data = val_data\n",
        "        self._batch_size = batch_size\n",
        "        self._pad_token_id = pad_token_id\n",
        "\n",
        "        # Setup training utils\n",
        "        self._num_devices = num_devices\n",
        "        self._base_lr = lr\n",
        "        self._dropout_rate = dropout_rate\n",
        "\n",
        "        # Setup metrics\n",
        "        # Token-wise\n",
        "        self._loss_fn = torch.nn.CrossEntropyLoss()\n",
        "        self._seqeval_metric = datasets.load_metric(\"seqeval\")\n",
        "        # self._span_f1 = TODO\n",
        "\n",
        "        # Save hyperparams\n",
        "        self.save_hyperparameters('pad_token_id', 'model_name', 'tagging_scheme',\n",
        "                                  'label2id', 'batch_size', 'lr', 'dropout_rate')\n",
        "\n",
        "    def __setup_model(self, model_name: str,\n",
        "                 pretrained_dir: Union[str, Path] = ''):\n",
        "        \"\"\" \n",
        "        Load and setup models checkpoint form HuggingFace hub or local storage. \n",
        "        \"\"\"\n",
        "        if len(str(pretrained_dir)):\n",
        "            if type(pretrained_dir) == str:\n",
        "                pretrained_dir = Path(pretrained_dir)\n",
        "            if not pretrained_dir.exists():\n",
        "                logging.error(f\"Error: Directory with pre-trained model was not found by path: {pretrained_dir}\")\n",
        "                raise FileNotFoundError(f\"Error: Directory with pre-trained model was not found by path: {pretrained_dir}\")\n",
        "            model_name = str(pretrained_dir / model_name)\n",
        "        # Load with addional config? \n",
        "        # i.e. config = AutoConfig.from_pretrained(model_name)\n",
        "        logging.info(f\"Loading model from {model_name}...\")\n",
        "        return AutoModel.from_pretrained(model_name, return_dict=True)\n",
        "        \n",
        "    def collate_batch(self, batch, pad_token_id = 0, o_id = labels_to_ids['O']):\n",
        "        \"\"\"\n",
        "        The function to pass as the `collate_fn` argument to DataLoader.\n",
        "        It is used to collate lists of samples into batches.\n",
        "        \"\"\"\n",
        "        # Unzip batch items\n",
        "        tokens = [b['input_ids'] for b in batch]\n",
        "        masks = [b['attention_mask'] for b in batch]\n",
        "        tokens_masks = [b['tokens_mask'] for b in batch]\n",
        "        tags = [b['ner_labels'] for b in batch] \n",
        "        spans = [b['spans'] for b in batch]\n",
        "\n",
        "        # Pad tensors to single seq_len\n",
        "        max_len = max([len(token) for token in tokens])\n",
        "        token_tensor = torch.empty(size=(len(tokens), max_len), dtype=torch.long).fill_(pad_token_id)\n",
        "        tag_tensor = torch.empty(size=(len(tokens), max_len), dtype=torch.long).fill_(o_id)\n",
        "        mask_tensor = torch.zeros(size=(len(tokens), max_len), dtype=torch.int)\n",
        "        tokens_mask_tensor = torch.zeros(size=(len(tokens), max_len), dtype=torch.int)\n",
        "\n",
        "        for i in range(len(tokens)):\n",
        "            tokens_ = tokens[i]\n",
        "            seq_len = len(tokens_)\n",
        "\n",
        "            token_tensor[i, :seq_len] = tokens_\n",
        "            tag_tensor[i, :seq_len] = tags[i]\n",
        "            mask_tensor[i, :seq_len] = masks[i]\n",
        "            tokens_mask_tensor[i, :seq_len] = tokens_masks[i]\n",
        "            \n",
        "        return {\"input_ids\": token_tensor,\n",
        "                \"labels\": tag_tensor,\n",
        "                \"attention_mask\": mask_tensor,\n",
        "                \"tokens_mask\": tokens_mask_tensor,\n",
        "                \"spans\": spans}\n",
        "\n",
        "    def train_dataloader(self):\n",
        "        \"\"\"\n",
        "        Implement one or more PyTorch DataLoaders for training.\n",
        "        \"\"\" \n",
        "        if (self._stage == 'fit') and (self._train_data is None):\n",
        "            logging.error(f\"Training stage selected, but no training data passed!\")\n",
        "            raise AttributeError(f\"Training stage selected, but no training data passed!\")\n",
        "            \n",
        "        elif self._stage == 'fit':\n",
        "            logging.info(f\"Training stage selected.\")\n",
        "            logging.info(f\"Creating training dataloader...\")\n",
        "            train_dataset = NERDataset(model_name=self._model_name,\n",
        "                                       label_propagation_type='first')\n",
        "            train_dataset = train_dataset.set_dataset(self._train_data,\n",
        "                                                      self._label2id)\n",
        "            train_loader = DataLoader(train_dataset, \n",
        "                                      batch_size=self._batch_size, \n",
        "                                      collate_fn=self.collate_batch,\n",
        "                                      num_workers=0)\n",
        "            logging.info(f\"Training dataloader created.\")\n",
        "            return train_loader\n",
        "        else:\n",
        "            return None\n",
        "\n",
        "    def val_dataloader(self):\n",
        "        \"\"\"\n",
        "        Implement one or multiple PyTorch DataLoaders for validation.\n",
        "        \"\"\"\n",
        "        if self._val_data is not None:\n",
        "            logging.info(f\"Creating validation dataloader...\")\n",
        "            val_dataset = NERDataset(model_name=self._model_name,\n",
        "                                    label_propagation_type='first')\n",
        "            val_dataset = val_dataset.set_dataset(self._val_data,\n",
        "                                                    self._label2id)\n",
        "            val_loader = DataLoader(val_dataset, \n",
        "                                    batch_size=self._batch_size, \n",
        "                                    collate_fn=self.collate_batch,\n",
        "                                    num_workers=0)\n",
        "            logging.info(f\"Validation dataloader created.\")\n",
        "            return val_loader\n",
        "        return None\n",
        "        \n",
        "    def configure_optimizers(self):\n",
        "        \"\"\"\n",
        "        Create optimizer and learning rate scheduler.\n",
        "        \"\"\"\n",
        "        optimizer = torch.optim.AdamW(self.parameters(), \n",
        "                                        lr=self._base_lr, \n",
        "                                        weight_decay=0.01)\n",
        "        if self._stage == 'fit':\n",
        "            # Calculate total steps\n",
        "            train_batches = len(self._train_data) // (self._batch_size * self._num_devices)\n",
        "            total_steps = 50 * train_batches\n",
        "            warmup_steps = int(total_steps * 0.01)\n",
        "            scheduler = transformers.get_linear_schedule_with_warmup(optimizer,\n",
        "                                                                     num_warmup_steps=warmup_steps, \n",
        "                                                                     num_training_steps=total_steps)\n",
        "            scheduler = {\n",
        "                'scheduler': scheduler,  # REQUIRED: The scheduler instance\n",
        "                'interval': 'step',\n",
        "                'frequency': 1,\n",
        "                \"monitor\": \"val_loss\",\n",
        "                \"strict\": False\n",
        "            }\n",
        "            return [optimizer], [scheduler]\n",
        "        return [optimizer], [None]\n",
        "\n",
        "    def log_metrics(self, metrics_results: Dict[str, float], \n",
        "                    loss: float = 0.0, suffix: str = '', \n",
        "                    on_step: bool = False, on_epoch: bool = True):\n",
        "        \"\"\"\n",
        "        To log metrics.\n",
        "        metrics_results - dict of key = metric name, val = value of metric;\n",
        "        \"\"\"\n",
        "        for key, val in metrics_results.items():\n",
        "            if type(val) != dict:\n",
        "                # overall metrics\n",
        "                self.log(f\"{suffix}_{key}\", val, \n",
        "                        on_step=on_step,  # logs at this step\n",
        "                        on_epoch=on_epoch,  # logs epoch accumulated metrics.\n",
        "                        prog_bar=True,  # logs to the progress bar.\n",
        "                        logger=True)  # logs to the logger\n",
        "            else:\n",
        "                # for each type of NE select f1 score\n",
        "                for k, v in val.items():\n",
        "                    if k == 'f1':\n",
        "                        self.log(f\"{suffix}_{key}_{k}\", v, \n",
        "                            on_step=on_step,  # logs at this step\n",
        "                            on_epoch=on_epoch,  # logs epoch accumulated metrics.\n",
        "                            prog_bar=True,  # logs to the progress bar.\n",
        "                            logger=True)  # logs to the logger\n",
        "        # log loss\n",
        "        self.log(f\"{suffix}_loss\", loss, on_step=on_step, \n",
        "                 on_epoch=on_epoch, prog_bar=True, logger=True)\n",
        "        \n",
        "    def compute_tagwise_metrics(self, predictions: List[int],\n",
        "                                true_labels: torch.Tensor) -> Dict[str, Any]:\n",
        "        predictions_tags = [[self._id2label.get(tag) for tag in tags] for tags in predictions]\n",
        "        true_tags = [[self._id2label.get(tag) for tag in tags] for tags in true_labels]\n",
        "        results = self._seqeval_metric.compute(predictions=predictions_tags, \n",
        "                                               references=true_tags,\n",
        "                                               scheme=self._tagging_scheme, \n",
        "                                               zero_division=0)\n",
        "        return results\n",
        "\n",
        "    def perform_forward_step(self, batch, mode=''):\n",
        "        \"\"\"\n",
        "        Run forward pass, equals to nn.Module.forward()\n",
        "        \"\"\"\n",
        "        tokens = batch['input_ids']  # of size: [batch_size, max_seq_len]\n",
        "        labels = batch['labels']  # of size: [batch_size, max_seq_len]\n",
        "        mask = batch['attention_mask']  # of size: [batch_size, max_seq_len]\n",
        "        tokens_mask = batch['tokens_mask']  # of size: [batch_size, max_seq_len]\n",
        "        spans = batch['spans']  # list of dicts\n",
        "        batch_size = tokens.size(0)\n",
        "\n",
        "        outputs = self._model(input_ids=tokens, \n",
        "                              attention_mask=mask)\n",
        "        \n",
        "        # Sequence of hidden-states at the output of the last layer of the model.\n",
        "        # * last_hidden_state - (batch_size, sequence_length, hidden_size)\n",
        "        outputs = outputs.last_hidden_state\n",
        "        outputs = self._dropout_layer(F.leaky_relu(outputs))\n",
        "\n",
        "        # project the token representation for classification\n",
        "        token_scores = self._feedforward(outputs)\n",
        "        token_scores = F.log_softmax(token_scores, dim=-1)\n",
        "\n",
        "        # compute the log-likelihood loss and compute the best NER annotation sequence\n",
        "        output = self._compute_crf(token_scores=token_scores, token_mask=tokens_mask, \n",
        "                                   tags=labels, spans=spans, \n",
        "                                   batch_size=batch_size, mode=mode)\n",
        "\n",
        "        output[\"results\"] = self.compute_tagwise_metrics(output.get('predictions'),\n",
        "                                                         output.get('true_tags'))                                                  \n",
        "        return output\n",
        "\n",
        "    def _compute_crf(self, token_scores, tags, token_mask, spans, \n",
        "                    batch_size: int, mode: str = ''):\n",
        "        \"\"\"\n",
        "        Compute the log-likelihood loss and compute the best NER annotation sequence.\n",
        "        Uses viterbi algorithm to find most likely tags for the given inputs.\n",
        "        \"\"\"\n",
        "        if mode != 'predict':\n",
        "            loss = -self._crf_layer(token_scores, tags, token_mask) / float(batch_size)\n",
        "\n",
        "        # Returns a list of results, of the same size as the batch (one result per batch member) \n",
        "        # Each result is a List of length top_k, containing the top K viterbi decodings \n",
        "        # Each decoding is a tuple (tag_sequence, viterbi_score)\n",
        "        best_path = self._crf_layer.viterbi_tags(token_scores, token_mask)\n",
        "\n",
        "        tags = tags.cpu().numpy()\n",
        "        token_mask = token_mask.cpu()\n",
        "        true_tags, pred_tags = [], []\n",
        "        for i in range(batch_size):\n",
        "            tag_seq, _ = best_path[i]\n",
        "            # May be decode: [self._id2label.get(x) for x in tag_seq]\n",
        "            pred_tags.append(tag_seq)\n",
        "            true_tags.append([tag for tag, masked in zip(tags[i], \n",
        "                                                         token_mask[i]) if masked != 0])\n",
        "\n",
        "        output = {\"loss\": loss if mode != 'predict' else 0.0, \n",
        "                  'predictions': pred_tags,\n",
        "                  'true_tags': true_tags}\n",
        "                  \n",
        "        return output\n",
        "\n",
        "\n",
        "    def training_step(self, batch, batch_idx):\n",
        "        \"\"\"\n",
        "        Compute and return the training loss and some additional metrics.\n",
        "        \"\"\"\n",
        "        output = self.perform_forward_step(batch)\n",
        "        # Count metrics\n",
        "        # logs metrics for each training_step\n",
        "        self.log_metrics(output['results'], loss=output['loss'], \n",
        "                         suffix='train', on_step=False, on_epoch=True)\n",
        "        return output\n",
        "\n",
        "    def validation_step(self, batch, batch_idx):\n",
        "        output = self.perform_forward_step(batch)\n",
        "        self.log_metrics(output['results'], loss=output['loss'], \n",
        "                         suffix='val', on_step=False, on_epoch=True)\n",
        "        return output\n",
        "\n",
        "    def test_step(self, batch, batch_idx):\n",
        "        output = self.perform_forward_step(batch)\n",
        "        self.log_metrics(output['results'], loss=output['loss'], \n",
        "                         suffix='val', on_step=False, on_epoch=True)\n",
        "        return output\n",
        "\n",
        "    def decode_results(self, tokens, tags, tokenizer: tokenizers.Tokenizer):\n",
        "        \"\"\"\n",
        "        Convert tokens ids to tokens itself \n",
        "        and predicted lables ids to human readable format.\n",
        "        Skip and cropp special tokens such as [CLS] and [SEP].\n",
        "        \"\"\"\n",
        "        tokens_decoded = []\n",
        "        tags_decoded = []\n",
        "        for tok_seq, tag_seq in zip(tokens, tags):\n",
        "            if tokenizer is not None:\n",
        "                tok_seq = tokenizer.convert_ids_to_tokens(tok_seq)\n",
        "            tok_seq = tok_seq[1:]\n",
        "            tag_seq = [self._id2label.get(tag) for tag in tag_seq][1:]\n",
        "            if len(tag_seq) != len(tag_seq):\n",
        "                logging.error(f\"During prediction sizes of tokens and appropriate tags do not match!\")\n",
        "                logging.error(f\"Tags: {len(tag_seq)} != Tokens: {len(tag_seq)}!\")\n",
        "                continue\n",
        "            # Filter [PAD] and other special tokens \n",
        "            res_toks, res_tags = [], []\n",
        "            for tok, tag in zip(tok_seq, tag_seq):\n",
        "                if tok in tokenizer.all_special_tokens:\n",
        "                    continue\n",
        "                res_toks.append(tok)\n",
        "                res_tags.append(tag)\n",
        "            \n",
        "            tokens_decoded.append(res_toks)\n",
        "            tags_decoded.append(res_tags)\n",
        "        return tokens_decoded, tags_decoded\n",
        "        \n",
        "\n",
        "    def predict_tags(self, batch, tokenizer: tokenizers.Tokenizer = None,\n",
        "                     mode='predict'):\n",
        "        \"\"\"\n",
        "        Predict tags for given sequences.\n",
        "        \"\"\"\n",
        "        tokens = batch['input_ids']  # of size: [batch_size, max_seq_len]\n",
        "        labels = torch.zeros_like(tokens) # FAKE of size: [batch_size, max_seq_len]\n",
        "        tokens_mask = batch['tokens_mask']  # of size: [batch_size, max_seq_len]\n",
        "        mask = batch['attention_mask']  # of size: [batch_size, max_seq_len]\n",
        "        spans = batch['spans']  # list of dicts\n",
        "        batch_size = batch['input_ids'].size(0)\n",
        "\n",
        "        outputs = self._model(input_ids=tokens, \n",
        "                              attention_mask=mask)\n",
        "        \n",
        "        # Sequence of hidden-states at the output of the last layer of the model.\n",
        "        # * last_hidden_state - (batch_size, sequence_length, hidden_size)\n",
        "        outputs = outputs.last_hidden_state\n",
        "        outputs = self._dropout_layer(F.leaky_relu(outputs))\n",
        "\n",
        "        # project the token representation for classification\n",
        "        token_scores = self._feedforward(outputs)\n",
        "        token_scores = F.log_softmax(token_scores, dim=-1)\n",
        "\n",
        "        # compute the log-likelihood loss and compute the best NER annotation sequence\n",
        "        output = self._compute_crf(token_scores=token_scores, \n",
        "                                   token_mask=tokens_mask, \n",
        "                                   tags=labels, spans=spans, \n",
        "                                   batch_size=batch_size, mode=mode)\n",
        "\n",
        "        token_results, tag_results = self.decode_results(tokens, \n",
        "                                                     output.get('predictions'), \n",
        "                                                     tokenizer=tokenizer)\n",
        "        return token_results, tag_results"
      ],
      "metadata": {
        "id": "_cQIJOQIKWum"
      },
      "execution_count": 97,
      "outputs": []
    },
    {
      "cell_type": "markdown",
      "source": [
        "### Training"
      ],
      "metadata": {
        "id": "Q0ACU9K9Rtkk"
      }
    },
    {
      "cell_type": "code",
      "source": [
        "# Configure training utils\n",
        "max_epochs = 100\n",
        "# http://localhost:6006/\n",
        "tb_logger = TensorBoardLogger(\"lightning_logs/\")\n",
        "\n",
        "# save epoch and val_loss in name\n",
        "# saves a file like: my/path/sample-mnist-epoch=02-val_loss=0.32.ckpt\n",
        "checkpoint_callback = ModelCheckpoint(monitor='val_loss', \n",
        "                                      dirpath=str(MODEL_CHKP_DIR),\n",
        "                                      filename=model_name + '_crf' + '-{epoch:02d}-{val_loss:.2f}')\n",
        "callbacks = [checkpoint_callback,\n",
        "             EarlyStopping(monitor=\"val_loss\", mode='min', patience=3)\n",
        "             ]"
      ],
      "metadata": {
        "id": "6y0dC6jix7Hm"
      },
      "execution_count": 98,
      "outputs": []
    },
    {
      "cell_type": "code",
      "source": [
        "ner_model = NER_Transformer_CRF(model_name, train_data=train_data,\n",
        "                                val_data=val_data, pad_token_id=0,\n",
        "                                batch_size=16, label2id=labels_to_ids,\n",
        "                                tagging_scheme='IOB2', stage='fit')"
      ],
      "metadata": {
        "colab": {
          "base_uri": "https://localhost:8080/"
        },
        "id": "VJJc1MOmyJyY",
        "outputId": "69238cdf-3532-49ea-d087-4e5e301ba6f1"
      },
      "execution_count": 99,
      "outputs": [
        {
          "output_type": "stream",
          "name": "stderr",
          "text": [
            "INFO: Loading model from bert-base-cased...\n"
          ]
        }
      ]
    },
    {
      "cell_type": "code",
      "source": [
        "# default used by Trainer, saves the most recent model to a single checkpoint after each epoch\n",
        "# enable_checkpointing=True\n",
        "\n",
        "trainer = pl.Trainer(#fast_dev_run=True,  # debug\n",
        "                    #  devices=1, \n",
        "                    #  accelerator=\"gpu\",\n",
        "                     gpus=1,\n",
        "                     auto_select_gpus=True,\n",
        "                    #  accelerator=\"gpu\",\n",
        "                     logger=tb_logger, callbacks=callbacks,\n",
        "                     max_epochs=max_epochs,\n",
        "                     deterministic=True)\n",
        "trainer.fit(ner_model)  # train_dataloader, val_dataloader"
      ],
      "metadata": {
        "id": "dQ3k6mHWe292",
        "colab": {
          "base_uri": "https://localhost:8080/",
          "height": 880,
          "referenced_widgets": [
            "be47df332586464a9b48a369d8b64f07",
            "c6eba450d3d742cdb5414717fc0ee163",
            "3c5c1a6d820845b7b030187c1587bff5",
            "a363cb49e51f484fa6657cb4d0b7f538",
            "49c2488c67fb4234bf1a5e91f513b580",
            "cbeadbae5e684720a081d53d5889c3b6",
            "db90c024ac7b4658a18fc012a1d04354",
            "31ece5f269b444c38c1989ed26413fac",
            "770b11efa92f4ef9b2eb2090085a4864",
            "33bb751a3f5243f8afdd3cd9e69ac6b9",
            "b9b801d87de54850af3e1bb3bfb0657b",
            "6a6770432df24856ade15bb9a619dbe8",
            "27fc49713b33450c88d0bde6350d6efd",
            "ac1746dfb3164887b249b37723fadcb4",
            "0496f554375f447bbf3ac52348ca0250",
            "1cc8f4163b364ade828dd9a28751b57b",
            "646ac7a885fc4a96b54b9b7deb95f8c5",
            "1afed79184214526b8c21cc2cdfe56ea",
            "526b0bb2e0194f79a9f4b6417c968c6d",
            "9cc5d5d5cb534e41affcb1f70ea1d2b5",
            "7fb0c255fe284295bf1cb8a26740d4e6",
            "db06d2a6ddb4482c8064404df226ad7e",
            "5be4cd16a7134e8fab4b35fbadd39096",
            "3af3bd275e2d4fe496027f67e90103a8",
            "3a11dd3d1d684b05862a5ab02fc09e8c",
            "8c7a778a20374d20ad3e59f822798bfb",
            "3c3c880dfb744801bfd7ba0dde13621e",
            "fe1a494e64a441859303c38c49b43088",
            "c343251554f949b88462f6fcdfd2549b",
            "4d878d935639402d844ec547750c1f1b",
            "541d6c7e1dd343909414f9ea56d42574",
            "4c21b794e6d641b9aa1e790fdf9dc054",
            "249ba55b766b4f07ba79cdbe78b31a02",
            "a3dcd187365347688bde7b72adba5c5e",
            "39b38f90a29d4d9c9ec45ee2ba9e0a92",
            "6cbae9b16f2d4712afb3297084195024",
            "d60ec5cd31144877b3ba1417c51c13e0",
            "5477d9fef802486c9c402cab81441fbf",
            "74358c02d0474c3b8987394375731461",
            "b4eec583971343d8934dacc7f40d0eb5",
            "84b1b229e391411fbbabe0a986ba305f",
            "fba156dac92c4688af0a8e7bd1ffc79c",
            "0a62f166093547e5b0bb46fbfbb1f7e2",
            "18d4939a92d64710aa7e9aa249956404",
            "a332eeb143d34f5ea2c326bd55d3ef63",
            "a757c461820540f1b902dcf8d1a2fc05",
            "6b9751bfc6074e8aa0be9a10e6319f26",
            "8e0fc5a87cd64096b7a413792305c617",
            "5684bef93c2749629be5426f9525ecee",
            "d15fb6952ade4fcf81a4f7732d548722",
            "f720d6e356874097bc371810e0985d09",
            "784a5d6216474181befba57df2ce1484",
            "4405635618174e5bab444cf4757c4524",
            "9d18254826054fb6b42c8981dd0db113",
            "9dc90045e9bb485181cb802cd25f0969",
            "7e3219c979b24587938a8384bb4c8c7a",
            "d9b2233955e94c0896a0c9adb03925ac",
            "30e6cd71ed4e4361bb4d2b5d14ab8341",
            "f74fec54a6dd48c5aab420b0031c9f7e",
            "a1ebd26281ba4c44bc1318bada2d74cf",
            "783dde7a97624c34bb85d265b28e4142",
            "f5791801c5734862bfaf2bff8d5cab4c",
            "b6bdec1f1dbf4e4ba180d4568a8b8f96",
            "f3d6ede2e2e74cf686083d9cde68c9d6",
            "eba0819d2d7d4c3d8d08ae6d78470741",
            "714ed06151c242898bf00f2976cb3ed1",
            "0cec8ce92844401f9df57b3d33b633ea",
            "d939019b15284ab2afd1910216f96b94",
            "f78c8140157e4fa58cbe179660090066",
            "43cfe77660144e398ff615425310cfb8",
            "42f4f0c2181d4fe685579b5dd8fd0c5e",
            "d2edc375c25e46d79d71592507e0db82",
            "1ee5edcfebfb49dfa8452313371e88ea",
            "29990ad3dcf946389d5e0b8eeca87ab9",
            "91fb32a10bf44068925c61c3c237f227",
            "01bc1d0eac9c474db314d52bfa072948",
            "aecf85d631264da38bb558a290a6a1f4",
            "bac7ada11ae34d9195ee09ed518dc2ca",
            "84a809f788034cbe85cc2915e0f56e3f",
            "0e01486524a74c8a99e747ec54db6767",
            "acf55f97487d49528f7ad0405052cf33",
            "51bc572c9d26449c8c707a965f568106",
            "2ea6af3e4b2d4bc793814a0cee56ee2e",
            "a92cfb6285bb45af802b26037c13d5c8",
            "10a9b02161db4c95bead546029c3a828",
            "55f2ca9c6856488d861f2594d5e8fb84",
            "76051f0134e34faebef7c6bdaa5068a3",
            "2f5aad01a9e543f2a3186dd3f357ed0e",
            "68db903dafaa499684d766c986ef9a79",
            "2ba7779c222940669f3f09e25c381a0f",
            "9ffe186e16b84cf2bacb78fa3842d7a0",
            "b4b3e7a25fe24c11a069285b3808b496",
            "3eb8f766a67a4664a63397e20e07ec98",
            "0189b54a9dc1484eb5731991861f51e4",
            "b076094950894721bdd0dd018b41b1d4",
            "8608398adab141dda52b721d1f028dbc",
            "d15369fc9f9a49f0a3584fa41ea02390",
            "233b75897fe34e8aaaa2ec334d39f78f",
            "0f2bab403f0e43eeabe74ca1f20f2c20",
            "7c02f2b2640c43c0b819b2b02fe28ac6",
            "926d4b4599164821a8e0965bfe793e07",
            "69528271c9fa453e8d1499e0e7d33505",
            "564d2ba3adfd41b9bad5bdf513683933",
            "3dd9715dd7aa41aa88369112a4294f59",
            "167ac06639b84e49b82c96b172b0a142",
            "3afbfc2a5aea4723bc34da2857f5b250",
            "3633c94d64f141e9b0f2e11b64e22598",
            "7ef333c863f04ec5835baaf22765218f",
            "0afd481b80f5437a998cd667ddd6a33a",
            "e0545d814a334aa7a996a0cdbbc15181",
            "945ddd56884e4bdba20ec635cf7b8444",
            "544ed9c99f53460b828b1e9002b9f115",
            "8ca8d889657a41a9bcc2e7ff62ad6f59",
            "ef7a30d8acd64dc0a35c86051b42054c",
            "e9a18e8e25ad4a3b927a938d756051d0",
            "55710a8bd8be40e1af327f5ae4e70367",
            "9cf3ef20a7504d82b06b26ef204d2700",
            "8e07e7de97bf46b5a1166fc03581e736",
            "c99b1d00910e4fc992609f7f0f40178a",
            "42defeefdc30456ca1f0f13884bb0b55",
            "5a8f3519671b47bd82b7b7ebe1f4bbd4"
          ]
        },
        "outputId": "9037df61-6032-424a-fc30-eeabf23c9826"
      },
      "execution_count": 100,
      "outputs": [
        {
          "output_type": "stream",
          "name": "stderr",
          "text": [
            "GPU available: True, used: True\n",
            "INFO: GPU available: True, used: True\n",
            "TPU available: None, using: 0 TPU cores\n",
            "INFO: TPU available: None, using: 0 TPU cores\n",
            "INFO: LOCAL_RANK: 0 - CUDA_VISIBLE_DEVICES: [0]\n",
            "\n",
            "  | Name           | Type                   | Params\n",
            "----------------------------------------------------------\n",
            "0 | _model         | BertModel              | 108 M \n",
            "1 | _feedforward   | Linear                 | 6.9 K \n",
            "2 | _dropout_layer | Dropout                | 0     \n",
            "3 | _crf_layer     | ConditionalRandomField | 220   \n",
            "4 | _loss_fn       | CrossEntropyLoss       | 0     \n",
            "----------------------------------------------------------\n",
            "108 M     Trainable params\n",
            "121       Non-trainable params\n",
            "108 M     Total params\n",
            "433.270   Total estimated model params size (MB)\n",
            "INFO: \n",
            "  | Name           | Type                   | Params\n",
            "----------------------------------------------------------\n",
            "0 | _model         | BertModel              | 108 M \n",
            "1 | _feedforward   | Linear                 | 6.9 K \n",
            "2 | _dropout_layer | Dropout                | 0     \n",
            "3 | _crf_layer     | ConditionalRandomField | 220   \n",
            "4 | _loss_fn       | CrossEntropyLoss       | 0     \n",
            "----------------------------------------------------------\n",
            "108 M     Trainable params\n",
            "121       Non-trainable params\n",
            "108 M     Total params\n",
            "433.270   Total estimated model params size (MB)\n",
            "INFO: Creating validation dataloader...\n"
          ]
        },
        {
          "output_type": "stream",
          "name": "stdout",
          "text": [
            "Loading bert-base-cased model's tokenizer...\n"
          ]
        },
        {
          "output_type": "stream",
          "name": "stderr",
          "text": [
            "INFO: Validation dataloader created.\n"
          ]
        },
        {
          "output_type": "stream",
          "name": "stdout",
          "text": [
            "Finished data processing\n"
          ]
        },
        {
          "output_type": "display_data",
          "data": {
            "application/vnd.jupyter.widget-view+json": {
              "model_id": "be47df332586464a9b48a369d8b64f07",
              "version_minor": 0,
              "version_major": 2
            },
            "text/plain": [
              "Validation sanity check: 0it [00:00, ?it/s]"
            ]
          },
          "metadata": {}
        },
        {
          "output_type": "stream",
          "name": "stderr",
          "text": [
            "INFO: Training stage selected.\n",
            "INFO: Creating training dataloader...\n"
          ]
        },
        {
          "output_type": "stream",
          "name": "stdout",
          "text": [
            "Loading bert-base-cased model's tokenizer...\n"
          ]
        },
        {
          "output_type": "stream",
          "name": "stderr",
          "text": [
            "INFO: Training dataloader created.\n"
          ]
        },
        {
          "output_type": "stream",
          "name": "stdout",
          "text": [
            "Finished data processing\n"
          ]
        },
        {
          "output_type": "display_data",
          "data": {
            "application/vnd.jupyter.widget-view+json": {
              "model_id": "6a6770432df24856ade15bb9a619dbe8",
              "version_minor": 0,
              "version_major": 2
            },
            "text/plain": [
              "Training: 0it [00:00, ?it/s]"
            ]
          },
          "metadata": {}
        },
        {
          "output_type": "display_data",
          "data": {
            "application/vnd.jupyter.widget-view+json": {
              "model_id": "5be4cd16a7134e8fab4b35fbadd39096",
              "version_minor": 0,
              "version_major": 2
            },
            "text/plain": [
              "Validating: 0it [00:00, ?it/s]"
            ]
          },
          "metadata": {}
        },
        {
          "output_type": "display_data",
          "data": {
            "application/vnd.jupyter.widget-view+json": {
              "model_id": "a3dcd187365347688bde7b72adba5c5e",
              "version_minor": 0,
              "version_major": 2
            },
            "text/plain": [
              "Validating: 0it [00:00, ?it/s]"
            ]
          },
          "metadata": {}
        },
        {
          "output_type": "display_data",
          "data": {
            "application/vnd.jupyter.widget-view+json": {
              "model_id": "a332eeb143d34f5ea2c326bd55d3ef63",
              "version_minor": 0,
              "version_major": 2
            },
            "text/plain": [
              "Validating: 0it [00:00, ?it/s]"
            ]
          },
          "metadata": {}
        },
        {
          "output_type": "display_data",
          "data": {
            "application/vnd.jupyter.widget-view+json": {
              "model_id": "7e3219c979b24587938a8384bb4c8c7a",
              "version_minor": 0,
              "version_major": 2
            },
            "text/plain": [
              "Validating: 0it [00:00, ?it/s]"
            ]
          },
          "metadata": {}
        },
        {
          "output_type": "display_data",
          "data": {
            "application/vnd.jupyter.widget-view+json": {
              "model_id": "0cec8ce92844401f9df57b3d33b633ea",
              "version_minor": 0,
              "version_major": 2
            },
            "text/plain": [
              "Validating: 0it [00:00, ?it/s]"
            ]
          },
          "metadata": {}
        },
        {
          "output_type": "display_data",
          "data": {
            "application/vnd.jupyter.widget-view+json": {
              "model_id": "bac7ada11ae34d9195ee09ed518dc2ca",
              "version_minor": 0,
              "version_major": 2
            },
            "text/plain": [
              "Validating: 0it [00:00, ?it/s]"
            ]
          },
          "metadata": {}
        },
        {
          "output_type": "display_data",
          "data": {
            "application/vnd.jupyter.widget-view+json": {
              "model_id": "68db903dafaa499684d766c986ef9a79",
              "version_minor": 0,
              "version_major": 2
            },
            "text/plain": [
              "Validating: 0it [00:00, ?it/s]"
            ]
          },
          "metadata": {}
        },
        {
          "output_type": "display_data",
          "data": {
            "application/vnd.jupyter.widget-view+json": {
              "model_id": "7c02f2b2640c43c0b819b2b02fe28ac6",
              "version_minor": 0,
              "version_major": 2
            },
            "text/plain": [
              "Validating: 0it [00:00, ?it/s]"
            ]
          },
          "metadata": {}
        },
        {
          "output_type": "display_data",
          "data": {
            "application/vnd.jupyter.widget-view+json": {
              "model_id": "945ddd56884e4bdba20ec635cf7b8444",
              "version_minor": 0,
              "version_major": 2
            },
            "text/plain": [
              "Validating: 0it [00:00, ?it/s]"
            ]
          },
          "metadata": {}
        },
        {
          "output_type": "execute_result",
          "data": {
            "text/plain": [
              "1"
            ]
          },
          "metadata": {},
          "execution_count": 100
        }
      ]
    },
    {
      "cell_type": "code",
      "source": [
        "# %load_ext tensorboard\n",
        "# %tensorboard --logdir /content/lightning_logs/"
      ],
      "metadata": {
        "id": "84mZgJsYe3KX"
      },
      "execution_count": 101,
      "outputs": []
    },
    {
      "cell_type": "code",
      "source": [
        "list(MODEL_CHKP_DIR.glob(\"*\"))"
      ],
      "metadata": {
        "id": "p33iqaP5e3NI",
        "colab": {
          "base_uri": "https://localhost:8080/"
        },
        "outputId": "1097d26d-ac50-46bf-dbf7-6eb7a0462a3a"
      },
      "execution_count": 102,
      "outputs": [
        {
          "output_type": "execute_result",
          "data": {
            "text/plain": [
              "[PosixPath('/content/drive/MyDrive/DS Data&Notebooks/AutoNER-TestTask/models/bert-base-cased-epoch=03-val_loss=0.02-v1.ckpt'),\n",
              " PosixPath('/content/drive/MyDrive/DS Data&Notebooks/AutoNER-TestTask/models/bert-base-uncased-epoch=04-val_loss=0.02.ckpt'),\n",
              " PosixPath('/content/drive/MyDrive/DS Data&Notebooks/AutoNER-TestTask/models/bert-base-cased-epoch=04-val_loss=-0.14.ckpt'),\n",
              " PosixPath('/content/drive/MyDrive/DS Data&Notebooks/AutoNER-TestTask/models/bert-base-cased_crf-epoch=05-val_loss=-0.13.ckpt')]"
            ]
          },
          "metadata": {},
          "execution_count": 102
        }
      ]
    },
    {
      "cell_type": "markdown",
      "source": [
        "### Testing\n",
        "\n",
        "CoNLL2003 Dataset also contains **test data** samples (named as file: `eng.testb`). Thus we can measure and compare the preformance of models on this dataset part.\n",
        "\n",
        "Here some minority input data pre-processing and post-processing of models outputs is required:\n",
        "*   If the token length is > the max length this function splits it into mutiple list of specified smaller max_length.\n",
        "*   After receiving word-piece tokenized input words (tokens) and model's predicted tags it is needed to connect the parts of tokens together into words with their corresponding tags.\n",
        "\n"
      ],
      "metadata": {
        "id": "xHKtKSp7sXV6"
      }
    },
    {
      "cell_type": "code",
      "source": [
        "# Load test dataset\n",
        "test_fn = DATA_DIR / \"eng.testb\"\n",
        "test_data = read_conllu_data(str(test_fn))\n",
        "\n",
        "print(f\"Test data contains: {len(test_data)} texts and total {sum([len(d.tokens) for d in test_data])} tokens\")"
      ],
      "metadata": {
        "id": "Cij3LJoCICaF",
        "colab": {
          "base_uri": "https://localhost:8080/"
        },
        "outputId": "dd09de51-686c-4598-f7f8-952f216c23a9"
      },
      "execution_count": 103,
      "outputs": [
        {
          "output_type": "stream",
          "name": "stdout",
          "text": [
            "Test data contains: 3453 texts and total 46435 tokens\n"
          ]
        }
      ]
    },
    {
      "cell_type": "code",
      "source": [
        "# Conver tagging\n",
        "for d in tqdm(test_data):\n",
        "    d.ner_tags = convert_to_IOB2(d.ner_tags)\n",
        "\n",
        "print(f\"\\nConverted:\")\n",
        "print(test_data[3].ner_tags)"
      ],
      "metadata": {
        "colab": {
          "base_uri": "https://localhost:8080/"
        },
        "id": "KuBZkS-9JAhc",
        "outputId": "03bc1032-2c8d-4e4c-c678-18697f86b6fa"
      },
      "execution_count": 104,
      "outputs": [
        {
          "output_type": "stream",
          "name": "stderr",
          "text": [
            "100%|██████████| 3453/3453 [00:00<00:00, 152037.41it/s]"
          ]
        },
        {
          "output_type": "stream",
          "name": "stdout",
          "text": [
            "\n",
            "Converted:\n",
            "['B-LOC', 'O', 'O', 'O', 'O', 'O', 'B-MISC', 'I-MISC', 'O', 'O', 'O', 'O', 'O', 'O', 'O', 'B-LOC', 'O', 'O', 'O', 'O', 'O', 'O', 'O', 'O', 'O']\n"
          ]
        },
        {
          "output_type": "stream",
          "name": "stderr",
          "text": [
            "\n"
          ]
        }
      ]
    },
    {
      "cell_type": "code",
      "source": [
        "%%time\n",
        "test_dataset = NERDataset(model_name=model_name,\n",
        "                           label_propagation_type='first').set_dataset(test_data,\n",
        "                                                                       labels_to_ids)\n",
        "\n",
        "test_loader = DataLoader(test_dataset, batch_size=16, \n",
        "                        collate_fn=collate_batch, num_workers=0)"
      ],
      "metadata": {
        "colab": {
          "base_uri": "https://localhost:8080/"
        },
        "id": "D8-fCvTqbGYS",
        "outputId": "39edfb23-f11c-447c-c7b0-e3e2bda7f8dc"
      },
      "execution_count": 105,
      "outputs": [
        {
          "output_type": "stream",
          "name": "stdout",
          "text": [
            "Loading bert-base-cased model's tokenizer...\n",
            "Finished data processing\n",
            "CPU times: user 1.15 s, sys: 15.2 ms, total: 1.16 s\n",
            "Wall time: 2.71 s\n"
          ]
        }
      ]
    },
    {
      "cell_type": "code",
      "source": [
        "# Available checkpoints\n",
        "# Select required by its serial number (i.e. #i)\n",
        "available_checkpoints = list(MODEL_CHKP_DIR.glob(\"*.ckpt\"))\n",
        "for i, fn in enumerate(available_checkpoints):\n",
        "    print(f\"#{i}: {fn.name}\")"
      ],
      "metadata": {
        "colab": {
          "base_uri": "https://localhost:8080/"
        },
        "id": "V4pV7LMn1POS",
        "outputId": "111186fc-b4ed-4e9c-ff3d-804f23d984e7"
      },
      "execution_count": 106,
      "outputs": [
        {
          "output_type": "stream",
          "name": "stdout",
          "text": [
            "#0: bert-base-cased-epoch=03-val_loss=0.02-v1.ckpt\n",
            "#1: bert-base-uncased-epoch=04-val_loss=0.02.ckpt\n",
            "#2: bert-base-cased-epoch=04-val_loss=-0.14.ckpt\n",
            "#3: bert-base-cased_crf-epoch=05-val_loss=-0.13.ckpt\n"
          ]
        }
      ]
    },
    {
      "cell_type": "code",
      "source": [
        "# Restore model from checkpoint\n",
        "ner_model = NER_Transformer_CRF.load_from_checkpoint(checkpoint_path=available_checkpoints[3])"
      ],
      "metadata": {
        "colab": {
          "base_uri": "https://localhost:8080/"
        },
        "id": "8zfVDWO7x7Bq",
        "outputId": "dba6ae3a-3b6f-4cdd-fb11-bce6b9cbb2e8"
      },
      "execution_count": 107,
      "outputs": [
        {
          "output_type": "stream",
          "name": "stderr",
          "text": [
            "INFO: Loading model from bert-base-cased...\n"
          ]
        }
      ]
    },
    {
      "cell_type": "markdown",
      "source": [
        "##### Estimate overall quality"
      ],
      "metadata": {
        "id": "KdNsW8LA5aFU"
      }
    },
    {
      "cell_type": "code",
      "source": [
        "trainer = Trainer()\n",
        "trainer.test(ner_model, test_dataloaders=test_loader)"
      ],
      "metadata": {
        "id": "0mvnC6YcagD6"
      },
      "execution_count": null,
      "outputs": []
    },
    {
      "cell_type": "markdown",
      "source": [
        "##### Get tags for test data and analyse"
      ],
      "metadata": {
        "id": "msBzkjXM5fB5"
      }
    },
    {
      "cell_type": "code",
      "source": [
        "def decode(tokens, tags, labels = None, \n",
        "           start_token_pattern='##'):\n",
        "    token_results, tag_results = [], []\n",
        "    labels_results = []\n",
        "    index = 0\n",
        "    \n",
        "    if labels is None:\n",
        "        no_labels = True\n",
        "        labels = [[0] * len(tokens[0])] * len(tokens)\n",
        "    else:\n",
        "        no_labels = False\n",
        "        labels = labels[1:]  # first id [CLS]\n",
        "    for token, tag, label in zip(tokens, tags, labels):\n",
        "        if token.startswith(start_token_pattern) and len(token_results):\n",
        "            token_base = token_results.pop(-1)\n",
        "            token_results.append(\"\".join([token_base, token.replace(start_token_pattern, '')]))\n",
        "        else:\n",
        "            token_results.append(token)\n",
        "            tag_results.append(tag)\n",
        "            labels_results.append(label)\n",
        "    if not no_labels:\n",
        "         return token_results, tag_results, labels_results\n",
        "    return token_results, tag_results"
      ],
      "metadata": {
        "id": "xgmLczg4l2ES"
      },
      "execution_count": 115,
      "outputs": []
    },
    {
      "cell_type": "code",
      "source": [
        "%%time\n",
        "test_tokens_seqs = []\n",
        "test_tags_seqs = []\n",
        "test_labels_seqs = []\n",
        "\n",
        "for batch_i, batch in enumerate(test_loader):\n",
        "    if batch_i > 3:\n",
        "        break\n",
        "    token_results, tag_results = ner_model.predict_tags(batch, tokenizer=test_dataset._tokenizer)\n",
        "    test_tokens_seqs.append(token_results)\n",
        "    test_tags_seqs.append(tag_results)\n",
        "    test_labels_seqs.append(batch['labels'].numpy())"
      ],
      "metadata": {
        "colab": {
          "base_uri": "https://localhost:8080/"
        },
        "id": "jhEzureZYzv8",
        "outputId": "fabc3388-ce33-4675-e180-821b6b0f9b26"
      },
      "execution_count": 113,
      "outputs": [
        {
          "output_type": "stream",
          "name": "stdout",
          "text": [
            "CPU times: user 13.3 s, sys: 961 ms, total: 14.3 s\n",
            "Wall time: 15.2 s\n"
          ]
        }
      ]
    },
    {
      "cell_type": "code",
      "source": [
        "res_tokens, res_tags, res_labels = decode(test_tokens_seqs[3][0], test_tags_seqs[3][0], test_labels_seqs[3][0])\n",
        "\n",
        "for tok, tag, label in zip(res_tokens, res_tags, res_labels):\n",
        "    print(f\"{tag} - {tok} - {ids_to_labels.get(label)}\")"
      ],
      "metadata": {
        "colab": {
          "base_uri": "https://localhost:8080/"
        },
        "id": "uySGHskDl2G8",
        "outputId": "435f3948-505b-4a93-bb48-5e78c3fe390c"
      },
      "execution_count": 119,
      "outputs": [
        {
          "output_type": "stream",
          "name": "stdout",
          "text": [
            "O - FREESTYLE - O\n"
          ]
        }
      ]
    },
    {
      "cell_type": "code",
      "source": [
        ""
      ],
      "metadata": {
        "id": "CGYHTiXiagKr"
      },
      "execution_count": null,
      "outputs": []
    },
    {
      "cell_type": "code",
      "source": [
        ""
      ],
      "metadata": {
        "id": "9YnNt3fzgc1t"
      },
      "execution_count": null,
      "outputs": []
    }
  ]
}